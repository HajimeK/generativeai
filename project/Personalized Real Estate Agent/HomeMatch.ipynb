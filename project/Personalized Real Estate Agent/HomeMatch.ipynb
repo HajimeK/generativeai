{
 "cells": [
  {
   "cell_type": "markdown",
   "id": "a108af04",
   "metadata": {},
   "source": [
    "# Personalized Rea Estate Agent"
   ]
  },
  {
   "cell_type": "markdown",
   "id": "9decdfad",
   "metadata": {},
   "source": [
    "## Step 1: Setting Up the Python Application\n",
    "\n",
    "```\n",
    "pip install -r requirements.txt\n",
    "\n",
    "requirements.txt\n",
    "    langchain==0.1.12\n",
    "    openai==0.28.1\n",
    "    pydantic>=1.10.12\n",
    "    pytest>=7.4.0\n",
    "    sentence-transformers>=2.2.0\n",
    "    transformers>=4.31.0\n",
    "    chromadb==0.4.15\n",
    "    jupyter==1.0.0"
   ]
  },
  {
   "cell_type": "code",
   "execution_count": 1,
   "id": "6554fd4c",
   "metadata": {},
   "outputs": [],
   "source": [
    "#from langchain.llms import OpenAI\n",
    "from langchain.chains import ConversationChain\n",
    "\n",
    "import requests"
   ]
  },
  {
   "cell_type": "markdown",
   "id": "93e1720c",
   "metadata": {},
   "source": [
    "Set OpenAI API key to environment variable so that langchain methods can refer them in the environment variables list."
   ]
  },
  {
   "cell_type": "code",
   "execution_count": 2,
   "id": "19e20bb1",
   "metadata": {},
   "outputs": [],
   "source": [
    "import os\n",
    "openai_api_key = open(\"../../api_keys/openai.key\", \"rt\").read()\n",
    "os.environ[\"openai_api_key\"] = openai_api_key\n",
    "OpenAI_CHAT_MODEL = \"gpt-3.5-turbo\"\n"
   ]
  },
  {
   "cell_type": "markdown",
   "id": "01aff40a",
   "metadata": {},
   "source": [
    "## Step 2: Generating Real Estate Listings\n",
    "\n",
    "Generate real estate listings using a Large Language Model. Generate at least 10 listings This can involve creating prompts for the LLM to produce descriptions of various properties. An example of a listing might be:"
   ]
  },
  {
   "cell_type": "code",
   "execution_count": 4,
   "id": "333c1dea",
   "metadata": {},
   "outputs": [],
   "source": [
    "import openai\n",
    "\n",
    "def generate_review(prompt, min_len):\n",
    "    OpenAI_CHAT_MODEL = \"gpt-3.5-turbo\"\n",
    "    openai_instruction = [\n",
    "        {\n",
    "            \"role\": \"system\",\n",
    "            \"content\": \"You are a real estate agent.\"},\n",
    "        {\n",
    "            \"role\": \"user\",\n",
    "            \"content\": f\"prompt_text = {prompt}\"}\n",
    "        ]\n",
    "\n",
    "    try:\n",
    "        response = openai.ChatCompletion.create(\n",
    "            model = OpenAI_CHAT_MODEL,\n",
    "            messages = openai_instruction,\n",
    "            temperature=0.6,\n",
    "            max_tokens=2000\n",
    "        )\n",
    "        review = response.choices[0].message['content'].strip()\n",
    "\n",
    "    except openai.error.OpenAIError as err:\n",
    "        print(f\"Encountered an error: {err}\")\n",
    "\n",
    "    return review\n",
    "\n"
   ]
  },
  {
   "cell_type": "markdown",
   "id": "21d1be02",
   "metadata": {},
   "source": [
    "Sample to generate synthetic sales talk and neighbor description."
   ]
  },
  {
   "cell_type": "code",
   "execution_count": 5,
   "id": "c57c3546",
   "metadata": {},
   "outputs": [],
   "source": [
    "location = \"Furano, Hokkaido, Japan\""
   ]
  },
  {
   "cell_type": "code",
   "execution_count": 6,
   "id": "517b6be0",
   "metadata": {},
   "outputs": [
    {
     "data": {
      "text/plain": [
       "'Step into your dream home in Furano, Hokkaido, Japan! This cozy real estate offers a perfect blend of comfort and style, complete with top-of-the-line appliances and modern furnishings. Embrace the tranquil surroundings and make every day a retreat in this charming property.'"
      ]
     },
     "execution_count": 6,
     "metadata": {},
     "output_type": "execute_result"
    }
   ],
   "source": [
    "review_len = 40\n",
    "prompt_text = f\"Write a {review_len} word sales talk for a cozy real estate and its equipments in {location}.\"\n",
    "generated_review = generate_review(prompt_text, min_len=review_len)\n",
    "generated_review"
   ]
  },
  {
   "cell_type": "code",
   "execution_count": 7,
   "id": "75b429e4",
   "metadata": {},
   "outputs": [
    {
     "data": {
      "text/plain": [
       "'Nestled in the picturesque town of Furano, Hokkaido, Japan, this charming neighborhood offers a tranquil setting with stunning mountain views and easy access to outdoor activities all year round.'"
      ]
     },
     "execution_count": 7,
     "metadata": {},
     "output_type": "execute_result"
    }
   ],
   "source": [
    "review_len = 30\n",
    "prompt_text = f\"Write a {review_len} word positive statement around the neighbor of a real estate in {location}.\"\n",
    "generated_neighbor = generate_review(prompt_text, min_len=review_len)\n",
    "generated_neighbor"
   ]
  },
  {
   "cell_type": "code",
   "execution_count": 8,
   "id": "b06c6a49",
   "metadata": {},
   "outputs": [
    {
     "data": {
      "text/plain": [
       "'Neighborhood,Price,Bedrooms,Bathrooms,House Size\\nSapporo,65000000,3,2,150\\nOtaru,45000000,2,1,100\\nHakodate,78000000,4,3,200\\nAsahikawa,55000000,3,2,120\\nFurano,70000000,3,2,160\\nObihiro,48000000,2,1,90\\nKitami,60000000,3,2,140\\nTomakomai,53000000,3,2,110\\nAbashiri,72000000,4,3,180\\nWakkanai,50000000,3,1,130\\nMorioka,68000000,3,2,150\\nHachinohe,52000000,2,1,100\\nAomori,75000000,4,3,190\\nHirosaki,62000000,3,2,130\\nAkita,57000000,3,2,120\\nYamagata,69000000,3,2,160\\nMorioka,51000000,3,1,110\\nSendai,74000000,4,3,180\\nFukushima,64000000,3,2,140\\nKoriyama,59000000,3,2,130'"
      ]
     },
     "execution_count": 8,
     "metadata": {},
     "output_type": "execute_result"
    }
   ],
   "source": [
    "entries = 20\n",
    "area = \"Hokkaido, Japan\"\n",
    "prompt_text = f\"Generate a csv file of {entries} entries of real estate data with a column head Neighborhood, Price, Bedrooms, Bathrooms, House Size in {area}. Bedrooms and Bathrooms are numberf of it, and the House Size in square of meters. Price in Japanese Yen. Fluctuate number of bachrooms from 1 to 3. Resond just CSV part only.\"\n",
    "csv_data = generate_review(prompt_text, min_len=review_len)\n",
    "csv_data"
   ]
  },
  {
   "cell_type": "code",
   "execution_count": 9,
   "id": "f6faa8d4",
   "metadata": {},
   "outputs": [],
   "source": [
    "with open('./HomeAgent.csv', mode='w') as f:\n",
    "    f.write(csv_data)"
   ]
  },
  {
   "cell_type": "code",
   "execution_count": 10,
   "id": "aa599a68",
   "metadata": {},
   "outputs": [
    {
     "data": {
      "text/html": [
       "<div>\n",
       "<style scoped>\n",
       "    .dataframe tbody tr th:only-of-type {\n",
       "        vertical-align: middle;\n",
       "    }\n",
       "\n",
       "    .dataframe tbody tr th {\n",
       "        vertical-align: top;\n",
       "    }\n",
       "\n",
       "    .dataframe thead th {\n",
       "        text-align: right;\n",
       "    }\n",
       "</style>\n",
       "<table border=\"1\" class=\"dataframe\">\n",
       "  <thead>\n",
       "    <tr style=\"text-align: right;\">\n",
       "      <th></th>\n",
       "      <th>Neighborhood</th>\n",
       "      <th>Price</th>\n",
       "      <th>Bedrooms</th>\n",
       "      <th>Bathrooms</th>\n",
       "      <th>House Size</th>\n",
       "    </tr>\n",
       "  </thead>\n",
       "  <tbody>\n",
       "    <tr>\n",
       "      <th>0</th>\n",
       "      <td>Sapporo</td>\n",
       "      <td>65000000</td>\n",
       "      <td>3</td>\n",
       "      <td>2</td>\n",
       "      <td>150</td>\n",
       "    </tr>\n",
       "    <tr>\n",
       "      <th>1</th>\n",
       "      <td>Otaru</td>\n",
       "      <td>45000000</td>\n",
       "      <td>2</td>\n",
       "      <td>1</td>\n",
       "      <td>100</td>\n",
       "    </tr>\n",
       "    <tr>\n",
       "      <th>2</th>\n",
       "      <td>Hakodate</td>\n",
       "      <td>78000000</td>\n",
       "      <td>4</td>\n",
       "      <td>3</td>\n",
       "      <td>200</td>\n",
       "    </tr>\n",
       "    <tr>\n",
       "      <th>3</th>\n",
       "      <td>Asahikawa</td>\n",
       "      <td>55000000</td>\n",
       "      <td>3</td>\n",
       "      <td>2</td>\n",
       "      <td>120</td>\n",
       "    </tr>\n",
       "    <tr>\n",
       "      <th>4</th>\n",
       "      <td>Furano</td>\n",
       "      <td>70000000</td>\n",
       "      <td>3</td>\n",
       "      <td>2</td>\n",
       "      <td>160</td>\n",
       "    </tr>\n",
       "    <tr>\n",
       "      <th>5</th>\n",
       "      <td>Obihiro</td>\n",
       "      <td>48000000</td>\n",
       "      <td>2</td>\n",
       "      <td>1</td>\n",
       "      <td>90</td>\n",
       "    </tr>\n",
       "    <tr>\n",
       "      <th>6</th>\n",
       "      <td>Kitami</td>\n",
       "      <td>60000000</td>\n",
       "      <td>3</td>\n",
       "      <td>2</td>\n",
       "      <td>140</td>\n",
       "    </tr>\n",
       "    <tr>\n",
       "      <th>7</th>\n",
       "      <td>Tomakomai</td>\n",
       "      <td>53000000</td>\n",
       "      <td>3</td>\n",
       "      <td>2</td>\n",
       "      <td>110</td>\n",
       "    </tr>\n",
       "    <tr>\n",
       "      <th>8</th>\n",
       "      <td>Abashiri</td>\n",
       "      <td>72000000</td>\n",
       "      <td>4</td>\n",
       "      <td>3</td>\n",
       "      <td>180</td>\n",
       "    </tr>\n",
       "    <tr>\n",
       "      <th>9</th>\n",
       "      <td>Wakkanai</td>\n",
       "      <td>50000000</td>\n",
       "      <td>3</td>\n",
       "      <td>1</td>\n",
       "      <td>130</td>\n",
       "    </tr>\n",
       "    <tr>\n",
       "      <th>10</th>\n",
       "      <td>Morioka</td>\n",
       "      <td>68000000</td>\n",
       "      <td>3</td>\n",
       "      <td>2</td>\n",
       "      <td>150</td>\n",
       "    </tr>\n",
       "    <tr>\n",
       "      <th>11</th>\n",
       "      <td>Hachinohe</td>\n",
       "      <td>52000000</td>\n",
       "      <td>2</td>\n",
       "      <td>1</td>\n",
       "      <td>100</td>\n",
       "    </tr>\n",
       "    <tr>\n",
       "      <th>12</th>\n",
       "      <td>Aomori</td>\n",
       "      <td>75000000</td>\n",
       "      <td>4</td>\n",
       "      <td>3</td>\n",
       "      <td>190</td>\n",
       "    </tr>\n",
       "    <tr>\n",
       "      <th>13</th>\n",
       "      <td>Hirosaki</td>\n",
       "      <td>62000000</td>\n",
       "      <td>3</td>\n",
       "      <td>2</td>\n",
       "      <td>130</td>\n",
       "    </tr>\n",
       "    <tr>\n",
       "      <th>14</th>\n",
       "      <td>Akita</td>\n",
       "      <td>57000000</td>\n",
       "      <td>3</td>\n",
       "      <td>2</td>\n",
       "      <td>120</td>\n",
       "    </tr>\n",
       "    <tr>\n",
       "      <th>15</th>\n",
       "      <td>Yamagata</td>\n",
       "      <td>69000000</td>\n",
       "      <td>3</td>\n",
       "      <td>2</td>\n",
       "      <td>160</td>\n",
       "    </tr>\n",
       "    <tr>\n",
       "      <th>16</th>\n",
       "      <td>Morioka</td>\n",
       "      <td>51000000</td>\n",
       "      <td>3</td>\n",
       "      <td>1</td>\n",
       "      <td>110</td>\n",
       "    </tr>\n",
       "    <tr>\n",
       "      <th>17</th>\n",
       "      <td>Sendai</td>\n",
       "      <td>74000000</td>\n",
       "      <td>4</td>\n",
       "      <td>3</td>\n",
       "      <td>180</td>\n",
       "    </tr>\n",
       "    <tr>\n",
       "      <th>18</th>\n",
       "      <td>Fukushima</td>\n",
       "      <td>64000000</td>\n",
       "      <td>3</td>\n",
       "      <td>2</td>\n",
       "      <td>140</td>\n",
       "    </tr>\n",
       "    <tr>\n",
       "      <th>19</th>\n",
       "      <td>Koriyama</td>\n",
       "      <td>59000000</td>\n",
       "      <td>3</td>\n",
       "      <td>2</td>\n",
       "      <td>130</td>\n",
       "    </tr>\n",
       "  </tbody>\n",
       "</table>\n",
       "</div>"
      ],
      "text/plain": [
       "   Neighborhood     Price  Bedrooms  Bathrooms  House Size\n",
       "0       Sapporo  65000000         3          2         150\n",
       "1         Otaru  45000000         2          1         100\n",
       "2      Hakodate  78000000         4          3         200\n",
       "3     Asahikawa  55000000         3          2         120\n",
       "4        Furano  70000000         3          2         160\n",
       "5       Obihiro  48000000         2          1          90\n",
       "6        Kitami  60000000         3          2         140\n",
       "7     Tomakomai  53000000         3          2         110\n",
       "8      Abashiri  72000000         4          3         180\n",
       "9      Wakkanai  50000000         3          1         130\n",
       "10      Morioka  68000000         3          2         150\n",
       "11    Hachinohe  52000000         2          1         100\n",
       "12       Aomori  75000000         4          3         190\n",
       "13     Hirosaki  62000000         3          2         130\n",
       "14        Akita  57000000         3          2         120\n",
       "15     Yamagata  69000000         3          2         160\n",
       "16      Morioka  51000000         3          1         110\n",
       "17       Sendai  74000000         4          3         180\n",
       "18    Fukushima  64000000         3          2         140\n",
       "19     Koriyama  59000000         3          2         130"
      ]
     },
     "execution_count": 10,
     "metadata": {},
     "output_type": "execute_result"
    }
   ],
   "source": [
    "import pandas as pd\n",
    "\n",
    "df = pd.read_csv('./HomeAgent.csv')\n",
    "df"
   ]
  },
  {
   "cell_type": "code",
   "execution_count": 11,
   "id": "0ead24e9",
   "metadata": {},
   "outputs": [],
   "source": [
    "description = []\n",
    "neibhborhooddescription = []\n",
    "\n",
    "for index, row in df.iterrows():\n",
    "    review_len = 40\n",
    "    location = row['Neighborhood']\n",
    "    prompt_text = f\"Write a {review_len} word sales talk for a cozy real estate and its equipments in {location}. Mention randomly about the amenities equipped.\"\n",
    "    description.append(generate_review(prompt_text, min_len=review_len))\n",
    "\n",
    "    review_len = 30\n",
    "    prompt_text = f\"Write a {review_len} word positive statement around the neighbor of a real estate in {location}. Mention randomly about the transportation lines, schools, shoppings, and leisure facilities nearby. Also mention about degree of urban randomly in its vicinity.\"\n",
    "    neibhborhooddescription.append(generate_review(prompt_text, min_len=review_len))\n",
    "\n",
    "df['Description'] = description\n",
    "df['Neighborhood Description'] = neibhborhooddescription"
   ]
  },
  {
   "cell_type": "code",
   "execution_count": 12,
   "id": "7bd5674a",
   "metadata": {},
   "outputs": [
    {
     "data": {
      "text/html": [
       "<div>\n",
       "<style scoped>\n",
       "    .dataframe tbody tr th:only-of-type {\n",
       "        vertical-align: middle;\n",
       "    }\n",
       "\n",
       "    .dataframe tbody tr th {\n",
       "        vertical-align: top;\n",
       "    }\n",
       "\n",
       "    .dataframe thead th {\n",
       "        text-align: right;\n",
       "    }\n",
       "</style>\n",
       "<table border=\"1\" class=\"dataframe\">\n",
       "  <thead>\n",
       "    <tr style=\"text-align: right;\">\n",
       "      <th></th>\n",
       "      <th>Neighborhood</th>\n",
       "      <th>Price</th>\n",
       "      <th>Bedrooms</th>\n",
       "      <th>Bathrooms</th>\n",
       "      <th>House Size</th>\n",
       "      <th>Description</th>\n",
       "      <th>Neighborhood Description</th>\n",
       "    </tr>\n",
       "  </thead>\n",
       "  <tbody>\n",
       "    <tr>\n",
       "      <th>0</th>\n",
       "      <td>Sapporo</td>\n",
       "      <td>65000000</td>\n",
       "      <td>3</td>\n",
       "      <td>2</td>\n",
       "      <td>150</td>\n",
       "      <td>Welcome to this charming Sapporo property! Thi...</td>\n",
       "      <td>Located in Sapporo, this real estate boasts a ...</td>\n",
       "    </tr>\n",
       "    <tr>\n",
       "      <th>1</th>\n",
       "      <td>Otaru</td>\n",
       "      <td>45000000</td>\n",
       "      <td>2</td>\n",
       "      <td>1</td>\n",
       "      <td>100</td>\n",
       "      <td>Step into your dream home in Otaru, where cozy...</td>\n",
       "      <td>Located in Otaru, this property boasts easy ac...</td>\n",
       "    </tr>\n",
       "    <tr>\n",
       "      <th>2</th>\n",
       "      <td>Hakodate</td>\n",
       "      <td>78000000</td>\n",
       "      <td>4</td>\n",
       "      <td>3</td>\n",
       "      <td>200</td>\n",
       "      <td>Step into your dream home in Hakodate, where c...</td>\n",
       "      <td>\"Located in Hakodate, this property boasts eas...</td>\n",
       "    </tr>\n",
       "    <tr>\n",
       "      <th>3</th>\n",
       "      <td>Asahikawa</td>\n",
       "      <td>55000000</td>\n",
       "      <td>3</td>\n",
       "      <td>2</td>\n",
       "      <td>120</td>\n",
       "      <td>Step into your cozy Asahikawa retreat featurin...</td>\n",
       "      <td>Nestled in Asahikawa, this property boasts eas...</td>\n",
       "    </tr>\n",
       "    <tr>\n",
       "      <th>4</th>\n",
       "      <td>Furano</td>\n",
       "      <td>70000000</td>\n",
       "      <td>3</td>\n",
       "      <td>2</td>\n",
       "      <td>160</td>\n",
       "      <td>Step into your dream home in Furano, where coz...</td>\n",
       "      <td>Discover Furano's charming neighborhood with c...</td>\n",
       "    </tr>\n",
       "    <tr>\n",
       "      <th>5</th>\n",
       "      <td>Obihiro</td>\n",
       "      <td>48000000</td>\n",
       "      <td>2</td>\n",
       "      <td>1</td>\n",
       "      <td>90</td>\n",
       "      <td>Step into your dream home in Obihiro! This coz...</td>\n",
       "      <td>Discover the charm of living in Obihiro! This ...</td>\n",
       "    </tr>\n",
       "    <tr>\n",
       "      <th>6</th>\n",
       "      <td>Kitami</td>\n",
       "      <td>60000000</td>\n",
       "      <td>3</td>\n",
       "      <td>2</td>\n",
       "      <td>140</td>\n",
       "      <td>Step into your dream home in Kitami! This cozy...</td>\n",
       "      <td>Nestled in Kitami, this property boasts easy a...</td>\n",
       "    </tr>\n",
       "    <tr>\n",
       "      <th>7</th>\n",
       "      <td>Tomakomai</td>\n",
       "      <td>53000000</td>\n",
       "      <td>3</td>\n",
       "      <td>2</td>\n",
       "      <td>110</td>\n",
       "      <td>Step into your dream home in Tomakomai! This c...</td>\n",
       "      <td>Tomakomai offers a vibrant neighborhood with e...</td>\n",
       "    </tr>\n",
       "    <tr>\n",
       "      <th>8</th>\n",
       "      <td>Abashiri</td>\n",
       "      <td>72000000</td>\n",
       "      <td>4</td>\n",
       "      <td>3</td>\n",
       "      <td>180</td>\n",
       "      <td>Step into your dream home in Abashiri! This co...</td>\n",
       "      <td>Discover the charm of living in Abashiri! Enjo...</td>\n",
       "    </tr>\n",
       "    <tr>\n",
       "      <th>9</th>\n",
       "      <td>Wakkanai</td>\n",
       "      <td>50000000</td>\n",
       "      <td>3</td>\n",
       "      <td>1</td>\n",
       "      <td>130</td>\n",
       "      <td>Step into your dream home in Wakkanai! This co...</td>\n",
       "      <td>Located in Wakkanai, this property boasts exce...</td>\n",
       "    </tr>\n",
       "    <tr>\n",
       "      <th>10</th>\n",
       "      <td>Morioka</td>\n",
       "      <td>68000000</td>\n",
       "      <td>3</td>\n",
       "      <td>2</td>\n",
       "      <td>150</td>\n",
       "      <td>Step into your new cozy home in Morioka, where...</td>\n",
       "      <td>Nestled in Morioka, this neighborhood boasts e...</td>\n",
       "    </tr>\n",
       "    <tr>\n",
       "      <th>11</th>\n",
       "      <td>Hachinohe</td>\n",
       "      <td>52000000</td>\n",
       "      <td>2</td>\n",
       "      <td>1</td>\n",
       "      <td>100</td>\n",
       "      <td>Step into this charming home in Hachinohe, whe...</td>\n",
       "      <td>Nestled in Hachinohe, this vibrant neighborhoo...</td>\n",
       "    </tr>\n",
       "    <tr>\n",
       "      <th>12</th>\n",
       "      <td>Aomori</td>\n",
       "      <td>75000000</td>\n",
       "      <td>4</td>\n",
       "      <td>3</td>\n",
       "      <td>190</td>\n",
       "      <td>Step into your dream home in Aomori! This cozy...</td>\n",
       "      <td>Nestled in Aomori's charming neighborhood, thi...</td>\n",
       "    </tr>\n",
       "    <tr>\n",
       "      <th>13</th>\n",
       "      <td>Hirosaki</td>\n",
       "      <td>62000000</td>\n",
       "      <td>3</td>\n",
       "      <td>2</td>\n",
       "      <td>130</td>\n",
       "      <td>Step into your dream home in Hirosaki! This co...</td>\n",
       "      <td>Located in Hirosaki, this charming neighborhoo...</td>\n",
       "    </tr>\n",
       "    <tr>\n",
       "      <th>14</th>\n",
       "      <td>Akita</td>\n",
       "      <td>57000000</td>\n",
       "      <td>3</td>\n",
       "      <td>2</td>\n",
       "      <td>120</td>\n",
       "      <td>Welcome to this cozy real estate in Akita! Enj...</td>\n",
       "      <td>Nestled in Akita's charming neighborhood, this...</td>\n",
       "    </tr>\n",
       "    <tr>\n",
       "      <th>15</th>\n",
       "      <td>Yamagata</td>\n",
       "      <td>69000000</td>\n",
       "      <td>3</td>\n",
       "      <td>2</td>\n",
       "      <td>160</td>\n",
       "      <td>Step into your dream home in beautiful Yamagat...</td>\n",
       "      <td>Located in scenic Yamagata, this property boas...</td>\n",
       "    </tr>\n",
       "    <tr>\n",
       "      <th>16</th>\n",
       "      <td>Morioka</td>\n",
       "      <td>51000000</td>\n",
       "      <td>3</td>\n",
       "      <td>1</td>\n",
       "      <td>110</td>\n",
       "      <td>Step into your dream home in Morioka! This coz...</td>\n",
       "      <td>\"Located in Morioka, this charming neighborhoo...</td>\n",
       "    </tr>\n",
       "    <tr>\n",
       "      <th>17</th>\n",
       "      <td>Sendai</td>\n",
       "      <td>74000000</td>\n",
       "      <td>4</td>\n",
       "      <td>3</td>\n",
       "      <td>180</td>\n",
       "      <td>Step into your dream home in vibrant Sendai! T...</td>\n",
       "      <td>Nestled in Sendai's vibrant neighborhood, this...</td>\n",
       "    </tr>\n",
       "    <tr>\n",
       "      <th>18</th>\n",
       "      <td>Fukushima</td>\n",
       "      <td>64000000</td>\n",
       "      <td>3</td>\n",
       "      <td>2</td>\n",
       "      <td>140</td>\n",
       "      <td>Welcome to this charming property in Fukushima...</td>\n",
       "      <td>Located in Fukushima, this vibrant neighborhoo...</td>\n",
       "    </tr>\n",
       "    <tr>\n",
       "      <th>19</th>\n",
       "      <td>Koriyama</td>\n",
       "      <td>59000000</td>\n",
       "      <td>3</td>\n",
       "      <td>2</td>\n",
       "      <td>130</td>\n",
       "      <td>Step into your dream home in Koriyama! This co...</td>\n",
       "      <td>Nestled in Koriyama, this charming neighborhoo...</td>\n",
       "    </tr>\n",
       "  </tbody>\n",
       "</table>\n",
       "</div>"
      ],
      "text/plain": [
       "   Neighborhood     Price  Bedrooms  Bathrooms  House Size  \\\n",
       "0       Sapporo  65000000         3          2         150   \n",
       "1         Otaru  45000000         2          1         100   \n",
       "2      Hakodate  78000000         4          3         200   \n",
       "3     Asahikawa  55000000         3          2         120   \n",
       "4        Furano  70000000         3          2         160   \n",
       "5       Obihiro  48000000         2          1          90   \n",
       "6        Kitami  60000000         3          2         140   \n",
       "7     Tomakomai  53000000         3          2         110   \n",
       "8      Abashiri  72000000         4          3         180   \n",
       "9      Wakkanai  50000000         3          1         130   \n",
       "10      Morioka  68000000         3          2         150   \n",
       "11    Hachinohe  52000000         2          1         100   \n",
       "12       Aomori  75000000         4          3         190   \n",
       "13     Hirosaki  62000000         3          2         130   \n",
       "14        Akita  57000000         3          2         120   \n",
       "15     Yamagata  69000000         3          2         160   \n",
       "16      Morioka  51000000         3          1         110   \n",
       "17       Sendai  74000000         4          3         180   \n",
       "18    Fukushima  64000000         3          2         140   \n",
       "19     Koriyama  59000000         3          2         130   \n",
       "\n",
       "                                          Description  \\\n",
       "0   Welcome to this charming Sapporo property! Thi...   \n",
       "1   Step into your dream home in Otaru, where cozy...   \n",
       "2   Step into your dream home in Hakodate, where c...   \n",
       "3   Step into your cozy Asahikawa retreat featurin...   \n",
       "4   Step into your dream home in Furano, where coz...   \n",
       "5   Step into your dream home in Obihiro! This coz...   \n",
       "6   Step into your dream home in Kitami! This cozy...   \n",
       "7   Step into your dream home in Tomakomai! This c...   \n",
       "8   Step into your dream home in Abashiri! This co...   \n",
       "9   Step into your dream home in Wakkanai! This co...   \n",
       "10  Step into your new cozy home in Morioka, where...   \n",
       "11  Step into this charming home in Hachinohe, whe...   \n",
       "12  Step into your dream home in Aomori! This cozy...   \n",
       "13  Step into your dream home in Hirosaki! This co...   \n",
       "14  Welcome to this cozy real estate in Akita! Enj...   \n",
       "15  Step into your dream home in beautiful Yamagat...   \n",
       "16  Step into your dream home in Morioka! This coz...   \n",
       "17  Step into your dream home in vibrant Sendai! T...   \n",
       "18  Welcome to this charming property in Fukushima...   \n",
       "19  Step into your dream home in Koriyama! This co...   \n",
       "\n",
       "                             Neighborhood Description  \n",
       "0   Located in Sapporo, this real estate boasts a ...  \n",
       "1   Located in Otaru, this property boasts easy ac...  \n",
       "2   \"Located in Hakodate, this property boasts eas...  \n",
       "3   Nestled in Asahikawa, this property boasts eas...  \n",
       "4   Discover Furano's charming neighborhood with c...  \n",
       "5   Discover the charm of living in Obihiro! This ...  \n",
       "6   Nestled in Kitami, this property boasts easy a...  \n",
       "7   Tomakomai offers a vibrant neighborhood with e...  \n",
       "8   Discover the charm of living in Abashiri! Enjo...  \n",
       "9   Located in Wakkanai, this property boasts exce...  \n",
       "10  Nestled in Morioka, this neighborhood boasts e...  \n",
       "11  Nestled in Hachinohe, this vibrant neighborhoo...  \n",
       "12  Nestled in Aomori's charming neighborhood, thi...  \n",
       "13  Located in Hirosaki, this charming neighborhoo...  \n",
       "14  Nestled in Akita's charming neighborhood, this...  \n",
       "15  Located in scenic Yamagata, this property boas...  \n",
       "16  \"Located in Morioka, this charming neighborhoo...  \n",
       "17  Nestled in Sendai's vibrant neighborhood, this...  \n",
       "18  Located in Fukushima, this vibrant neighborhoo...  \n",
       "19  Nestled in Koriyama, this charming neighborhoo...  "
      ]
     },
     "execution_count": 12,
     "metadata": {},
     "output_type": "execute_result"
    }
   ],
   "source": [
    "df"
   ]
  },
  {
   "cell_type": "markdown",
   "id": "833bb4c5",
   "metadata": {},
   "source": [
    "Store the CSV, so as not generate the file repeated ly."
   ]
  },
  {
   "cell_type": "code",
   "execution_count": 13,
   "id": "c6f003c5",
   "metadata": {},
   "outputs": [],
   "source": [
    "df.to_csv('./HomeAgent2.csv')"
   ]
  },
  {
   "cell_type": "markdown",
   "id": "1a1b4390",
   "metadata": {},
   "source": [
    "Load it the dataset from a file."
   ]
  },
  {
   "cell_type": "markdown",
   "id": "9be47368",
   "metadata": {},
   "source": [
    "## Step 3: Storing Listings in a Vector Database\n",
    "\n",
    "- **Vector Database Setup**: Initialize and configure ChromaDB or a similar vector database to store real estate listings.\n",
    "- **Generating and Storing Embeddings**: Convert the LLM-generated listings into suitable embeddings that capture the semantic content of each listing, and store these embeddings in the vector database."
   ]
  },
  {
   "cell_type": "code",
   "execution_count": 14,
   "id": "03a2f31d",
   "metadata": {},
   "outputs": [],
   "source": [
    "# Chroma DB packages\n",
    "from langchain.vectorstores import Chroma\n",
    "from langchain.chains import RetrievalQA, ConversationalRetrievalChain\n",
    "from langchain.embeddings.openai import OpenAIEmbeddings\n",
    "from langchain.chains.question_answering import load_qa_chain"
   ]
  },
  {
   "cell_type": "code",
   "execution_count": 15,
   "id": "d4e0468c",
   "metadata": {},
   "outputs": [],
   "source": [
    "import os\n",
    "openai_api_key = open(\"../../api_keys/openai.key\", \"rt\").read()\n",
    "os.environ[\"openai_api_key\"] = openai_api_key\n",
    "OpenAI_CHAT_MODEL = \"gpt-3.5-turbo\"\n"
   ]
  },
  {
   "cell_type": "code",
   "execution_count": 16,
   "id": "014d350a",
   "metadata": {},
   "outputs": [],
   "source": [
    "from langchain.document_loaders.csv_loader import CSVLoader\n",
    "from langchain.text_splitter import CharacterTextSplitter\n",
    "\n",
    "loader = CSVLoader(file_path='./HomeAgent2.csv')\n",
    "docs = loader.load()\n",
    "\n",
    "splitter = CharacterTextSplitter(chunk_size=1000, chunk_overlap=0)\n",
    "split_docs = splitter.split_documents(docs)\n"
   ]
  },
  {
   "cell_type": "code",
   "execution_count": 17,
   "id": "bc6dd64a",
   "metadata": {},
   "outputs": [
    {
     "name": "stderr",
     "output_type": "stream",
     "text": [
      "c:\\ProgramData\\anaconda3\\envs\\langchain\\Lib\\site-packages\\langchain_core\\_api\\deprecation.py:117: LangChainDeprecationWarning: The class `langchain_community.embeddings.openai.OpenAIEmbeddings` was deprecated in langchain-community 0.0.9 and will be removed in 0.2.0. An updated version of the class exists in the langchain-openai package and should be used instead. To use it run `pip install -U langchain-openai` and import as `from langchain_openai import OpenAIEmbeddings`.\n",
      "  warn_deprecated(\n"
     ]
    }
   ],
   "source": [
    "#db = Chroma.from_documents(chunks, OpenAIEmbeddings())\n",
    "db = Chroma.from_documents(documents = split_docs,\n",
    "                        embedding = OpenAIEmbeddings(),\n",
    "                        persist_directory='./data')"
   ]
  },
  {
   "cell_type": "code",
   "execution_count": 18,
   "id": "97daa7ec",
   "metadata": {},
   "outputs": [
    {
     "data": {
      "text/plain": [
       "[Document(page_content=': 0\\nNeighborhood: Sapporo\\nPrice: 45000000\\nBedrooms: 3\\nBathrooms: 2\\nHouse Size: 150\\nDescription: Step into your dream home in Sapporo! This cozy real estate gem comes fully equipped with modern amenities like a spacious kitchen, luxurious bathroom, and a cozy fireplace. Enjoy the convenience of nearby parks, shopping centers, and public transportation. Welcome home!\\nNeighborhood Description: \"Located in Sapporo, this property boasts excellent access to transportation lines, top-rated schools, shopping centers, and leisure facilities. Enjoy the perfect blend of urban convenience and peaceful surroundings.\"', metadata={'row': 0, 'source': './HomeAgent2.csv'}),\n",
       " Document(page_content=': 0\\nNeighborhood: Sapporo\\nPrice: 45000000\\nBedrooms: 3\\nBathrooms: 2\\nHouse Size: 150\\nDescription: Step into your dream home in Sapporo! This cozy real estate gem comes fully equipped with modern amenities like a spacious kitchen, luxurious bathroom, and a cozy fireplace. Enjoy the convenience of nearby parks, shopping centers, and public transportation. Welcome home!\\nNeighborhood Description: \"Located in Sapporo, this property boasts excellent access to transportation lines, top-rated schools, shopping centers, and leisure facilities. Enjoy the perfect blend of urban convenience and peaceful surroundings.\"', metadata={'row': 0, 'source': './HomeAgent2.csv'}),\n",
       " Document(page_content=': 0\\nNeighborhood: Sapporo\\nPrice: 45000000\\nBedrooms: 3\\nBathrooms: 2\\nHouse Size: 150\\nDescription: Step into your dream home in Sapporo! This cozy real estate gem comes fully equipped with modern amenities like a spacious kitchen, luxurious bathroom, and a cozy fireplace. Enjoy the convenience of nearby parks, shopping centers, and public transportation. Welcome home!\\nNeighborhood Description: \"Located in Sapporo, this property boasts excellent access to transportation lines, top-rated schools, shopping centers, and leisure facilities. Enjoy the perfect blend of urban convenience and peaceful surroundings.\"', metadata={'row': 0, 'source': './HomeAgent2.csv'}),\n",
       " Document(page_content=': 3\\nNeighborhood: Asahikawa\\nPrice: 28000000\\nBedrooms: 2\\nBathrooms: 1\\nHouse Size: 90\\nDescription: Step into your dream home in Asahikawa! This cozy property comes fully equipped with modern amenities such as a spacious kitchen, a relaxing hot tub, and a beautiful garden. Enjoy the peaceful surroundings and make this charming house your own slice of paradise.\\nNeighborhood Description: Located in Asahikawa, this property boasts excellent transportation links, top-rated schools, shopping centers, and recreational facilities nearby. Enjoy the perfect balance of urban convenience and peaceful surroundings.', metadata={'row': 3, 'source': './HomeAgent2.csv'})]"
      ]
     },
     "execution_count": 18,
     "metadata": {},
     "output_type": "execute_result"
    }
   ],
   "source": [
    "matching_docs = db.similarity_search(\"Which resident has good transportation?\")\n",
    "matching_docs"
   ]
  },
  {
   "cell_type": "markdown",
   "id": "d0a5208c",
   "metadata": {},
   "source": [
    "## Step 4: Building the User Preference Interface\n",
    "\n",
    "Collect buyer preferences, such as the number of bedrooms, bathrooms, location, and other specific requirements from a set of questions or telling the buyer to enter their preferences in natural language. You can hard-code the buyer preferences in questions and answers, or collect them interactively however you'd like, example:"
   ]
  },
  {
   "cell_type": "code",
   "execution_count": 19,
   "id": "ca4f1819",
   "metadata": {},
   "outputs": [
    {
     "name": "stderr",
     "output_type": "stream",
     "text": [
      "c:\\ProgramData\\anaconda3\\envs\\langchain\\Lib\\site-packages\\langchain_core\\_api\\deprecation.py:117: LangChainDeprecationWarning: The class `langchain_community.chat_models.openai.ChatOpenAI` was deprecated in langchain-community 0.0.10 and will be removed in 0.2.0. An updated version of the class exists in the langchain-openai package and should be used instead. To use it run `pip install -U langchain-openai` and import as `from langchain_openai import ChatOpenAI`.\n",
      "  warn_deprecated(\n"
     ]
    }
   ],
   "source": [
    "from langchain.chat_models import ChatOpenAI\n",
    "llm = ChatOpenAI(openai_api_key=openai_api_key,\n",
    "            model_name=OpenAI_CHAT_MODEL,\n",
    "            temperature=0.6,\n",
    "            max_tokens=2000)"
   ]
  },
  {
   "cell_type": "code",
   "execution_count": 20,
   "id": "2f7d568a",
   "metadata": {},
   "outputs": [
    {
     "name": "stderr",
     "output_type": "stream",
     "text": [
      "c:\\ProgramData\\anaconda3\\envs\\langchain\\Lib\\site-packages\\langchain_core\\_api\\deprecation.py:117: LangChainDeprecationWarning: The function `run` was deprecated in LangChain 0.1.0 and will be removed in 0.2.0. Use invoke instead.\n",
      "  warn_deprecated(\n"
     ]
    },
    {
     "name": "stdout",
     "output_type": "stream",
     "text": [
      "\n",
      "\n",
      "\u001b[1m> Entering new StuffDocumentsChain chain...\u001b[0m\n",
      "\n",
      "\n",
      "\u001b[1m> Entering new LLMChain chain...\u001b[0m\n",
      "Prompt after formatting:\n",
      "\u001b[32;1m\u001b[1;3mSystem: Use the following pieces of context to answer the user's question. \n",
      "If you don't know the answer, just say that you don't know, don't try to make up an answer.\n",
      "----------------\n",
      ": 0\n",
      "Neighborhood: Sapporo\n",
      "Price: 45000000\n",
      "Bedrooms: 3\n",
      "Bathrooms: 2\n",
      "House Size: 150\n",
      "Description: Step into your dream home in Sapporo! This cozy real estate gem comes fully equipped with modern amenities like a spacious kitchen, luxurious bathroom, and a cozy fireplace. Enjoy the convenience of nearby parks, shopping centers, and public transportation. Welcome home!\n",
      "Neighborhood Description: \"Located in Sapporo, this property boasts excellent access to transportation lines, top-rated schools, shopping centers, and leisure facilities. Enjoy the perfect blend of urban convenience and peaceful surroundings.\"\n",
      "\n",
      ": 0\n",
      "Neighborhood: Sapporo\n",
      "Price: 45000000\n",
      "Bedrooms: 3\n",
      "Bathrooms: 2\n",
      "House Size: 150\n",
      "Description: Step into your dream home in Sapporo! This cozy real estate gem comes fully equipped with modern amenities like a spacious kitchen, luxurious bathroom, and a cozy fireplace. Enjoy the convenience of nearby parks, shopping centers, and public transportation. Welcome home!\n",
      "Neighborhood Description: \"Located in Sapporo, this property boasts excellent access to transportation lines, top-rated schools, shopping centers, and leisure facilities. Enjoy the perfect blend of urban convenience and peaceful surroundings.\"\n",
      "\n",
      ": 0\n",
      "Neighborhood: Sapporo\n",
      "Price: 45000000\n",
      "Bedrooms: 3\n",
      "Bathrooms: 2\n",
      "House Size: 150\n",
      "Description: Step into your dream home in Sapporo! This cozy real estate gem comes fully equipped with modern amenities like a spacious kitchen, luxurious bathroom, and a cozy fireplace. Enjoy the convenience of nearby parks, shopping centers, and public transportation. Welcome home!\n",
      "Neighborhood Description: \"Located in Sapporo, this property boasts excellent access to transportation lines, top-rated schools, shopping centers, and leisure facilities. Enjoy the perfect blend of urban convenience and peaceful surroundings.\"\n",
      "\n",
      ": 3\n",
      "Neighborhood: Asahikawa\n",
      "Price: 28000000\n",
      "Bedrooms: 2\n",
      "Bathrooms: 1\n",
      "House Size: 90\n",
      "Description: Step into your dream home in Asahikawa! This cozy property comes fully equipped with modern amenities such as a spacious kitchen, a relaxing hot tub, and a beautiful garden. Enjoy the peaceful surroundings and make this charming house your own slice of paradise.\n",
      "Neighborhood Description: Located in Asahikawa, this property boasts excellent transportation links, top-rated schools, shopping centers, and recreational facilities nearby. Enjoy the perfect balance of urban convenience and peaceful surroundings.\n",
      "Human: Which resident has good transportation?\u001b[0m\n",
      "\n",
      "\u001b[1m> Finished chain.\u001b[0m\n",
      "\n",
      "\u001b[1m> Finished chain.\u001b[0m\n"
     ]
    },
    {
     "data": {
      "text/plain": [
       "'Both residents in Sapporo and Asahikawa boast excellent access to transportation lines, so both neighborhoods have good transportation options for residents.'"
      ]
     },
     "execution_count": 20,
     "metadata": {},
     "output_type": "execute_result"
    }
   ],
   "source": [
    "from langchain.chains.question_answering import load_qa_chain\n",
    "chain = load_qa_chain(llm, chain_type=\"stuff\",verbose=True)\n",
    "\n",
    "answer =  chain.run(input_documents=matching_docs, question=\"Which resident has good transportation?\")\n",
    "answer"
   ]
  },
  {
   "cell_type": "code",
   "execution_count": 21,
   "id": "38e60be5",
   "metadata": {},
   "outputs": [
    {
     "data": {
      "text/plain": [
       "'Both residents in Sapporo and Asahikawa have good transportation options. The properties in both neighborhoods are described as having excellent access to transportation lines, making it convenient for residents to get around.'"
      ]
     },
     "execution_count": 21,
     "metadata": {},
     "output_type": "execute_result"
    }
   ],
   "source": [
    "from langchain.chains import RetrievalQA\n",
    "retrieval_chain = RetrievalQA.from_chain_type(llm, chain_type=\"stuff\", retriever=db.as_retriever())\n",
    "retrieval_chain.run(\"Which resident has good transportation?\")"
   ]
  },
  {
   "cell_type": "markdown",
   "id": "a46b578b",
   "metadata": {},
   "source": [
    "Buyer Preference Parsing: Implement logic to interpret and structure these preferences for inputing the vector database."
   ]
  },
  {
   "cell_type": "code",
   "execution_count": 22,
   "id": "73152180",
   "metadata": {},
   "outputs": [],
   "source": [
    "from langchain.prompts import PromptTemplate\n",
    "from langchain.schema import AIMessage, HumanMessage, SystemMessage\n",
    "from langchain.memory import ConversationSummaryMemory, ConversationBufferMemory, CombinedMemory, ChatMessageHistory\n",
    "from typing import Any, Dict, Optional, Tuple\n"
   ]
  },
  {
   "cell_type": "code",
   "execution_count": 23,
   "id": "012cb881",
   "metadata": {},
   "outputs": [],
   "source": [
    "questions = [\n",
    "                \"How big do you want your house to be?\",\n",
    "                \"What are 3 most important things for you in choosing this property?\",\n",
    "                \"Which amenities would you like?\",\n",
    "                \"Which transportation options are important to you?\",\n",
    "                \"How urban do you want your neighborhood to be?\",\n",
    "            ]\n",
    "answers = [\n",
    "                \"A comfortable three-bedroom house with a spacious kitchen and a cozy living room.\",\n",
    "                \"A quiet neighborhood, good local schools, and convenient shopping options.\",\n",
    "                \"A backyard for gardening, a two-car garage, and a modern, energy-efficient heating system.\",\n",
    "                \"Easy access to a reliable bus line, proximity to a major highway, and bike-friendly roads.\",\n",
    "                \"A balance between suburban tranquility and access to urban amenities like restaurants and theaters.\"\n",
    "            ]"
   ]
  },
  {
   "cell_type": "code",
   "execution_count": 24,
   "id": "427ed1f4",
   "metadata": {},
   "outputs": [],
   "source": [
    "# Construct a conversational history\n",
    "history = ChatMessageHistory()\n",
    "for question, answer in zip(questions, answers):\n",
    "    history.add_ai_message(question)\n",
    "    history.add_user_message(answer)\n",
    "history.add_ai_message(\"\"\"Now I can recommend a home we're considering best suited for you from the listings.\"\"\")\n",
    "\n",
    "# you could choose to store some of the q/a in memory as well, in addition to original questions\n",
    "# class MementoBufferMemory(ConversationBufferMemory):\n",
    "#     def save_context(self, inputs: Dict[str, Any], outputs: Dict[str, str]) -> None:\n",
    "#         input_str, output_str = self._get_input_output(inputs, outputs)\n",
    "#         self.chat_memory.add_user_message(input_str)\n",
    "#         self.chat_memory.add_ai_message(output_str)\n",
    "\n",
    "preset_memory = ConversationBufferMemory(\n",
    "    chat_memory=history,\n",
    "    memory_key = 'chat_history',\n",
    "    return_messages=True\n",
    ")\n"
   ]
  },
  {
   "cell_type": "code",
   "execution_count": 25,
   "id": "e699c9a5",
   "metadata": {},
   "outputs": [],
   "source": [
    "from langchain.chains import ConversationalRetrievalChain\n",
    "\n",
    "qa = ConversationalRetrievalChain.from_llm(\n",
    "    llm = llm,\n",
    "    retriever =db.as_retriever(),\n",
    "    memory=preset_memory,\n",
    "    verbose = True)"
   ]
  },
  {
   "cell_type": "code",
   "execution_count": 26,
   "id": "81f5966c",
   "metadata": {},
   "outputs": [
    {
     "name": "stdout",
     "output_type": "stream",
     "text": [
      "\n",
      "\n",
      "\u001b[1m> Entering new LLMChain chain...\u001b[0m\n",
      "Prompt after formatting:\n",
      "\u001b[32;1m\u001b[1;3mGiven the following conversation and a follow up question, rephrase the follow up question to be a standalone question, in its original language.\n",
      "\n",
      "Chat History:\n",
      "\n",
      "Assistant: How big do you want your house to be?\n",
      "Human: A comfortable three-bedroom house with a spacious kitchen and a cozy living room.\n",
      "Assistant: What are 3 most important things for you in choosing this property?\n",
      "Human: A quiet neighborhood, good local schools, and convenient shopping options.\n",
      "Assistant: Which amenities would you like?\n",
      "Human: A backyard for gardening, a two-car garage, and a modern, energy-efficient heating system.\n",
      "Assistant: Which transportation options are important to you?\n",
      "Human: Easy access to a reliable bus line, proximity to a major highway, and bike-friendly roads.\n",
      "Assistant: How urban do you want your neighborhood to be?\n",
      "Human: A balance between suburban tranquility and access to urban amenities like restaurants and theaters.\n",
      "Assistant: Now I can recommend a home we're considering best suited for you from the listings.\n",
      "Follow Up Input: Which resident has good school for 2 kids, and has more than 3 bed rooms?\n",
      "Standalone question:\u001b[0m\n",
      "\n",
      "\u001b[1m> Finished chain.\u001b[0m\n",
      "\n",
      "\n",
      "\u001b[1m> Entering new StuffDocumentsChain chain...\u001b[0m\n",
      "\n",
      "\n",
      "\u001b[1m> Entering new LLMChain chain...\u001b[0m\n",
      "Prompt after formatting:\n",
      "\u001b[32;1m\u001b[1;3mSystem: Use the following pieces of context to answer the user's question. \n",
      "If you don't know the answer, just say that you don't know, don't try to make up an answer.\n",
      "----------------\n",
      ": 16\n",
      "Neighborhood: Morioka\n",
      "Price: 51000000\n",
      "Bedrooms: 3\n",
      "Bathrooms: 1\n",
      "House Size: 110\n",
      "Description: Step into your dream home in Morioka! This cozy property features modern amenities like a spacious kitchen, luxurious bathroom, and a private garden. Enjoy the convenience of nearby parks, schools, and shopping centers. Don't miss out on this opportunity!\n",
      "Neighborhood Description: \"Located in Morioka, this charming neighborhood boasts excellent transportation links, top-rated schools, vibrant shopping options, and plenty of leisure facilities. Experience the perfect balance of urban convenience and suburban tranquility.\"\n",
      "\n",
      ": 12\n",
      "Neighborhood: Abashiri\n",
      "Price: 40000000\n",
      "Bedrooms: 3\n",
      "Bathrooms: 2\n",
      "House Size: 130\n",
      "Description: Step into your dream home in Abashiri, where cozy comfort meets modern convenience. This charming property boasts a fully equipped kitchen, spacious living area, and a tranquil garden perfect for relaxing. Don't miss out on this opportunity to make it yours!\n",
      "Neighborhood Description: Nestled in Abashiri, this property boasts easy access to transportation lines, top-rated schools, vibrant shopping centers, and a variety of leisure facilities, all within a beautifully balanced urban setting.\n",
      "\n",
      ": 0\n",
      "Neighborhood: Sapporo\n",
      "Price: 65000000\n",
      "Bedrooms: 3\n",
      "Bathrooms: 2\n",
      "House Size: 150\n",
      "Description: Welcome to this charming Sapporo property! This cozy home features modern appliances, a spacious kitchen, and a tranquil garden perfect for relaxing. With nearby parks, schools, and shopping centers, this is the ideal place to call home. Schedule a viewing today!\n",
      "Neighborhood Description: Located in Sapporo, this real estate boasts a vibrant neighborhood with excellent transportation links, top-rated schools, trendy shopping options, and abundant leisure facilities. Enjoy urban living at its finest!\n",
      "\n",
      ": 12\n",
      "Neighborhood: Abashiri\n",
      "Price: 40000000\n",
      "Bedrooms: 3\n",
      "Bathrooms: 2\n",
      "House Size: 130\n",
      "Description: Step into your dream home in Abashiri, where cozy comfort meets modern convenience. This charming property boasts a fully equipped kitchen, spacious living area, and a tranquil garden perfect for relaxing. Don't miss out on this opportunity to make it yours!\n",
      "Neighborhood Description: Nestled in Abashiri, this property boasts easy access to transportation lines, top-rated schools, vibrant shopping centers, and a variety of leisure facilities, all within a beautifully balanced urban setting.\n",
      "Human: Which residence has good schools for two kids and features more than three bedrooms?\u001b[0m\n",
      "\n",
      "\u001b[1m> Finished chain.\u001b[0m\n",
      "\n",
      "\u001b[1m> Finished chain.\u001b[0m\n"
     ]
    }
   ],
   "source": [
    "result = qa.invoke(\"Which resident has good school for 2 kids, and has more than 3 bed rooms?\")"
   ]
  },
  {
   "cell_type": "code",
   "execution_count": 27,
   "id": "c28e97a4",
   "metadata": {},
   "outputs": [
    {
     "data": {
      "text/plain": [
       "'The property in Sapporo would be a good choice for a family with two kids looking for a residence with good schools and more than three bedrooms. It has 3 bedrooms, 2 bathrooms, and is located in a neighborhood with top-rated schools.'"
      ]
     },
     "metadata": {},
     "output_type": "display_data"
    }
   ],
   "source": [
    "display(result[\"answer\"])"
   ]
  },
  {
   "cell_type": "code",
   "execution_count": 27,
   "id": "cd0d2033",
   "metadata": {},
   "outputs": [],
   "source": [
    "RECOMMENDER_TEMPLATE = \"\"\"\n",
    "You are realter agent, and recommend a real estate from the listings best suits to the human needs.\n",
    "Human's preference can be derived from their answers to the questions.\n",
    "\n",
    "### Personal Questions and Answers:\n",
    "\n",
    "{qa}\n",
    "\n",
    "### Summary of Recommendations:\n",
    "\n",
    "\n",
    "### Context:\n",
    "\n",
    "{context}\n",
    "\n",
    "Human: {query}\n",
    "\n",
    "AI:\n",
    "\"\"\"\n",
    "\n",
    "PROMPT = PromptTemplate(\n",
    "    template=RECOMMENDER_TEMPLATE,\n",
    "\n",
    "    input_variables=[\"context\", \"qa\", \"query\"],\n",
    ")"
   ]
  },
  {
   "cell_type": "code",
   "execution_count": 37,
   "id": "06452565",
   "metadata": {},
   "outputs": [],
   "source": [
    "from langchain.chains import LLMChain, LLMRequestsChain, SimpleSequentialChain\n",
    "\n",
    "seq_chain = SimpleSequentialChain(\n",
    "    chains = [conv_chain, retrieval_chain]\n",
    ")"
   ]
  },
  {
   "cell_type": "code",
   "execution_count": 40,
   "id": "9565f67b",
   "metadata": {},
   "outputs": [
    {
     "ename": "KeyError",
     "evalue": "'query'",
     "output_type": "error",
     "traceback": [
      "\u001b[1;31m---------------------------------------------------------------------------\u001b[0m",
      "\u001b[1;31mKeyError\u001b[0m                                  Traceback (most recent call last)",
      "Cell \u001b[1;32mIn[40], line 1\u001b[0m\n\u001b[1;32m----> 1\u001b[0m seq_chain\u001b[38;5;241m.\u001b[39minvoke({\u001b[38;5;124m\"\u001b[39m\u001b[38;5;124minput\u001b[39m\u001b[38;5;124m\"\u001b[39m :\u001b[38;5;124m\"\u001b[39m\u001b[38;5;124mWhich resident has good transportation?\u001b[39m\u001b[38;5;124m\"\u001b[39m})\n",
      "File \u001b[1;32mc:\\ProgramData\\anaconda3\\envs\\langchain\\Lib\\site-packages\\langchain\\chains\\base.py:163\u001b[0m, in \u001b[0;36mChain.invoke\u001b[1;34m(self, input, config, **kwargs)\u001b[0m\n\u001b[0;32m    161\u001b[0m \u001b[38;5;28;01mexcept\u001b[39;00m \u001b[38;5;167;01mBaseException\u001b[39;00m \u001b[38;5;28;01mas\u001b[39;00m e:\n\u001b[0;32m    162\u001b[0m     run_manager\u001b[38;5;241m.\u001b[39mon_chain_error(e)\n\u001b[1;32m--> 163\u001b[0m     \u001b[38;5;28;01mraise\u001b[39;00m e\n\u001b[0;32m    164\u001b[0m run_manager\u001b[38;5;241m.\u001b[39mon_chain_end(outputs)\n\u001b[0;32m    166\u001b[0m \u001b[38;5;28;01mif\u001b[39;00m include_run_info:\n",
      "File \u001b[1;32mc:\\ProgramData\\anaconda3\\envs\\langchain\\Lib\\site-packages\\langchain\\chains\\base.py:153\u001b[0m, in \u001b[0;36mChain.invoke\u001b[1;34m(self, input, config, **kwargs)\u001b[0m\n\u001b[0;32m    150\u001b[0m \u001b[38;5;28;01mtry\u001b[39;00m:\n\u001b[0;32m    151\u001b[0m     \u001b[38;5;28mself\u001b[39m\u001b[38;5;241m.\u001b[39m_validate_inputs(inputs)\n\u001b[0;32m    152\u001b[0m     outputs \u001b[38;5;241m=\u001b[39m (\n\u001b[1;32m--> 153\u001b[0m         \u001b[38;5;28mself\u001b[39m\u001b[38;5;241m.\u001b[39m_call(inputs, run_manager\u001b[38;5;241m=\u001b[39mrun_manager)\n\u001b[0;32m    154\u001b[0m         \u001b[38;5;28;01mif\u001b[39;00m new_arg_supported\n\u001b[0;32m    155\u001b[0m         \u001b[38;5;28;01melse\u001b[39;00m \u001b[38;5;28mself\u001b[39m\u001b[38;5;241m.\u001b[39m_call(inputs)\n\u001b[0;32m    156\u001b[0m     )\n\u001b[0;32m    158\u001b[0m     final_outputs: Dict[\u001b[38;5;28mstr\u001b[39m, Any] \u001b[38;5;241m=\u001b[39m \u001b[38;5;28mself\u001b[39m\u001b[38;5;241m.\u001b[39mprep_outputs(\n\u001b[0;32m    159\u001b[0m         inputs, outputs, return_only_outputs\n\u001b[0;32m    160\u001b[0m     )\n\u001b[0;32m    161\u001b[0m \u001b[38;5;28;01mexcept\u001b[39;00m \u001b[38;5;167;01mBaseException\u001b[39;00m \u001b[38;5;28;01mas\u001b[39;00m e:\n",
      "File \u001b[1;32mc:\\ProgramData\\anaconda3\\envs\\langchain\\Lib\\site-packages\\langchain\\chains\\sequential.py:180\u001b[0m, in \u001b[0;36mSimpleSequentialChain._call\u001b[1;34m(self, inputs, run_manager)\u001b[0m\n\u001b[0;32m    178\u001b[0m color_mapping \u001b[38;5;241m=\u001b[39m get_color_mapping([\u001b[38;5;28mstr\u001b[39m(i) \u001b[38;5;28;01mfor\u001b[39;00m i \u001b[38;5;129;01min\u001b[39;00m \u001b[38;5;28mrange\u001b[39m(\u001b[38;5;28mlen\u001b[39m(\u001b[38;5;28mself\u001b[39m\u001b[38;5;241m.\u001b[39mchains))])\n\u001b[0;32m    179\u001b[0m \u001b[38;5;28;01mfor\u001b[39;00m i, chain \u001b[38;5;129;01min\u001b[39;00m \u001b[38;5;28menumerate\u001b[39m(\u001b[38;5;28mself\u001b[39m\u001b[38;5;241m.\u001b[39mchains):\n\u001b[1;32m--> 180\u001b[0m     _input \u001b[38;5;241m=\u001b[39m chain\u001b[38;5;241m.\u001b[39mrun(_input, callbacks\u001b[38;5;241m=\u001b[39m_run_manager\u001b[38;5;241m.\u001b[39mget_child(\u001b[38;5;124mf\u001b[39m\u001b[38;5;124m\"\u001b[39m\u001b[38;5;124mstep_\u001b[39m\u001b[38;5;132;01m{\u001b[39;00mi\u001b[38;5;241m+\u001b[39m\u001b[38;5;241m1\u001b[39m\u001b[38;5;132;01m}\u001b[39;00m\u001b[38;5;124m\"\u001b[39m))\n\u001b[0;32m    181\u001b[0m     \u001b[38;5;28;01mif\u001b[39;00m \u001b[38;5;28mself\u001b[39m\u001b[38;5;241m.\u001b[39mstrip_outputs:\n\u001b[0;32m    182\u001b[0m         _input \u001b[38;5;241m=\u001b[39m _input\u001b[38;5;241m.\u001b[39mstrip()\n",
      "File \u001b[1;32mc:\\ProgramData\\anaconda3\\envs\\langchain\\Lib\\site-packages\\langchain_core\\_api\\deprecation.py:145\u001b[0m, in \u001b[0;36mdeprecated.<locals>.deprecate.<locals>.warning_emitting_wrapper\u001b[1;34m(*args, **kwargs)\u001b[0m\n\u001b[0;32m    143\u001b[0m     warned \u001b[38;5;241m=\u001b[39m \u001b[38;5;28;01mTrue\u001b[39;00m\n\u001b[0;32m    144\u001b[0m     emit_warning()\n\u001b[1;32m--> 145\u001b[0m \u001b[38;5;28;01mreturn\u001b[39;00m wrapped(\u001b[38;5;241m*\u001b[39margs, \u001b[38;5;241m*\u001b[39m\u001b[38;5;241m*\u001b[39mkwargs)\n",
      "File \u001b[1;32mc:\\ProgramData\\anaconda3\\envs\\langchain\\Lib\\site-packages\\langchain\\chains\\base.py:545\u001b[0m, in \u001b[0;36mChain.run\u001b[1;34m(self, callbacks, tags, metadata, *args, **kwargs)\u001b[0m\n\u001b[0;32m    543\u001b[0m     \u001b[38;5;28;01mif\u001b[39;00m \u001b[38;5;28mlen\u001b[39m(args) \u001b[38;5;241m!=\u001b[39m \u001b[38;5;241m1\u001b[39m:\n\u001b[0;32m    544\u001b[0m         \u001b[38;5;28;01mraise\u001b[39;00m \u001b[38;5;167;01mValueError\u001b[39;00m(\u001b[38;5;124m\"\u001b[39m\u001b[38;5;124m`run` supports only one positional argument.\u001b[39m\u001b[38;5;124m\"\u001b[39m)\n\u001b[1;32m--> 545\u001b[0m     \u001b[38;5;28;01mreturn\u001b[39;00m \u001b[38;5;28mself\u001b[39m(args[\u001b[38;5;241m0\u001b[39m], callbacks\u001b[38;5;241m=\u001b[39mcallbacks, tags\u001b[38;5;241m=\u001b[39mtags, metadata\u001b[38;5;241m=\u001b[39mmetadata)[\n\u001b[0;32m    546\u001b[0m         _output_key\n\u001b[0;32m    547\u001b[0m     ]\n\u001b[0;32m    549\u001b[0m \u001b[38;5;28;01mif\u001b[39;00m kwargs \u001b[38;5;129;01mand\u001b[39;00m \u001b[38;5;129;01mnot\u001b[39;00m args:\n\u001b[0;32m    550\u001b[0m     \u001b[38;5;28;01mreturn\u001b[39;00m \u001b[38;5;28mself\u001b[39m(kwargs, callbacks\u001b[38;5;241m=\u001b[39mcallbacks, tags\u001b[38;5;241m=\u001b[39mtags, metadata\u001b[38;5;241m=\u001b[39mmetadata)[\n\u001b[0;32m    551\u001b[0m         _output_key\n\u001b[0;32m    552\u001b[0m     ]\n",
      "File \u001b[1;32mc:\\ProgramData\\anaconda3\\envs\\langchain\\Lib\\site-packages\\langchain_core\\_api\\deprecation.py:145\u001b[0m, in \u001b[0;36mdeprecated.<locals>.deprecate.<locals>.warning_emitting_wrapper\u001b[1;34m(*args, **kwargs)\u001b[0m\n\u001b[0;32m    143\u001b[0m     warned \u001b[38;5;241m=\u001b[39m \u001b[38;5;28;01mTrue\u001b[39;00m\n\u001b[0;32m    144\u001b[0m     emit_warning()\n\u001b[1;32m--> 145\u001b[0m \u001b[38;5;28;01mreturn\u001b[39;00m wrapped(\u001b[38;5;241m*\u001b[39margs, \u001b[38;5;241m*\u001b[39m\u001b[38;5;241m*\u001b[39mkwargs)\n",
      "File \u001b[1;32mc:\\ProgramData\\anaconda3\\envs\\langchain\\Lib\\site-packages\\langchain\\chains\\base.py:378\u001b[0m, in \u001b[0;36mChain.__call__\u001b[1;34m(self, inputs, return_only_outputs, callbacks, tags, metadata, run_name, include_run_info)\u001b[0m\n\u001b[0;32m    346\u001b[0m \u001b[38;5;250m\u001b[39m\u001b[38;5;124;03m\"\"\"Execute the chain.\u001b[39;00m\n\u001b[0;32m    347\u001b[0m \n\u001b[0;32m    348\u001b[0m \u001b[38;5;124;03mArgs:\u001b[39;00m\n\u001b[1;32m   (...)\u001b[0m\n\u001b[0;32m    369\u001b[0m \u001b[38;5;124;03m        `Chain.output_keys`.\u001b[39;00m\n\u001b[0;32m    370\u001b[0m \u001b[38;5;124;03m\"\"\"\u001b[39;00m\n\u001b[0;32m    371\u001b[0m config \u001b[38;5;241m=\u001b[39m {\n\u001b[0;32m    372\u001b[0m     \u001b[38;5;124m\"\u001b[39m\u001b[38;5;124mcallbacks\u001b[39m\u001b[38;5;124m\"\u001b[39m: callbacks,\n\u001b[0;32m    373\u001b[0m     \u001b[38;5;124m\"\u001b[39m\u001b[38;5;124mtags\u001b[39m\u001b[38;5;124m\"\u001b[39m: tags,\n\u001b[0;32m    374\u001b[0m     \u001b[38;5;124m\"\u001b[39m\u001b[38;5;124mmetadata\u001b[39m\u001b[38;5;124m\"\u001b[39m: metadata,\n\u001b[0;32m    375\u001b[0m     \u001b[38;5;124m\"\u001b[39m\u001b[38;5;124mrun_name\u001b[39m\u001b[38;5;124m\"\u001b[39m: run_name,\n\u001b[0;32m    376\u001b[0m }\n\u001b[1;32m--> 378\u001b[0m \u001b[38;5;28;01mreturn\u001b[39;00m \u001b[38;5;28mself\u001b[39m\u001b[38;5;241m.\u001b[39minvoke(\n\u001b[0;32m    379\u001b[0m     inputs,\n\u001b[0;32m    380\u001b[0m     cast(RunnableConfig, {k: v \u001b[38;5;28;01mfor\u001b[39;00m k, v \u001b[38;5;129;01min\u001b[39;00m config\u001b[38;5;241m.\u001b[39mitems() \u001b[38;5;28;01mif\u001b[39;00m v \u001b[38;5;129;01mis\u001b[39;00m \u001b[38;5;129;01mnot\u001b[39;00m \u001b[38;5;28;01mNone\u001b[39;00m}),\n\u001b[0;32m    381\u001b[0m     return_only_outputs\u001b[38;5;241m=\u001b[39mreturn_only_outputs,\n\u001b[0;32m    382\u001b[0m     include_run_info\u001b[38;5;241m=\u001b[39minclude_run_info,\n\u001b[0;32m    383\u001b[0m )\n",
      "File \u001b[1;32mc:\\ProgramData\\anaconda3\\envs\\langchain\\Lib\\site-packages\\langchain\\chains\\base.py:163\u001b[0m, in \u001b[0;36mChain.invoke\u001b[1;34m(self, input, config, **kwargs)\u001b[0m\n\u001b[0;32m    161\u001b[0m \u001b[38;5;28;01mexcept\u001b[39;00m \u001b[38;5;167;01mBaseException\u001b[39;00m \u001b[38;5;28;01mas\u001b[39;00m e:\n\u001b[0;32m    162\u001b[0m     run_manager\u001b[38;5;241m.\u001b[39mon_chain_error(e)\n\u001b[1;32m--> 163\u001b[0m     \u001b[38;5;28;01mraise\u001b[39;00m e\n\u001b[0;32m    164\u001b[0m run_manager\u001b[38;5;241m.\u001b[39mon_chain_end(outputs)\n\u001b[0;32m    166\u001b[0m \u001b[38;5;28;01mif\u001b[39;00m include_run_info:\n",
      "File \u001b[1;32mc:\\ProgramData\\anaconda3\\envs\\langchain\\Lib\\site-packages\\langchain\\chains\\base.py:158\u001b[0m, in \u001b[0;36mChain.invoke\u001b[1;34m(self, input, config, **kwargs)\u001b[0m\n\u001b[0;32m    151\u001b[0m     \u001b[38;5;28mself\u001b[39m\u001b[38;5;241m.\u001b[39m_validate_inputs(inputs)\n\u001b[0;32m    152\u001b[0m     outputs \u001b[38;5;241m=\u001b[39m (\n\u001b[0;32m    153\u001b[0m         \u001b[38;5;28mself\u001b[39m\u001b[38;5;241m.\u001b[39m_call(inputs, run_manager\u001b[38;5;241m=\u001b[39mrun_manager)\n\u001b[0;32m    154\u001b[0m         \u001b[38;5;28;01mif\u001b[39;00m new_arg_supported\n\u001b[0;32m    155\u001b[0m         \u001b[38;5;28;01melse\u001b[39;00m \u001b[38;5;28mself\u001b[39m\u001b[38;5;241m.\u001b[39m_call(inputs)\n\u001b[0;32m    156\u001b[0m     )\n\u001b[1;32m--> 158\u001b[0m     final_outputs: Dict[\u001b[38;5;28mstr\u001b[39m, Any] \u001b[38;5;241m=\u001b[39m \u001b[38;5;28mself\u001b[39m\u001b[38;5;241m.\u001b[39mprep_outputs(\n\u001b[0;32m    159\u001b[0m         inputs, outputs, return_only_outputs\n\u001b[0;32m    160\u001b[0m     )\n\u001b[0;32m    161\u001b[0m \u001b[38;5;28;01mexcept\u001b[39;00m \u001b[38;5;167;01mBaseException\u001b[39;00m \u001b[38;5;28;01mas\u001b[39;00m e:\n\u001b[0;32m    162\u001b[0m     run_manager\u001b[38;5;241m.\u001b[39mon_chain_error(e)\n",
      "File \u001b[1;32mc:\\ProgramData\\anaconda3\\envs\\langchain\\Lib\\site-packages\\langchain\\chains\\base.py:455\u001b[0m, in \u001b[0;36mChain.prep_outputs\u001b[1;34m(self, inputs, outputs, return_only_outputs)\u001b[0m\n\u001b[0;32m    453\u001b[0m \u001b[38;5;28mself\u001b[39m\u001b[38;5;241m.\u001b[39m_validate_outputs(outputs)\n\u001b[0;32m    454\u001b[0m \u001b[38;5;28;01mif\u001b[39;00m \u001b[38;5;28mself\u001b[39m\u001b[38;5;241m.\u001b[39mmemory \u001b[38;5;129;01mis\u001b[39;00m \u001b[38;5;129;01mnot\u001b[39;00m \u001b[38;5;28;01mNone\u001b[39;00m:\n\u001b[1;32m--> 455\u001b[0m     \u001b[38;5;28mself\u001b[39m\u001b[38;5;241m.\u001b[39mmemory\u001b[38;5;241m.\u001b[39msave_context(inputs, outputs)\n\u001b[0;32m    456\u001b[0m \u001b[38;5;28;01mif\u001b[39;00m return_only_outputs:\n\u001b[0;32m    457\u001b[0m     \u001b[38;5;28;01mreturn\u001b[39;00m outputs\n",
      "File \u001b[1;32mc:\\ProgramData\\anaconda3\\envs\\langchain\\Lib\\site-packages\\langchain\\memory\\chat_memory.py:38\u001b[0m, in \u001b[0;36mBaseChatMemory.save_context\u001b[1;34m(self, inputs, outputs)\u001b[0m\n\u001b[0;32m     36\u001b[0m \u001b[38;5;28;01mdef\u001b[39;00m \u001b[38;5;21msave_context\u001b[39m(\u001b[38;5;28mself\u001b[39m, inputs: Dict[\u001b[38;5;28mstr\u001b[39m, Any], outputs: Dict[\u001b[38;5;28mstr\u001b[39m, \u001b[38;5;28mstr\u001b[39m]) \u001b[38;5;241m-\u001b[39m\u001b[38;5;241m>\u001b[39m \u001b[38;5;28;01mNone\u001b[39;00m:\n\u001b[0;32m     37\u001b[0m \u001b[38;5;250m    \u001b[39m\u001b[38;5;124;03m\"\"\"Save context from this conversation to buffer.\"\"\"\u001b[39;00m\n\u001b[1;32m---> 38\u001b[0m     input_str, output_str \u001b[38;5;241m=\u001b[39m \u001b[38;5;28mself\u001b[39m\u001b[38;5;241m.\u001b[39m_get_input_output(inputs, outputs)\n\u001b[0;32m     39\u001b[0m     \u001b[38;5;28mself\u001b[39m\u001b[38;5;241m.\u001b[39mchat_memory\u001b[38;5;241m.\u001b[39madd_messages(\n\u001b[0;32m     40\u001b[0m         [HumanMessage(content\u001b[38;5;241m=\u001b[39minput_str), AIMessage(content\u001b[38;5;241m=\u001b[39moutput_str)]\n\u001b[0;32m     41\u001b[0m     )\n",
      "File \u001b[1;32mc:\\ProgramData\\anaconda3\\envs\\langchain\\Lib\\site-packages\\langchain\\memory\\chat_memory.py:34\u001b[0m, in \u001b[0;36mBaseChatMemory._get_input_output\u001b[1;34m(self, inputs, outputs)\u001b[0m\n\u001b[0;32m     32\u001b[0m \u001b[38;5;28;01melse\u001b[39;00m:\n\u001b[0;32m     33\u001b[0m     output_key \u001b[38;5;241m=\u001b[39m \u001b[38;5;28mself\u001b[39m\u001b[38;5;241m.\u001b[39moutput_key\n\u001b[1;32m---> 34\u001b[0m \u001b[38;5;28;01mreturn\u001b[39;00m inputs[prompt_input_key], outputs[output_key]\n",
      "\u001b[1;31mKeyError\u001b[0m: 'query'"
     ]
    }
   ],
   "source": [
    "seq_chain.invoke({\"input\" :\"Which resident has good transportation?\"})"
   ]
  },
  {
   "cell_type": "markdown",
   "id": "2a79018e",
   "metadata": {},
   "source": [
    "## Step 5: Searching Based on Preferences\n",
    "\n",
    "**Semantic Search Implementation**: Use the structured buyer preferences to perform a semantic search on the vector database, retrieving listings that most closely match the user's requirements.\n",
    "\n",
    "**Listing Retrieval Logic**: Fine-tune the retrieval algorithm to ensure that the most relevant listings are selected based on the semantic closeness to the buyer’s preferences."
   ]
  },
  {
   "cell_type": "markdown",
   "id": "7cada282",
   "metadata": {},
   "source": [
    "## Step 6: Personalizing Listing Descriptions\n",
    "\n",
    "LLM Augmentation: For each retrieved listing, use the LLM to augment the description, tailoring it to resonate with the buyer’s specific preferences. This involves subtly emphasizing aspects of the property that align with what the buyer is looking for.\n",
    "\n",
    "Maintaining Factual Integrity: Ensure that the augmentation process enhances the appeal of the listing without altering factual information."
   ]
  },
  {
   "cell_type": "code",
   "execution_count": 28,
   "id": "f73ee0a4",
   "metadata": {},
   "outputs": [],
   "source": [
    "from langchain.callbacks import StdOutCallbackHandler\n",
    "handler = StdOutCallbackHandler()\n",
    "\n",
    "qa = RetrievalQA.from_chain_type(\n",
    "    llm=llm,\n",
    "    chain_type=\"stuff\",\n",
    "    retriever=db.as_retriever(search_type=\"similarity\"),\n",
    "    chain_type_kwargs = {\"prompt\": PROMPT, \"verbose\": True, \"memory\": preset_memory},\n",
    "    callbacks=[handler]\n",
    ")"
   ]
  },
  {
   "cell_type": "code",
   "execution_count": 29,
   "id": "dde97312",
   "metadata": {},
   "outputs": [
    {
     "name": "stdout",
     "output_type": "stream",
     "text": [
      "\n",
      "\n",
      "\u001b[1m> Entering new RetrievalQA chain...\u001b[0m\n",
      "\n",
      "\n",
      "\u001b[1m> Entering new StuffDocumentsChain chain...\u001b[0m\n"
     ]
    },
    {
     "ename": "ValueError",
     "evalue": "Missing some input keys: {'qa', 'query'}",
     "output_type": "error",
     "traceback": [
      "\u001b[1;31m---------------------------------------------------------------------------\u001b[0m",
      "\u001b[1;31mValueError\u001b[0m                                Traceback (most recent call last)",
      "Cell \u001b[1;32mIn[29], line 2\u001b[0m\n\u001b[0;32m      1\u001b[0m question \u001b[38;5;241m=\u001b[39m \u001b[38;5;124m\"\u001b[39m\u001b[38;5;124mList up to one you think is the best?\u001b[39m\u001b[38;5;124m\"\u001b[39m\n\u001b[1;32m----> 2\u001b[0m result \u001b[38;5;241m=\u001b[39m qa\u001b[38;5;241m.\u001b[39minvoke({\u001b[38;5;124m\"\u001b[39m\u001b[38;5;124mquery\u001b[39m\u001b[38;5;124m\"\u001b[39m: question})\n",
      "File \u001b[1;32mc:\\ProgramData\\anaconda3\\envs\\langchain\\Lib\\site-packages\\langchain\\chains\\base.py:163\u001b[0m, in \u001b[0;36mChain.invoke\u001b[1;34m(self, input, config, **kwargs)\u001b[0m\n\u001b[0;32m    161\u001b[0m \u001b[38;5;28;01mexcept\u001b[39;00m \u001b[38;5;167;01mBaseException\u001b[39;00m \u001b[38;5;28;01mas\u001b[39;00m e:\n\u001b[0;32m    162\u001b[0m     run_manager\u001b[38;5;241m.\u001b[39mon_chain_error(e)\n\u001b[1;32m--> 163\u001b[0m     \u001b[38;5;28;01mraise\u001b[39;00m e\n\u001b[0;32m    164\u001b[0m run_manager\u001b[38;5;241m.\u001b[39mon_chain_end(outputs)\n\u001b[0;32m    166\u001b[0m \u001b[38;5;28;01mif\u001b[39;00m include_run_info:\n",
      "File \u001b[1;32mc:\\ProgramData\\anaconda3\\envs\\langchain\\Lib\\site-packages\\langchain\\chains\\base.py:153\u001b[0m, in \u001b[0;36mChain.invoke\u001b[1;34m(self, input, config, **kwargs)\u001b[0m\n\u001b[0;32m    150\u001b[0m \u001b[38;5;28;01mtry\u001b[39;00m:\n\u001b[0;32m    151\u001b[0m     \u001b[38;5;28mself\u001b[39m\u001b[38;5;241m.\u001b[39m_validate_inputs(inputs)\n\u001b[0;32m    152\u001b[0m     outputs \u001b[38;5;241m=\u001b[39m (\n\u001b[1;32m--> 153\u001b[0m         \u001b[38;5;28mself\u001b[39m\u001b[38;5;241m.\u001b[39m_call(inputs, run_manager\u001b[38;5;241m=\u001b[39mrun_manager)\n\u001b[0;32m    154\u001b[0m         \u001b[38;5;28;01mif\u001b[39;00m new_arg_supported\n\u001b[0;32m    155\u001b[0m         \u001b[38;5;28;01melse\u001b[39;00m \u001b[38;5;28mself\u001b[39m\u001b[38;5;241m.\u001b[39m_call(inputs)\n\u001b[0;32m    156\u001b[0m     )\n\u001b[0;32m    158\u001b[0m     final_outputs: Dict[\u001b[38;5;28mstr\u001b[39m, Any] \u001b[38;5;241m=\u001b[39m \u001b[38;5;28mself\u001b[39m\u001b[38;5;241m.\u001b[39mprep_outputs(\n\u001b[0;32m    159\u001b[0m         inputs, outputs, return_only_outputs\n\u001b[0;32m    160\u001b[0m     )\n\u001b[0;32m    161\u001b[0m \u001b[38;5;28;01mexcept\u001b[39;00m \u001b[38;5;167;01mBaseException\u001b[39;00m \u001b[38;5;28;01mas\u001b[39;00m e:\n",
      "File \u001b[1;32mc:\\ProgramData\\anaconda3\\envs\\langchain\\Lib\\site-packages\\langchain\\chains\\retrieval_qa\\base.py:144\u001b[0m, in \u001b[0;36mBaseRetrievalQA._call\u001b[1;34m(self, inputs, run_manager)\u001b[0m\n\u001b[0;32m    142\u001b[0m \u001b[38;5;28;01melse\u001b[39;00m:\n\u001b[0;32m    143\u001b[0m     docs \u001b[38;5;241m=\u001b[39m \u001b[38;5;28mself\u001b[39m\u001b[38;5;241m.\u001b[39m_get_docs(question)  \u001b[38;5;66;03m# type: ignore[call-arg]\u001b[39;00m\n\u001b[1;32m--> 144\u001b[0m answer \u001b[38;5;241m=\u001b[39m \u001b[38;5;28mself\u001b[39m\u001b[38;5;241m.\u001b[39mcombine_documents_chain\u001b[38;5;241m.\u001b[39mrun(\n\u001b[0;32m    145\u001b[0m     input_documents\u001b[38;5;241m=\u001b[39mdocs, question\u001b[38;5;241m=\u001b[39mquestion, callbacks\u001b[38;5;241m=\u001b[39m_run_manager\u001b[38;5;241m.\u001b[39mget_child()\n\u001b[0;32m    146\u001b[0m )\n\u001b[0;32m    148\u001b[0m \u001b[38;5;28;01mif\u001b[39;00m \u001b[38;5;28mself\u001b[39m\u001b[38;5;241m.\u001b[39mreturn_source_documents:\n\u001b[0;32m    149\u001b[0m     \u001b[38;5;28;01mreturn\u001b[39;00m {\u001b[38;5;28mself\u001b[39m\u001b[38;5;241m.\u001b[39moutput_key: answer, \u001b[38;5;124m\"\u001b[39m\u001b[38;5;124msource_documents\u001b[39m\u001b[38;5;124m\"\u001b[39m: docs}\n",
      "File \u001b[1;32mc:\\ProgramData\\anaconda3\\envs\\langchain\\Lib\\site-packages\\langchain_core\\_api\\deprecation.py:145\u001b[0m, in \u001b[0;36mdeprecated.<locals>.deprecate.<locals>.warning_emitting_wrapper\u001b[1;34m(*args, **kwargs)\u001b[0m\n\u001b[0;32m    143\u001b[0m     warned \u001b[38;5;241m=\u001b[39m \u001b[38;5;28;01mTrue\u001b[39;00m\n\u001b[0;32m    144\u001b[0m     emit_warning()\n\u001b[1;32m--> 145\u001b[0m \u001b[38;5;28;01mreturn\u001b[39;00m wrapped(\u001b[38;5;241m*\u001b[39margs, \u001b[38;5;241m*\u001b[39m\u001b[38;5;241m*\u001b[39mkwargs)\n",
      "File \u001b[1;32mc:\\ProgramData\\anaconda3\\envs\\langchain\\Lib\\site-packages\\langchain\\chains\\base.py:550\u001b[0m, in \u001b[0;36mChain.run\u001b[1;34m(self, callbacks, tags, metadata, *args, **kwargs)\u001b[0m\n\u001b[0;32m    545\u001b[0m     \u001b[38;5;28;01mreturn\u001b[39;00m \u001b[38;5;28mself\u001b[39m(args[\u001b[38;5;241m0\u001b[39m], callbacks\u001b[38;5;241m=\u001b[39mcallbacks, tags\u001b[38;5;241m=\u001b[39mtags, metadata\u001b[38;5;241m=\u001b[39mmetadata)[\n\u001b[0;32m    546\u001b[0m         _output_key\n\u001b[0;32m    547\u001b[0m     ]\n\u001b[0;32m    549\u001b[0m \u001b[38;5;28;01mif\u001b[39;00m kwargs \u001b[38;5;129;01mand\u001b[39;00m \u001b[38;5;129;01mnot\u001b[39;00m args:\n\u001b[1;32m--> 550\u001b[0m     \u001b[38;5;28;01mreturn\u001b[39;00m \u001b[38;5;28mself\u001b[39m(kwargs, callbacks\u001b[38;5;241m=\u001b[39mcallbacks, tags\u001b[38;5;241m=\u001b[39mtags, metadata\u001b[38;5;241m=\u001b[39mmetadata)[\n\u001b[0;32m    551\u001b[0m         _output_key\n\u001b[0;32m    552\u001b[0m     ]\n\u001b[0;32m    554\u001b[0m \u001b[38;5;28;01mif\u001b[39;00m \u001b[38;5;129;01mnot\u001b[39;00m kwargs \u001b[38;5;129;01mand\u001b[39;00m \u001b[38;5;129;01mnot\u001b[39;00m args:\n\u001b[0;32m    555\u001b[0m     \u001b[38;5;28;01mraise\u001b[39;00m \u001b[38;5;167;01mValueError\u001b[39;00m(\n\u001b[0;32m    556\u001b[0m         \u001b[38;5;124m\"\u001b[39m\u001b[38;5;124m`run` supported with either positional arguments or keyword arguments,\u001b[39m\u001b[38;5;124m\"\u001b[39m\n\u001b[0;32m    557\u001b[0m         \u001b[38;5;124m\"\u001b[39m\u001b[38;5;124m but none were provided.\u001b[39m\u001b[38;5;124m\"\u001b[39m\n\u001b[0;32m    558\u001b[0m     )\n",
      "File \u001b[1;32mc:\\ProgramData\\anaconda3\\envs\\langchain\\Lib\\site-packages\\langchain_core\\_api\\deprecation.py:145\u001b[0m, in \u001b[0;36mdeprecated.<locals>.deprecate.<locals>.warning_emitting_wrapper\u001b[1;34m(*args, **kwargs)\u001b[0m\n\u001b[0;32m    143\u001b[0m     warned \u001b[38;5;241m=\u001b[39m \u001b[38;5;28;01mTrue\u001b[39;00m\n\u001b[0;32m    144\u001b[0m     emit_warning()\n\u001b[1;32m--> 145\u001b[0m \u001b[38;5;28;01mreturn\u001b[39;00m wrapped(\u001b[38;5;241m*\u001b[39margs, \u001b[38;5;241m*\u001b[39m\u001b[38;5;241m*\u001b[39mkwargs)\n",
      "File \u001b[1;32mc:\\ProgramData\\anaconda3\\envs\\langchain\\Lib\\site-packages\\langchain\\chains\\base.py:378\u001b[0m, in \u001b[0;36mChain.__call__\u001b[1;34m(self, inputs, return_only_outputs, callbacks, tags, metadata, run_name, include_run_info)\u001b[0m\n\u001b[0;32m    346\u001b[0m \u001b[38;5;250m\u001b[39m\u001b[38;5;124;03m\"\"\"Execute the chain.\u001b[39;00m\n\u001b[0;32m    347\u001b[0m \n\u001b[0;32m    348\u001b[0m \u001b[38;5;124;03mArgs:\u001b[39;00m\n\u001b[1;32m   (...)\u001b[0m\n\u001b[0;32m    369\u001b[0m \u001b[38;5;124;03m        `Chain.output_keys`.\u001b[39;00m\n\u001b[0;32m    370\u001b[0m \u001b[38;5;124;03m\"\"\"\u001b[39;00m\n\u001b[0;32m    371\u001b[0m config \u001b[38;5;241m=\u001b[39m {\n\u001b[0;32m    372\u001b[0m     \u001b[38;5;124m\"\u001b[39m\u001b[38;5;124mcallbacks\u001b[39m\u001b[38;5;124m\"\u001b[39m: callbacks,\n\u001b[0;32m    373\u001b[0m     \u001b[38;5;124m\"\u001b[39m\u001b[38;5;124mtags\u001b[39m\u001b[38;5;124m\"\u001b[39m: tags,\n\u001b[0;32m    374\u001b[0m     \u001b[38;5;124m\"\u001b[39m\u001b[38;5;124mmetadata\u001b[39m\u001b[38;5;124m\"\u001b[39m: metadata,\n\u001b[0;32m    375\u001b[0m     \u001b[38;5;124m\"\u001b[39m\u001b[38;5;124mrun_name\u001b[39m\u001b[38;5;124m\"\u001b[39m: run_name,\n\u001b[0;32m    376\u001b[0m }\n\u001b[1;32m--> 378\u001b[0m \u001b[38;5;28;01mreturn\u001b[39;00m \u001b[38;5;28mself\u001b[39m\u001b[38;5;241m.\u001b[39minvoke(\n\u001b[0;32m    379\u001b[0m     inputs,\n\u001b[0;32m    380\u001b[0m     cast(RunnableConfig, {k: v \u001b[38;5;28;01mfor\u001b[39;00m k, v \u001b[38;5;129;01min\u001b[39;00m config\u001b[38;5;241m.\u001b[39mitems() \u001b[38;5;28;01mif\u001b[39;00m v \u001b[38;5;129;01mis\u001b[39;00m \u001b[38;5;129;01mnot\u001b[39;00m \u001b[38;5;28;01mNone\u001b[39;00m}),\n\u001b[0;32m    381\u001b[0m     return_only_outputs\u001b[38;5;241m=\u001b[39mreturn_only_outputs,\n\u001b[0;32m    382\u001b[0m     include_run_info\u001b[38;5;241m=\u001b[39minclude_run_info,\n\u001b[0;32m    383\u001b[0m )\n",
      "File \u001b[1;32mc:\\ProgramData\\anaconda3\\envs\\langchain\\Lib\\site-packages\\langchain\\chains\\base.py:163\u001b[0m, in \u001b[0;36mChain.invoke\u001b[1;34m(self, input, config, **kwargs)\u001b[0m\n\u001b[0;32m    161\u001b[0m \u001b[38;5;28;01mexcept\u001b[39;00m \u001b[38;5;167;01mBaseException\u001b[39;00m \u001b[38;5;28;01mas\u001b[39;00m e:\n\u001b[0;32m    162\u001b[0m     run_manager\u001b[38;5;241m.\u001b[39mon_chain_error(e)\n\u001b[1;32m--> 163\u001b[0m     \u001b[38;5;28;01mraise\u001b[39;00m e\n\u001b[0;32m    164\u001b[0m run_manager\u001b[38;5;241m.\u001b[39mon_chain_end(outputs)\n\u001b[0;32m    166\u001b[0m \u001b[38;5;28;01mif\u001b[39;00m include_run_info:\n",
      "File \u001b[1;32mc:\\ProgramData\\anaconda3\\envs\\langchain\\Lib\\site-packages\\langchain\\chains\\base.py:151\u001b[0m, in \u001b[0;36mChain.invoke\u001b[1;34m(self, input, config, **kwargs)\u001b[0m\n\u001b[0;32m    145\u001b[0m run_manager \u001b[38;5;241m=\u001b[39m callback_manager\u001b[38;5;241m.\u001b[39mon_chain_start(\n\u001b[0;32m    146\u001b[0m     dumpd(\u001b[38;5;28mself\u001b[39m),\n\u001b[0;32m    147\u001b[0m     inputs,\n\u001b[0;32m    148\u001b[0m     name\u001b[38;5;241m=\u001b[39mrun_name,\n\u001b[0;32m    149\u001b[0m )\n\u001b[0;32m    150\u001b[0m \u001b[38;5;28;01mtry\u001b[39;00m:\n\u001b[1;32m--> 151\u001b[0m     \u001b[38;5;28mself\u001b[39m\u001b[38;5;241m.\u001b[39m_validate_inputs(inputs)\n\u001b[0;32m    152\u001b[0m     outputs \u001b[38;5;241m=\u001b[39m (\n\u001b[0;32m    153\u001b[0m         \u001b[38;5;28mself\u001b[39m\u001b[38;5;241m.\u001b[39m_call(inputs, run_manager\u001b[38;5;241m=\u001b[39mrun_manager)\n\u001b[0;32m    154\u001b[0m         \u001b[38;5;28;01mif\u001b[39;00m new_arg_supported\n\u001b[0;32m    155\u001b[0m         \u001b[38;5;28;01melse\u001b[39;00m \u001b[38;5;28mself\u001b[39m\u001b[38;5;241m.\u001b[39m_call(inputs)\n\u001b[0;32m    156\u001b[0m     )\n\u001b[0;32m    158\u001b[0m     final_outputs: Dict[\u001b[38;5;28mstr\u001b[39m, Any] \u001b[38;5;241m=\u001b[39m \u001b[38;5;28mself\u001b[39m\u001b[38;5;241m.\u001b[39mprep_outputs(\n\u001b[0;32m    159\u001b[0m         inputs, outputs, return_only_outputs\n\u001b[0;32m    160\u001b[0m     )\n",
      "File \u001b[1;32mc:\\ProgramData\\anaconda3\\envs\\langchain\\Lib\\site-packages\\langchain\\chains\\base.py:279\u001b[0m, in \u001b[0;36mChain._validate_inputs\u001b[1;34m(self, inputs)\u001b[0m\n\u001b[0;32m    277\u001b[0m missing_keys \u001b[38;5;241m=\u001b[39m \u001b[38;5;28mset\u001b[39m(\u001b[38;5;28mself\u001b[39m\u001b[38;5;241m.\u001b[39minput_keys)\u001b[38;5;241m.\u001b[39mdifference(inputs)\n\u001b[0;32m    278\u001b[0m \u001b[38;5;28;01mif\u001b[39;00m missing_keys:\n\u001b[1;32m--> 279\u001b[0m     \u001b[38;5;28;01mraise\u001b[39;00m \u001b[38;5;167;01mValueError\u001b[39;00m(\u001b[38;5;124mf\u001b[39m\u001b[38;5;124m\"\u001b[39m\u001b[38;5;124mMissing some input keys: \u001b[39m\u001b[38;5;132;01m{\u001b[39;00mmissing_keys\u001b[38;5;132;01m}\u001b[39;00m\u001b[38;5;124m\"\u001b[39m)\n",
      "\u001b[1;31mValueError\u001b[0m: Missing some input keys: {'qa', 'query'}"
     ]
    }
   ],
   "source": [
    "\n",
    "question = \"List up to one you think is the best?\"\n",
    "result = qa.invoke({\"query\": question})"
   ]
  },
  {
   "cell_type": "code",
   "execution_count": null,
   "id": "8ae15e78",
   "metadata": {},
   "outputs": [],
   "source": [
    "\n",
    "def runChain(query,history):\n",
    "    return process_llm_response(qa(query))\n",
    "\n",
    "app = gradio.ChatInterface(runChain)\n",
    "app.queue()\n",
    "app.launch(share=False, debug=True)"
   ]
  }
 ],
 "metadata": {
  "kernelspec": {
   "display_name": "Python 3 (ipykernel)",
   "language": "python",
   "name": "python3"
  },
  "language_info": {
   "codemirror_mode": {
    "name": "ipython",
    "version": 3
   },
   "file_extension": ".py",
   "mimetype": "text/x-python",
   "name": "python",
   "nbconvert_exporter": "python",
   "pygments_lexer": "ipython3",
   "version": "3.11.8"
  }
 },
 "nbformat": 4,
 "nbformat_minor": 5
}
