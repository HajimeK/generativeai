{
 "cells": [
  {
   "cell_type": "markdown",
   "id": "a108af04",
   "metadata": {},
   "source": [
    "# Personalized Rea Estate Agent"
   ]
  },
  {
   "cell_type": "markdown",
   "id": "9decdfad",
   "metadata": {},
   "source": [
    "## Step 1: Setting Up the Python Application\n",
    "\n",
    "```\n",
    "pip install -r requirements.txt\n",
    "\n",
    "requirements.txt\n",
    "    langchain==0.1.12\n",
    "    openai==0.28.1\n",
    "    pydantic>=1.10.12\n",
    "    pytest>=7.4.0\n",
    "    sentence-transformers>=2.2.0\n",
    "    transformers>=4.31.0\n",
    "    chromadb==0.4.15\n",
    "    jupyter==1.0.0"
   ]
  },
  {
   "cell_type": "markdown",
   "id": "93e1720c",
   "metadata": {},
   "source": [
    "Set OpenAI API key to environment variable so that langchain methods can refer them in the environment variables list."
   ]
  },
  {
   "cell_type": "code",
   "execution_count": 1,
   "id": "19e20bb1",
   "metadata": {},
   "outputs": [],
   "source": [
    "import os\n",
    "openai_api_key = open(\"../../api_keys/openai.key\", \"rt\").read()\n",
    "os.environ[\"openai_api_key\"] = openai_api_key\n",
    "OpenAI_CHAT_MODEL = \"gpt-3.5-turbo\""
   ]
  },
  {
   "cell_type": "code",
   "execution_count": 2,
   "id": "ca4f1819",
   "metadata": {},
   "outputs": [
    {
     "name": "stderr",
     "output_type": "stream",
     "text": [
      "c:\\ProgramData\\anaconda3\\envs\\langchain\\Lib\\site-packages\\langchain_core\\_api\\deprecation.py:117: LangChainDeprecationWarning: The class `langchain_community.chat_models.openai.ChatOpenAI` was deprecated in langchain-community 0.0.10 and will be removed in 0.2.0. An updated version of the class exists in the langchain-openai package and should be used instead. To use it run `pip install -U langchain-openai` and import as `from langchain_openai import ChatOpenAI`.\n",
      "  warn_deprecated(\n"
     ]
    }
   ],
   "source": [
    "from langchain.chat_models import ChatOpenAI\n",
    "llm = ChatOpenAI(openai_api_key=openai_api_key,\n",
    "            model_name=OpenAI_CHAT_MODEL,\n",
    "            temperature=0.6,\n",
    "            max_tokens=2000)"
   ]
  },
  {
   "cell_type": "markdown",
   "id": "01aff40a",
   "metadata": {},
   "source": [
    "## Step 2: Generating Real Estate Listings\n",
    "\n",
    "Generate real estate listings using a Large Language Model. Generated 20 listings."
   ]
  },
  {
   "cell_type": "code",
   "execution_count": 3,
   "id": "333c1dea",
   "metadata": {},
   "outputs": [],
   "source": [
    "import openai\n",
    "\n",
    "def generate_review(prompt):\n",
    "    OpenAI_CHAT_MODEL = \"gpt-3.5-turbo\"\n",
    "    openai_instruction = [\n",
    "        {\n",
    "            \"role\": \"system\",\n",
    "            \"content\": \"You are a real estate agent.\"},\n",
    "        {\n",
    "            \"role\": \"user\",\n",
    "            \"content\": f\"prompt_text = {prompt}\"}\n",
    "        ]\n",
    "\n",
    "    try:\n",
    "        response = openai.ChatCompletion.create(\n",
    "            model = OpenAI_CHAT_MODEL,\n",
    "            messages = openai_instruction,\n",
    "            temperature=0.6,\n",
    "            max_tokens=2000\n",
    "        )\n",
    "        review = response.choices[0].message['content'].strip()\n",
    "\n",
    "    except openai.error.OpenAIError as err:\n",
    "        print(f\"Encountered an error: {err}\")\n",
    "\n",
    "    return review\n",
    "\n"
   ]
  },
  {
   "cell_type": "markdown",
   "id": "21d1be02",
   "metadata": {},
   "source": [
    "Samples to generate synthetic sales talk and neighbor description."
   ]
  },
  {
   "cell_type": "code",
   "execution_count": 4,
   "id": "c57c3546",
   "metadata": {},
   "outputs": [],
   "source": [
    "location = \"Furano, Hokkaido, Japan\""
   ]
  },
  {
   "cell_type": "code",
   "execution_count": 5,
   "id": "517b6be0",
   "metadata": {},
   "outputs": [
    {
     "data": {
      "text/plain": [
       "\"🏡 Welcome to your dream home in Furano, Hokkaido, Japan! Nestled in the heart of picturesque surroundings, this cozy real estate gem offers the perfect blend of comfort and tranquility.\\n\\nAs you step inside, you'll be greeted by the warm ambiance of the spacious living room, complete with a traditional Japanese hearth to keep you cozy during the winter months. The open-concept kitchen is a chef's delight, equipped with modern appliances and ample counter space for all your culinary adventures.\\n\\nVenture outside to the beautifully landscaped garden, where you can relax and unwind in your very own private oasis. Imagine sipping a cup of tea on the veranda as you take in the stunning views of the surrounding mountains and lush greenery.\\n\\nThis property comes fully furnished with high-quality furnishings and tasteful decor, ensuring that you can move in and start enjoying your new home right away. With a convenient location close to amenities and outdoor activities, you'll have everything you need right at your fingertips.\\n\\nDon't miss out on this rare opportunity to own a piece of paradise in Furano, Hokkaido. Contact me today to schedule a viewing and make this dream home yours! 🌟🏡\""
      ]
     },
     "execution_count": 5,
     "metadata": {},
     "output_type": "execute_result"
    }
   ],
   "source": [
    "review_len = 40\n",
    "prompt_text = f\"Write a sales talk for a cozy real estate and its equipments in {location}.\"\n",
    "generated_review = generate_review(prompt_text)\n",
    "generated_review"
   ]
  },
  {
   "cell_type": "code",
   "execution_count": 6,
   "id": "75b429e4",
   "metadata": {},
   "outputs": [
    {
     "data": {
      "text/plain": [
       "'The charming neighborhood surrounding this property in Furano, Hokkaido, Japan offers a perfect blend of tranquility and convenience, with stunning views of the surrounding mountains and easy access to local amenities.'"
      ]
     },
     "execution_count": 6,
     "metadata": {},
     "output_type": "execute_result"
    }
   ],
   "source": [
    "prompt_text = f\"Write a positive statement around the neighbor of a real estate in {location}.\"\n",
    "generated_neighbor = generate_review(prompt_text)\n",
    "generated_neighbor"
   ]
  },
  {
   "cell_type": "markdown",
   "id": "5440027b",
   "metadata": {},
   "source": [
    "Now generate a data to store in the vector db as a reference listings."
   ]
  },
  {
   "cell_type": "markdown",
   "id": "ee8a66e2",
   "metadata": {},
   "source": [
    "### Generate catalog spec CSV data"
   ]
  },
  {
   "cell_type": "code",
   "execution_count": 7,
   "id": "b06c6a49",
   "metadata": {},
   "outputs": [
    {
     "data": {
      "text/plain": [
       "'Neighborhood,Price,Bedrooms,Bathrooms,House Size\\nSapporo,55000000,4,2,180\\nOtaru,32000000,3,1,120\\nAsahikawa,45000000,3,2,150\\nHakodate,60000000,4,3,200\\nObihiro,38000000,3,1,130\\nKitami,42000000,3,2,140\\nTomakomai,48000000,4,2,160\\nFurano,35000000,2,1,100\\nNiseko,70000000,5,3,220\\nKushiro,40000000,3,1,130\\nAbashiri,32000000,2,1,90\\nMuroran,42000000,3,2,140\\nIwamizawa,55000000,4,2,180\\nShibetsu,30000000,2,1,80\\nRumoi,38000000,3,1,120\\nNemuro,46000000,3,2,150\\nChitose,50000000,4,2,170\\nKutchan,68000000,4,3,210\\nYoichi,33000000,2,1,100\\nAibetsu,40000000,3,2,140'"
      ]
     },
     "execution_count": 7,
     "metadata": {},
     "output_type": "execute_result"
    }
   ],
   "source": [
    "entries = 20\n",
    "area = \"Hokkaido, Japan\"\n",
    "prompt_text = f\"Generate a csv file of {entries} entries of real estate data with a column head Neighborhood, Price, Bedrooms, Bathrooms, House Size in {area}. Bedrooms and Bathrooms are numberf of it, and the House Size in square of meters. Price in Japanese Yen. Fluctuate number of bachrooms from 1 to 3. Resond just CSV part only.\"\n",
    "csv_data = generate_review(prompt_text)\n",
    "csv_data"
   ]
  },
  {
   "cell_type": "code",
   "execution_count": 8,
   "id": "f6faa8d4",
   "metadata": {},
   "outputs": [],
   "source": [
    "# Save the data so as not to repeatedly generate the data with OpenAI APIs.\n",
    "with open('./HomeAgent.csv', mode='w') as f:\n",
    "    f.write(csv_data)"
   ]
  },
  {
   "cell_type": "markdown",
   "id": "57435632",
   "metadata": {},
   "source": [
    "### Add sales description about the properties"
   ]
  },
  {
   "cell_type": "code",
   "execution_count": 9,
   "id": "aa599a68",
   "metadata": {},
   "outputs": [
    {
     "data": {
      "text/html": [
       "<div>\n",
       "<style scoped>\n",
       "    .dataframe tbody tr th:only-of-type {\n",
       "        vertical-align: middle;\n",
       "    }\n",
       "\n",
       "    .dataframe tbody tr th {\n",
       "        vertical-align: top;\n",
       "    }\n",
       "\n",
       "    .dataframe thead th {\n",
       "        text-align: right;\n",
       "    }\n",
       "</style>\n",
       "<table border=\"1\" class=\"dataframe\">\n",
       "  <thead>\n",
       "    <tr style=\"text-align: right;\">\n",
       "      <th></th>\n",
       "      <th>Neighborhood</th>\n",
       "      <th>Price</th>\n",
       "      <th>Bedrooms</th>\n",
       "      <th>Bathrooms</th>\n",
       "      <th>House Size</th>\n",
       "    </tr>\n",
       "  </thead>\n",
       "  <tbody>\n",
       "    <tr>\n",
       "      <th>0</th>\n",
       "      <td>Sapporo</td>\n",
       "      <td>55000000</td>\n",
       "      <td>4</td>\n",
       "      <td>2</td>\n",
       "      <td>180</td>\n",
       "    </tr>\n",
       "    <tr>\n",
       "      <th>1</th>\n",
       "      <td>Otaru</td>\n",
       "      <td>32000000</td>\n",
       "      <td>3</td>\n",
       "      <td>1</td>\n",
       "      <td>120</td>\n",
       "    </tr>\n",
       "    <tr>\n",
       "      <th>2</th>\n",
       "      <td>Asahikawa</td>\n",
       "      <td>45000000</td>\n",
       "      <td>3</td>\n",
       "      <td>2</td>\n",
       "      <td>150</td>\n",
       "    </tr>\n",
       "    <tr>\n",
       "      <th>3</th>\n",
       "      <td>Hakodate</td>\n",
       "      <td>60000000</td>\n",
       "      <td>4</td>\n",
       "      <td>3</td>\n",
       "      <td>200</td>\n",
       "    </tr>\n",
       "    <tr>\n",
       "      <th>4</th>\n",
       "      <td>Obihiro</td>\n",
       "      <td>38000000</td>\n",
       "      <td>3</td>\n",
       "      <td>1</td>\n",
       "      <td>130</td>\n",
       "    </tr>\n",
       "    <tr>\n",
       "      <th>5</th>\n",
       "      <td>Kitami</td>\n",
       "      <td>42000000</td>\n",
       "      <td>3</td>\n",
       "      <td>2</td>\n",
       "      <td>140</td>\n",
       "    </tr>\n",
       "    <tr>\n",
       "      <th>6</th>\n",
       "      <td>Tomakomai</td>\n",
       "      <td>48000000</td>\n",
       "      <td>4</td>\n",
       "      <td>2</td>\n",
       "      <td>160</td>\n",
       "    </tr>\n",
       "    <tr>\n",
       "      <th>7</th>\n",
       "      <td>Furano</td>\n",
       "      <td>35000000</td>\n",
       "      <td>2</td>\n",
       "      <td>1</td>\n",
       "      <td>100</td>\n",
       "    </tr>\n",
       "    <tr>\n",
       "      <th>8</th>\n",
       "      <td>Niseko</td>\n",
       "      <td>70000000</td>\n",
       "      <td>5</td>\n",
       "      <td>3</td>\n",
       "      <td>220</td>\n",
       "    </tr>\n",
       "    <tr>\n",
       "      <th>9</th>\n",
       "      <td>Kushiro</td>\n",
       "      <td>40000000</td>\n",
       "      <td>3</td>\n",
       "      <td>1</td>\n",
       "      <td>130</td>\n",
       "    </tr>\n",
       "    <tr>\n",
       "      <th>10</th>\n",
       "      <td>Abashiri</td>\n",
       "      <td>32000000</td>\n",
       "      <td>2</td>\n",
       "      <td>1</td>\n",
       "      <td>90</td>\n",
       "    </tr>\n",
       "    <tr>\n",
       "      <th>11</th>\n",
       "      <td>Muroran</td>\n",
       "      <td>42000000</td>\n",
       "      <td>3</td>\n",
       "      <td>2</td>\n",
       "      <td>140</td>\n",
       "    </tr>\n",
       "    <tr>\n",
       "      <th>12</th>\n",
       "      <td>Iwamizawa</td>\n",
       "      <td>55000000</td>\n",
       "      <td>4</td>\n",
       "      <td>2</td>\n",
       "      <td>180</td>\n",
       "    </tr>\n",
       "    <tr>\n",
       "      <th>13</th>\n",
       "      <td>Shibetsu</td>\n",
       "      <td>30000000</td>\n",
       "      <td>2</td>\n",
       "      <td>1</td>\n",
       "      <td>80</td>\n",
       "    </tr>\n",
       "    <tr>\n",
       "      <th>14</th>\n",
       "      <td>Rumoi</td>\n",
       "      <td>38000000</td>\n",
       "      <td>3</td>\n",
       "      <td>1</td>\n",
       "      <td>120</td>\n",
       "    </tr>\n",
       "    <tr>\n",
       "      <th>15</th>\n",
       "      <td>Nemuro</td>\n",
       "      <td>46000000</td>\n",
       "      <td>3</td>\n",
       "      <td>2</td>\n",
       "      <td>150</td>\n",
       "    </tr>\n",
       "    <tr>\n",
       "      <th>16</th>\n",
       "      <td>Chitose</td>\n",
       "      <td>50000000</td>\n",
       "      <td>4</td>\n",
       "      <td>2</td>\n",
       "      <td>170</td>\n",
       "    </tr>\n",
       "    <tr>\n",
       "      <th>17</th>\n",
       "      <td>Kutchan</td>\n",
       "      <td>68000000</td>\n",
       "      <td>4</td>\n",
       "      <td>3</td>\n",
       "      <td>210</td>\n",
       "    </tr>\n",
       "    <tr>\n",
       "      <th>18</th>\n",
       "      <td>Yoichi</td>\n",
       "      <td>33000000</td>\n",
       "      <td>2</td>\n",
       "      <td>1</td>\n",
       "      <td>100</td>\n",
       "    </tr>\n",
       "    <tr>\n",
       "      <th>19</th>\n",
       "      <td>Aibetsu</td>\n",
       "      <td>40000000</td>\n",
       "      <td>3</td>\n",
       "      <td>2</td>\n",
       "      <td>140</td>\n",
       "    </tr>\n",
       "  </tbody>\n",
       "</table>\n",
       "</div>"
      ],
      "text/plain": [
       "   Neighborhood     Price  Bedrooms  Bathrooms  House Size\n",
       "0       Sapporo  55000000         4          2         180\n",
       "1         Otaru  32000000         3          1         120\n",
       "2     Asahikawa  45000000         3          2         150\n",
       "3      Hakodate  60000000         4          3         200\n",
       "4       Obihiro  38000000         3          1         130\n",
       "5        Kitami  42000000         3          2         140\n",
       "6     Tomakomai  48000000         4          2         160\n",
       "7        Furano  35000000         2          1         100\n",
       "8        Niseko  70000000         5          3         220\n",
       "9       Kushiro  40000000         3          1         130\n",
       "10     Abashiri  32000000         2          1          90\n",
       "11      Muroran  42000000         3          2         140\n",
       "12    Iwamizawa  55000000         4          2         180\n",
       "13     Shibetsu  30000000         2          1          80\n",
       "14        Rumoi  38000000         3          1         120\n",
       "15       Nemuro  46000000         3          2         150\n",
       "16      Chitose  50000000         4          2         170\n",
       "17      Kutchan  68000000         4          3         210\n",
       "18       Yoichi  33000000         2          1         100\n",
       "19      Aibetsu  40000000         3          2         140"
      ]
     },
     "execution_count": 9,
     "metadata": {},
     "output_type": "execute_result"
    }
   ],
   "source": [
    "# load the stored catalog data\n",
    "import pandas as pd\n",
    "\n",
    "df = pd.read_csv('./HomeAgent.csv')\n",
    "df"
   ]
  },
  {
   "cell_type": "code",
   "execution_count": 10,
   "id": "0ead24e9",
   "metadata": {},
   "outputs": [],
   "source": [
    "description = []\n",
    "neibhborhooddescription = []\n",
    "\n",
    "for index, row in df.iterrows():\n",
    "    review_len = 40\n",
    "    location = row['Neighborhood']\n",
    "    prompt_text = f\"Write a {review_len} word sales talk for a cozy real estate and its equipments in {location}. Mention randomly about the amenities equipped.\"\n",
    "    description.append(generate_review(prompt_text))\n",
    "\n",
    "    review_len = 30\n",
    "    prompt_text = f\"Write a {review_len} word positive statement around the neighbor of a real estate in {location}. Mention randomly about the transportation lines, schools, shoppings, and leisure facilities nearby. Also mention about degree of urban randomly in its vicinity.\"\n",
    "    neibhborhooddescription.append(generate_review(prompt_text))\n",
    "\n",
    "df['Description'] = description\n",
    "df['Neighborhood Description'] = neibhborhooddescription"
   ]
  },
  {
   "cell_type": "code",
   "execution_count": 11,
   "id": "7bd5674a",
   "metadata": {},
   "outputs": [
    {
     "data": {
      "text/html": [
       "<div>\n",
       "<style scoped>\n",
       "    .dataframe tbody tr th:only-of-type {\n",
       "        vertical-align: middle;\n",
       "    }\n",
       "\n",
       "    .dataframe tbody tr th {\n",
       "        vertical-align: top;\n",
       "    }\n",
       "\n",
       "    .dataframe thead th {\n",
       "        text-align: right;\n",
       "    }\n",
       "</style>\n",
       "<table border=\"1\" class=\"dataframe\">\n",
       "  <thead>\n",
       "    <tr style=\"text-align: right;\">\n",
       "      <th></th>\n",
       "      <th>Neighborhood</th>\n",
       "      <th>Price</th>\n",
       "      <th>Bedrooms</th>\n",
       "      <th>Bathrooms</th>\n",
       "      <th>House Size</th>\n",
       "      <th>Description</th>\n",
       "      <th>Neighborhood Description</th>\n",
       "    </tr>\n",
       "  </thead>\n",
       "  <tbody>\n",
       "    <tr>\n",
       "      <th>0</th>\n",
       "      <td>Sapporo</td>\n",
       "      <td>55000000</td>\n",
       "      <td>4</td>\n",
       "      <td>2</td>\n",
       "      <td>180</td>\n",
       "      <td>Step into your cozy Sapporo retreat, complete ...</td>\n",
       "      <td>Located in Sapporo, this real estate boasts a ...</td>\n",
       "    </tr>\n",
       "    <tr>\n",
       "      <th>1</th>\n",
       "      <td>Otaru</td>\n",
       "      <td>32000000</td>\n",
       "      <td>3</td>\n",
       "      <td>1</td>\n",
       "      <td>120</td>\n",
       "      <td>Step into your dream home in picturesque Otaru...</td>\n",
       "      <td>Nestled in Otaru's charming neighborhood, this...</td>\n",
       "    </tr>\n",
       "    <tr>\n",
       "      <th>2</th>\n",
       "      <td>Asahikawa</td>\n",
       "      <td>45000000</td>\n",
       "      <td>3</td>\n",
       "      <td>2</td>\n",
       "      <td>150</td>\n",
       "      <td>Step into your dream home in Asahikawa! This c...</td>\n",
       "      <td>Nestled in Asahikawa, this property boasts eas...</td>\n",
       "    </tr>\n",
       "    <tr>\n",
       "      <th>3</th>\n",
       "      <td>Hakodate</td>\n",
       "      <td>60000000</td>\n",
       "      <td>4</td>\n",
       "      <td>3</td>\n",
       "      <td>200</td>\n",
       "      <td>Step into your dream home in Hakodate, where c...</td>\n",
       "      <td>Nestled in Hakodate, this property boasts easy...</td>\n",
       "    </tr>\n",
       "    <tr>\n",
       "      <th>4</th>\n",
       "      <td>Obihiro</td>\n",
       "      <td>38000000</td>\n",
       "      <td>3</td>\n",
       "      <td>1</td>\n",
       "      <td>130</td>\n",
       "      <td>Step into your dream home in Obihiro, where co...</td>\n",
       "      <td>\"Located in scenic Obihiro, this property boas...</td>\n",
       "    </tr>\n",
       "    <tr>\n",
       "      <th>5</th>\n",
       "      <td>Kitami</td>\n",
       "      <td>42000000</td>\n",
       "      <td>3</td>\n",
       "      <td>2</td>\n",
       "      <td>140</td>\n",
       "      <td>Step into your dream home in Kitami! This cozy...</td>\n",
       "      <td>Nestled in Kitami's vibrant neighborhood, this...</td>\n",
       "    </tr>\n",
       "    <tr>\n",
       "      <th>6</th>\n",
       "      <td>Tomakomai</td>\n",
       "      <td>48000000</td>\n",
       "      <td>4</td>\n",
       "      <td>2</td>\n",
       "      <td>160</td>\n",
       "      <td>Step into your dream home in Tomakomai! This c...</td>\n",
       "      <td>Located in Tomakomai, this property boasts exc...</td>\n",
       "    </tr>\n",
       "    <tr>\n",
       "      <th>7</th>\n",
       "      <td>Furano</td>\n",
       "      <td>35000000</td>\n",
       "      <td>2</td>\n",
       "      <td>1</td>\n",
       "      <td>100</td>\n",
       "      <td>Step into your dream home in Furano, where coz...</td>\n",
       "      <td>Nestled in Furano, this property boasts excell...</td>\n",
       "    </tr>\n",
       "    <tr>\n",
       "      <th>8</th>\n",
       "      <td>Niseko</td>\n",
       "      <td>70000000</td>\n",
       "      <td>5</td>\n",
       "      <td>3</td>\n",
       "      <td>220</td>\n",
       "      <td>Step into your dream home in Niseko! This char...</td>\n",
       "      <td>Located in Niseko, this property boasts a vibr...</td>\n",
       "    </tr>\n",
       "    <tr>\n",
       "      <th>9</th>\n",
       "      <td>Kushiro</td>\n",
       "      <td>40000000</td>\n",
       "      <td>3</td>\n",
       "      <td>1</td>\n",
       "      <td>130</td>\n",
       "      <td>Step into your dream home in Kushiro - a cozy ...</td>\n",
       "      <td>Nestled in Kushiro, this property boasts easy ...</td>\n",
       "    </tr>\n",
       "    <tr>\n",
       "      <th>10</th>\n",
       "      <td>Abashiri</td>\n",
       "      <td>32000000</td>\n",
       "      <td>2</td>\n",
       "      <td>1</td>\n",
       "      <td>90</td>\n",
       "      <td>Step into your dream home in Abashiri, where c...</td>\n",
       "      <td>Nestled in Abashiri, this property boasts easy...</td>\n",
       "    </tr>\n",
       "    <tr>\n",
       "      <th>11</th>\n",
       "      <td>Muroran</td>\n",
       "      <td>42000000</td>\n",
       "      <td>3</td>\n",
       "      <td>2</td>\n",
       "      <td>140</td>\n",
       "      <td>Step into your dream home in Muroran - a cozy ...</td>\n",
       "      <td>Located in Muroran, this real estate boasts co...</td>\n",
       "    </tr>\n",
       "    <tr>\n",
       "      <th>12</th>\n",
       "      <td>Iwamizawa</td>\n",
       "      <td>55000000</td>\n",
       "      <td>4</td>\n",
       "      <td>2</td>\n",
       "      <td>180</td>\n",
       "      <td>Welcome to this charming property in Iwamizawa...</td>\n",
       "      <td>Located in Iwamizawa, this real estate gem boa...</td>\n",
       "    </tr>\n",
       "    <tr>\n",
       "      <th>13</th>\n",
       "      <td>Shibetsu</td>\n",
       "      <td>30000000</td>\n",
       "      <td>2</td>\n",
       "      <td>1</td>\n",
       "      <td>80</td>\n",
       "      <td>Step into your dream home in Shibetsu! This co...</td>\n",
       "      <td>\"Shibetsu neighborhood offers convenient acces...</td>\n",
       "    </tr>\n",
       "    <tr>\n",
       "      <th>14</th>\n",
       "      <td>Rumoi</td>\n",
       "      <td>38000000</td>\n",
       "      <td>3</td>\n",
       "      <td>1</td>\n",
       "      <td>120</td>\n",
       "      <td>Step into this charming Rumoi property, where ...</td>\n",
       "      <td>Nestled in charming Rumoi, this property boast...</td>\n",
       "    </tr>\n",
       "    <tr>\n",
       "      <th>15</th>\n",
       "      <td>Nemuro</td>\n",
       "      <td>46000000</td>\n",
       "      <td>3</td>\n",
       "      <td>2</td>\n",
       "      <td>150</td>\n",
       "      <td>Step into this charming Nemuro property offeri...</td>\n",
       "      <td>Nemuro offers a peaceful neighborhood with exc...</td>\n",
       "    </tr>\n",
       "    <tr>\n",
       "      <th>16</th>\n",
       "      <td>Chitose</td>\n",
       "      <td>50000000</td>\n",
       "      <td>4</td>\n",
       "      <td>2</td>\n",
       "      <td>170</td>\n",
       "      <td>Step into your dream home in Chitose, where co...</td>\n",
       "      <td>Chitose offers a vibrant community with excell...</td>\n",
       "    </tr>\n",
       "    <tr>\n",
       "      <th>17</th>\n",
       "      <td>Kutchan</td>\n",
       "      <td>68000000</td>\n",
       "      <td>4</td>\n",
       "      <td>3</td>\n",
       "      <td>210</td>\n",
       "      <td>Step into your dream home in Kutchan, where co...</td>\n",
       "      <td>Located in Kutchan, this real estate gem boast...</td>\n",
       "    </tr>\n",
       "    <tr>\n",
       "      <th>18</th>\n",
       "      <td>Yoichi</td>\n",
       "      <td>33000000</td>\n",
       "      <td>2</td>\n",
       "      <td>1</td>\n",
       "      <td>100</td>\n",
       "      <td>Step into your dream home in Yoichi! This cozy...</td>\n",
       "      <td>Yoichi offers a vibrant neighborhood with exce...</td>\n",
       "    </tr>\n",
       "    <tr>\n",
       "      <th>19</th>\n",
       "      <td>Aibetsu</td>\n",
       "      <td>40000000</td>\n",
       "      <td>3</td>\n",
       "      <td>2</td>\n",
       "      <td>140</td>\n",
       "      <td>Step into this charming property in Aibetsu, w...</td>\n",
       "      <td>Nestled in charming Aibetsu, this real estate ...</td>\n",
       "    </tr>\n",
       "  </tbody>\n",
       "</table>\n",
       "</div>"
      ],
      "text/plain": [
       "   Neighborhood     Price  Bedrooms  Bathrooms  House Size  \\\n",
       "0       Sapporo  55000000         4          2         180   \n",
       "1         Otaru  32000000         3          1         120   \n",
       "2     Asahikawa  45000000         3          2         150   \n",
       "3      Hakodate  60000000         4          3         200   \n",
       "4       Obihiro  38000000         3          1         130   \n",
       "5        Kitami  42000000         3          2         140   \n",
       "6     Tomakomai  48000000         4          2         160   \n",
       "7        Furano  35000000         2          1         100   \n",
       "8        Niseko  70000000         5          3         220   \n",
       "9       Kushiro  40000000         3          1         130   \n",
       "10     Abashiri  32000000         2          1          90   \n",
       "11      Muroran  42000000         3          2         140   \n",
       "12    Iwamizawa  55000000         4          2         180   \n",
       "13     Shibetsu  30000000         2          1          80   \n",
       "14        Rumoi  38000000         3          1         120   \n",
       "15       Nemuro  46000000         3          2         150   \n",
       "16      Chitose  50000000         4          2         170   \n",
       "17      Kutchan  68000000         4          3         210   \n",
       "18       Yoichi  33000000         2          1         100   \n",
       "19      Aibetsu  40000000         3          2         140   \n",
       "\n",
       "                                          Description  \\\n",
       "0   Step into your cozy Sapporo retreat, complete ...   \n",
       "1   Step into your dream home in picturesque Otaru...   \n",
       "2   Step into your dream home in Asahikawa! This c...   \n",
       "3   Step into your dream home in Hakodate, where c...   \n",
       "4   Step into your dream home in Obihiro, where co...   \n",
       "5   Step into your dream home in Kitami! This cozy...   \n",
       "6   Step into your dream home in Tomakomai! This c...   \n",
       "7   Step into your dream home in Furano, where coz...   \n",
       "8   Step into your dream home in Niseko! This char...   \n",
       "9   Step into your dream home in Kushiro - a cozy ...   \n",
       "10  Step into your dream home in Abashiri, where c...   \n",
       "11  Step into your dream home in Muroran - a cozy ...   \n",
       "12  Welcome to this charming property in Iwamizawa...   \n",
       "13  Step into your dream home in Shibetsu! This co...   \n",
       "14  Step into this charming Rumoi property, where ...   \n",
       "15  Step into this charming Nemuro property offeri...   \n",
       "16  Step into your dream home in Chitose, where co...   \n",
       "17  Step into your dream home in Kutchan, where co...   \n",
       "18  Step into your dream home in Yoichi! This cozy...   \n",
       "19  Step into this charming property in Aibetsu, w...   \n",
       "\n",
       "                             Neighborhood Description  \n",
       "0   Located in Sapporo, this real estate boasts a ...  \n",
       "1   Nestled in Otaru's charming neighborhood, this...  \n",
       "2   Nestled in Asahikawa, this property boasts eas...  \n",
       "3   Nestled in Hakodate, this property boasts easy...  \n",
       "4   \"Located in scenic Obihiro, this property boas...  \n",
       "5   Nestled in Kitami's vibrant neighborhood, this...  \n",
       "6   Located in Tomakomai, this property boasts exc...  \n",
       "7   Nestled in Furano, this property boasts excell...  \n",
       "8   Located in Niseko, this property boasts a vibr...  \n",
       "9   Nestled in Kushiro, this property boasts easy ...  \n",
       "10  Nestled in Abashiri, this property boasts easy...  \n",
       "11  Located in Muroran, this real estate boasts co...  \n",
       "12  Located in Iwamizawa, this real estate gem boa...  \n",
       "13  \"Shibetsu neighborhood offers convenient acces...  \n",
       "14  Nestled in charming Rumoi, this property boast...  \n",
       "15  Nemuro offers a peaceful neighborhood with exc...  \n",
       "16  Chitose offers a vibrant community with excell...  \n",
       "17  Located in Kutchan, this real estate gem boast...  \n",
       "18  Yoichi offers a vibrant neighborhood with exce...  \n",
       "19  Nestled in charming Aibetsu, this real estate ...  "
      ]
     },
     "execution_count": 11,
     "metadata": {},
     "output_type": "execute_result"
    }
   ],
   "source": [
    "df"
   ]
  },
  {
   "cell_type": "markdown",
   "id": "833bb4c5",
   "metadata": {},
   "source": [
    "Store the CSV, so as not generate the file repeatedly."
   ]
  },
  {
   "cell_type": "code",
   "execution_count": 12,
   "id": "c6f003c5",
   "metadata": {},
   "outputs": [],
   "source": [
    "df.to_csv('./HomeAgent2.csv')"
   ]
  },
  {
   "cell_type": "markdown",
   "id": "9be47368",
   "metadata": {},
   "source": [
    "## Step 3: Storing Listings in a Vector Database\n"
   ]
  },
  {
   "cell_type": "code",
   "execution_count": 13,
   "id": "03a2f31d",
   "metadata": {},
   "outputs": [],
   "source": [
    "# Chroma DB packages\n",
    "from langchain.vectorstores import Chroma\n",
    "from langchain.chains import RetrievalQA, ConversationalRetrievalChain\n",
    "from langchain.embeddings.openai import OpenAIEmbeddings\n",
    "from langchain.chains.question_answering import load_qa_chain"
   ]
  },
  {
   "cell_type": "markdown",
   "id": "1a1b4390",
   "metadata": {},
   "source": [
    "Load it the dataset from a file."
   ]
  },
  {
   "cell_type": "code",
   "execution_count": 14,
   "id": "014d350a",
   "metadata": {},
   "outputs": [],
   "source": [
    "from langchain.document_loaders.csv_loader import CSVLoader\n",
    "from langchain.text_splitter import CharacterTextSplitter\n",
    "\n",
    "loader = CSVLoader(file_path='./HomeAgent2.csv')\n",
    "docs = loader.load()\n",
    "\n",
    "splitter = CharacterTextSplitter(chunk_size=1000, chunk_overlap=0)\n",
    "split_docs = splitter.split_documents(docs)\n"
   ]
  },
  {
   "cell_type": "markdown",
   "id": "c8d01c9e",
   "metadata": {},
   "source": [
    "- **Vector Database Setup**: Initialize and configure ChromaDB or a similar vector database to store real estate listings.\n",
    "- **Generating and Storing Embeddings**: Convert the LLM-generated listings into suitable embeddings that capture the semantic content of each listing, and store these embeddings in the vector database."
   ]
  },
  {
   "cell_type": "code",
   "execution_count": 15,
   "id": "bc6dd64a",
   "metadata": {},
   "outputs": [
    {
     "name": "stderr",
     "output_type": "stream",
     "text": [
      "c:\\ProgramData\\anaconda3\\envs\\langchain\\Lib\\site-packages\\langchain_core\\_api\\deprecation.py:117: LangChainDeprecationWarning: The class `langchain_community.embeddings.openai.OpenAIEmbeddings` was deprecated in langchain-community 0.0.9 and will be removed in 0.2.0. An updated version of the class exists in the langchain-openai package and should be used instead. To use it run `pip install -U langchain-openai` and import as `from langchain_openai import OpenAIEmbeddings`.\n",
      "  warn_deprecated(\n"
     ]
    }
   ],
   "source": [
    "#db = Chroma.from_documents(chunks, OpenAIEmbeddings())\n",
    "db = Chroma.from_documents(documents = split_docs,\n",
    "                        embedding = OpenAIEmbeddings(),\n",
    "                        persist_directory='./data')"
   ]
  },
  {
   "cell_type": "markdown",
   "id": "f5b9e4cf",
   "metadata": {},
   "source": [
    "Test the vector db to extract the similarity entries to the requirements."
   ]
  },
  {
   "cell_type": "code",
   "execution_count": 16,
   "id": "97daa7ec",
   "metadata": {},
   "outputs": [
    {
     "data": {
      "text/plain": [
       "[Document(page_content=\": 18\\nNeighborhood: Yoichi\\nPrice: 33000000\\nBedrooms: 2\\nBathrooms: 1\\nHouse Size: 100\\nDescription: Step into your dream home in Yoichi! This cozy property boasts modern appliances, spacious living areas, and breathtaking views. Enjoy the convenience of a fully equipped kitchen, luxurious bathroom, and private outdoor space. Don't miss out on this perfect blend of comfort and style!\\nNeighborhood Description: Yoichi offers a vibrant neighborhood with excellent transportation links, top-rated schools, shopping centers, and leisure facilities. Its perfect blend of urban amenities and natural beauty makes it a desirable location.\", metadata={'row': 18, 'source': './HomeAgent2.csv'}),\n",
       " Document(page_content=': 10\\nNeighborhood: Abashiri\\nPrice: 32000000\\nBedrooms: 2\\nBathrooms: 1\\nHouse Size: 90\\nDescription: Step into your dream home in Abashiri, where cozy comfort meets modern convenience. This charming property boasts a fully-equipped kitchen, spacious living area, and a serene garden perfect for relaxation. With nearby schools, parks, and shopping, this is the ideal place to call home.\\nNeighborhood Description: Nestled in Abashiri, this property boasts easy access to transportation lines, top-rated schools, shopping centers, and leisure facilities. Enjoy a perfect blend of urban convenience and peaceful surroundings.', metadata={'row': 10, 'source': './HomeAgent2.csv'}),\n",
       " Document(page_content=': 0\\nNeighborhood: Sapporo\\nPrice: 45000000\\nBedrooms: 3\\nBathrooms: 2\\nHouse Size: 150\\nDescription: Step into your dream home in Sapporo! This cozy real estate gem comes fully equipped with modern amenities like a spacious kitchen, luxurious bathroom, and a cozy fireplace. Enjoy the convenience of nearby parks, shopping centers, and public transportation. Welcome home!\\nNeighborhood Description: \"Located in Sapporo, this property boasts excellent access to transportation lines, top-rated schools, shopping centers, and leisure facilities. Enjoy the perfect blend of urban convenience and peaceful surroundings.\"', metadata={'row': 0, 'source': './HomeAgent2.csv'}),\n",
       " Document(page_content=': 0\\nNeighborhood: Sapporo\\nPrice: 45000000\\nBedrooms: 3\\nBathrooms: 2\\nHouse Size: 150\\nDescription: Step into your dream home in Sapporo! This cozy real estate gem comes fully equipped with modern amenities like a spacious kitchen, luxurious bathroom, and a cozy fireplace. Enjoy the convenience of nearby parks, shopping centers, and public transportation. Welcome home!\\nNeighborhood Description: \"Located in Sapporo, this property boasts excellent access to transportation lines, top-rated schools, shopping centers, and leisure facilities. Enjoy the perfect blend of urban convenience and peaceful surroundings.\"', metadata={'row': 0, 'source': './HomeAgent2.csv'})]"
      ]
     },
     "execution_count": 16,
     "metadata": {},
     "output_type": "execute_result"
    }
   ],
   "source": [
    "matching_docs = db.similarity_search(\"Which resident has good transportation?\")\n",
    "matching_docs"
   ]
  },
  {
   "cell_type": "markdown",
   "id": "e24df7f2",
   "metadata": {},
   "source": [
    "Following is the test to use vector db with OpenAI."
   ]
  },
  {
   "cell_type": "code",
   "execution_count": 17,
   "id": "2f7d568a",
   "metadata": {},
   "outputs": [
    {
     "name": "stderr",
     "output_type": "stream",
     "text": [
      "c:\\ProgramData\\anaconda3\\envs\\langchain\\Lib\\site-packages\\langchain_core\\_api\\deprecation.py:117: LangChainDeprecationWarning: The function `run` was deprecated in LangChain 0.1.0 and will be removed in 0.2.0. Use invoke instead.\n",
      "  warn_deprecated(\n"
     ]
    },
    {
     "name": "stdout",
     "output_type": "stream",
     "text": [
      "\n",
      "\n",
      "\u001b[1m> Entering new StuffDocumentsChain chain...\u001b[0m\n",
      "\n",
      "\n",
      "\u001b[1m> Entering new LLMChain chain...\u001b[0m\n",
      "Prompt after formatting:\n",
      "\u001b[32;1m\u001b[1;3mSystem: Use the following pieces of context to answer the user's question. \n",
      "If you don't know the answer, just say that you don't know, don't try to make up an answer.\n",
      "----------------\n",
      ": 18\n",
      "Neighborhood: Yoichi\n",
      "Price: 33000000\n",
      "Bedrooms: 2\n",
      "Bathrooms: 1\n",
      "House Size: 100\n",
      "Description: Step into your dream home in Yoichi! This cozy property boasts modern appliances, spacious living areas, and breathtaking views. Enjoy the convenience of a fully equipped kitchen, luxurious bathroom, and private outdoor space. Don't miss out on this perfect blend of comfort and style!\n",
      "Neighborhood Description: Yoichi offers a vibrant neighborhood with excellent transportation links, top-rated schools, shopping centers, and leisure facilities. Its perfect blend of urban amenities and natural beauty makes it a desirable location.\n",
      "\n",
      ": 10\n",
      "Neighborhood: Abashiri\n",
      "Price: 32000000\n",
      "Bedrooms: 2\n",
      "Bathrooms: 1\n",
      "House Size: 90\n",
      "Description: Step into your dream home in Abashiri, where cozy comfort meets modern convenience. This charming property boasts a fully-equipped kitchen, spacious living area, and a serene garden perfect for relaxation. With nearby schools, parks, and shopping, this is the ideal place to call home.\n",
      "Neighborhood Description: Nestled in Abashiri, this property boasts easy access to transportation lines, top-rated schools, shopping centers, and leisure facilities. Enjoy a perfect blend of urban convenience and peaceful surroundings.\n",
      "\n",
      ": 0\n",
      "Neighborhood: Sapporo\n",
      "Price: 45000000\n",
      "Bedrooms: 3\n",
      "Bathrooms: 2\n",
      "House Size: 150\n",
      "Description: Step into your dream home in Sapporo! This cozy real estate gem comes fully equipped with modern amenities like a spacious kitchen, luxurious bathroom, and a cozy fireplace. Enjoy the convenience of nearby parks, shopping centers, and public transportation. Welcome home!\n",
      "Neighborhood Description: \"Located in Sapporo, this property boasts excellent access to transportation lines, top-rated schools, shopping centers, and leisure facilities. Enjoy the perfect blend of urban convenience and peaceful surroundings.\"\n",
      "\n",
      ": 0\n",
      "Neighborhood: Sapporo\n",
      "Price: 45000000\n",
      "Bedrooms: 3\n",
      "Bathrooms: 2\n",
      "House Size: 150\n",
      "Description: Step into your dream home in Sapporo! This cozy real estate gem comes fully equipped with modern amenities like a spacious kitchen, luxurious bathroom, and a cozy fireplace. Enjoy the convenience of nearby parks, shopping centers, and public transportation. Welcome home!\n",
      "Neighborhood Description: \"Located in Sapporo, this property boasts excellent access to transportation lines, top-rated schools, shopping centers, and leisure facilities. Enjoy the perfect blend of urban convenience and peaceful surroundings.\"\n",
      "Human: Which resident has good transportation?\u001b[0m\n",
      "\n",
      "\u001b[1m> Finished chain.\u001b[0m\n",
      "\n",
      "\u001b[1m> Finished chain.\u001b[0m\n"
     ]
    },
    {
     "data": {
      "text/plain": [
       "'Both residents in Sapporo and Abashiri have properties that boast excellent access to transportation lines.'"
      ]
     },
     "execution_count": 17,
     "metadata": {},
     "output_type": "execute_result"
    }
   ],
   "source": [
    "from langchain.chains.question_answering import load_qa_chain\n",
    "chain = load_qa_chain(llm, chain_type=\"stuff\",verbose=True)\n",
    "\n",
    "answer =  chain.run(input_documents=matching_docs, question=\"Which resident has good transportation?\")\n",
    "answer"
   ]
  },
  {
   "cell_type": "markdown",
   "id": "9a0461ee",
   "metadata": {},
   "source": [
    "Another example with RetrievalQA."
   ]
  },
  {
   "cell_type": "code",
   "execution_count": 18,
   "id": "38e60be5",
   "metadata": {},
   "outputs": [
    {
     "data": {
      "text/plain": [
       "'Both the residents of Yoichi and Sapporo have access to good transportation. Yoichi offers excellent transportation links, while Sapporo boasts excellent access to transportation lines.'"
      ]
     },
     "execution_count": 18,
     "metadata": {},
     "output_type": "execute_result"
    }
   ],
   "source": [
    "from langchain.chains import RetrievalQA\n",
    "retrieval_chain = RetrievalQA.from_chain_type(llm, chain_type=\"stuff\", retriever=db.as_retriever())\n",
    "retrieval_chain.run(\"Which resident has good transportation?\")"
   ]
  },
  {
   "cell_type": "markdown",
   "id": "d0a5208c",
   "metadata": {},
   "source": [
    "## Step 4: Building the User Preference Interface\n",
    "\n",
    "Collect buyer preferences, such as the number of bedrooms, bathrooms, location, and other specific requirements from a set of questions or telling the buyer to enter their preferences in natural language. You can hard-code the buyer preferences in questions and answers as below."
   ]
  },
  {
   "cell_type": "code",
   "execution_count": 19,
   "id": "012cb881",
   "metadata": {},
   "outputs": [],
   "source": [
    "questions = [\n",
    "                \"How big do you want your house to be?\",\n",
    "                \"What are 3 most important things for you in choosing this property?\",\n",
    "                \"Which amenities would you like?\",\n",
    "                \"Which transportation options are important to you?\",\n",
    "                \"How urban do you want your neighborhood to be?\",\n",
    "            ]\n",
    "answers = [\n",
    "                \"A comfortable three-bedroom house with a spacious kitchen and a cozy living room.\",\n",
    "                \"A quiet neighborhood, good local schools, and convenient shopping options.\",\n",
    "                \"A backyard for gardening, a two-car garage, and a modern, energy-efficient heating system.\",\n",
    "                \"Easy access to a reliable bus line, proximity to a major highway, and bike-friendly roads.\",\n",
    "                \"A balance between suburban tranquility and access to urban amenities like restaurants and theaters.\"\n",
    "            ]"
   ]
  },
  {
   "cell_type": "markdown",
   "id": "a46b578b",
   "metadata": {},
   "source": [
    "Buyer Preference Parsing: Implement logic to interpret and structure these preferences for inputing the vector database."
   ]
  },
  {
   "cell_type": "code",
   "execution_count": 20,
   "id": "73152180",
   "metadata": {},
   "outputs": [],
   "source": [
    "from langchain.memory import ConversationBufferMemory, ChatMessageHistory\n",
    "#from typing import Any, Dict, Optional, Tuple\n"
   ]
  },
  {
   "cell_type": "markdown",
   "id": "7cdeb0e3",
   "metadata": {},
   "source": [
    "Create a memory of QAs for user preference."
   ]
  },
  {
   "cell_type": "code",
   "execution_count": 21,
   "id": "427ed1f4",
   "metadata": {},
   "outputs": [],
   "source": [
    "# Construct a conversational history\n",
    "history = ChatMessageHistory()\n",
    "for question, answer in zip(questions, answers):\n",
    "    history.add_ai_message(question)\n",
    "    history.add_user_message(answer)\n",
    "history.add_ai_message(\"\"\"Now I can recommend a home we're considering best suited for you from the listings.\"\"\")\n",
    "\n",
    "# you could choose to store some of the q/a in memory as well, in addition to original questions\n",
    "# class MementoBufferMemory(ConversationBufferMemory):\n",
    "#     def save_context(self, inputs: Dict[str, Any], outputs: Dict[str, str]) -> None:\n",
    "#         input_str, output_str = self._get_input_output(inputs, outputs)\n",
    "#         self.chat_memory.add_user_message(input_str)\n",
    "#         self.chat_memory.add_ai_message(output_str)\n",
    "\n",
    "preset_memory = ConversationBufferMemory(\n",
    "    chat_memory=history,\n",
    "    memory_key = 'chat_history',\n",
    "    return_messages=True\n",
    ")\n"
   ]
  },
  {
   "cell_type": "markdown",
   "id": "d51ad6f7",
   "metadata": {},
   "source": [
    "Create a chain to make a recommendation based on QA conversation memory and listings the agent has."
   ]
  },
  {
   "cell_type": "code",
   "execution_count": 22,
   "id": "e699c9a5",
   "metadata": {},
   "outputs": [],
   "source": [
    "from langchain.chains import ConversationalRetrievalChain\n",
    "\n",
    "qa = ConversationalRetrievalChain.from_llm(\n",
    "    llm = llm,\n",
    "    retriever =db.as_retriever(),\n",
    "    memory=preset_memory,\n",
    "    verbose = True)"
   ]
  },
  {
   "cell_type": "markdown",
   "id": "76a09ba6",
   "metadata": {},
   "source": [
    "Test with an example inquirry."
   ]
  },
  {
   "cell_type": "code",
   "execution_count": 23,
   "id": "81f5966c",
   "metadata": {},
   "outputs": [
    {
     "name": "stdout",
     "output_type": "stream",
     "text": [
      "\n",
      "\n",
      "\u001b[1m> Entering new LLMChain chain...\u001b[0m\n",
      "Prompt after formatting:\n",
      "\u001b[32;1m\u001b[1;3mGiven the following conversation and a follow up question, rephrase the follow up question to be a standalone question, in its original language.\n",
      "\n",
      "Chat History:\n",
      "\n",
      "Assistant: How big do you want your house to be?\n",
      "Human: A comfortable three-bedroom house with a spacious kitchen and a cozy living room.\n",
      "Assistant: What are 3 most important things for you in choosing this property?\n",
      "Human: A quiet neighborhood, good local schools, and convenient shopping options.\n",
      "Assistant: Which amenities would you like?\n",
      "Human: A backyard for gardening, a two-car garage, and a modern, energy-efficient heating system.\n",
      "Assistant: Which transportation options are important to you?\n",
      "Human: Easy access to a reliable bus line, proximity to a major highway, and bike-friendly roads.\n",
      "Assistant: How urban do you want your neighborhood to be?\n",
      "Human: A balance between suburban tranquility and access to urban amenities like restaurants and theaters.\n",
      "Assistant: Now I can recommend a home we're considering best suited for you from the listings.\n",
      "Follow Up Input: Considering my preference, which resident in your listings is the best?\n",
      "Standalone question:\u001b[0m\n",
      "\n",
      "\u001b[1m> Finished chain.\u001b[0m\n",
      "\n",
      "\n",
      "\u001b[1m> Entering new StuffDocumentsChain chain...\u001b[0m\n",
      "\n",
      "\n",
      "\u001b[1m> Entering new LLMChain chain...\u001b[0m\n",
      "Prompt after formatting:\n",
      "\u001b[32;1m\u001b[1;3mSystem: Use the following pieces of context to answer the user's question. \n",
      "If you don't know the answer, just say that you don't know, don't try to make up an answer.\n",
      "----------------\n",
      ": 18\n",
      "Neighborhood: Yoichi\n",
      "Price: 33000000\n",
      "Bedrooms: 2\n",
      "Bathrooms: 1\n",
      "House Size: 100\n",
      "Description: Step into your dream home in Yoichi! This cozy property boasts modern appliances, spacious living areas, and breathtaking views. Enjoy the convenience of a fully equipped kitchen, luxurious bathroom, and private outdoor space. Don't miss out on this perfect blend of comfort and style!\n",
      "Neighborhood Description: Yoichi offers a vibrant neighborhood with excellent transportation links, top-rated schools, shopping centers, and leisure facilities. Its perfect blend of urban amenities and natural beauty makes it a desirable location.\n",
      "\n",
      ": 12\n",
      "Neighborhood: Aomori\n",
      "Price: 75000000\n",
      "Bedrooms: 4\n",
      "Bathrooms: 3\n",
      "House Size: 190\n",
      "Description: Step into your dream home in Aomori! This cozy real estate boasts modern amenities like a spacious kitchen, luxurious bathroom, and stunning views. Enjoy the convenience of a home office, private garden, and smart home technology. Live your best life in Aomori!\n",
      "Neighborhood Description: Nestled in Aomori's charming neighborhood, this property offers easy access to transportation lines, top-rated schools, shopping centers, and leisure facilities. Enjoy the perfect blend of urban convenience and peaceful living.\n",
      "\n",
      ": 12\n",
      "Neighborhood: Aomori\n",
      "Price: 75000000\n",
      "Bedrooms: 4\n",
      "Bathrooms: 3\n",
      "House Size: 190\n",
      "Description: Step into your dream home in Aomori! This cozy real estate boasts modern amenities like a spacious kitchen, luxurious bathroom, and stunning views. Enjoy the convenience of a home office, private garden, and smart home technology. Live your best life in Aomori!\n",
      "Neighborhood Description: Nestled in Aomori's charming neighborhood, this property offers easy access to transportation lines, top-rated schools, shopping centers, and leisure facilities. Enjoy the perfect blend of urban convenience and peaceful living.\n",
      "\n",
      ": 0\n",
      "Neighborhood: Sapporo\n",
      "Price: 65000000\n",
      "Bedrooms: 3\n",
      "Bathrooms: 2\n",
      "House Size: 150\n",
      "Description: Welcome to this charming Sapporo property! This cozy home features modern appliances, a spacious kitchen, and a tranquil garden perfect for relaxing. With nearby parks, schools, and shopping centers, this is the ideal place to call home. Schedule a viewing today!\n",
      "Neighborhood Description: Located in Sapporo, this real estate boasts a vibrant neighborhood with excellent transportation links, top-rated schools, trendy shopping options, and abundant leisure facilities. Enjoy urban living at its finest!\n",
      "Human: Which resident in your listings is the best suited for me based on my preferences?\u001b[0m\n",
      "\n",
      "\u001b[1m> Finished chain.\u001b[0m\n",
      "\n",
      "\u001b[1m> Finished chain.\u001b[0m\n"
     ]
    }
   ],
   "source": [
    "result = qa.invoke(\"Considering my preference, which resident in your listings is the best?\")"
   ]
  },
  {
   "cell_type": "markdown",
   "id": "0d0f589a",
   "metadata": {},
   "source": [
    "Display the response(answer) from AI."
   ]
  },
  {
   "cell_type": "code",
   "execution_count": 24,
   "id": "c28e97a4",
   "metadata": {},
   "outputs": [
    {
     "data": {
      "text/plain": [
       "'Based on your preferences for a cozy property with modern amenities, a spacious kitchen, luxurious bathroom, and a private outdoor space, the property in Yoichi with 2 bedrooms, 1 bathroom, and a house size of 100 might be the best suited for you. It offers breathtaking views and is located in a vibrant neighborhood with excellent transportation links and top-rated schools.'"
      ]
     },
     "metadata": {},
     "output_type": "display_data"
    }
   ],
   "source": [
    "display(result[\"answer\"])"
   ]
  },
  {
   "cell_type": "markdown",
   "id": "7cada282",
   "metadata": {},
   "source": [
    "## Step 6: Test with an app\n",
    "\n"
   ]
  },
  {
   "cell_type": "code",
   "execution_count": 25,
   "id": "8ae15e78",
   "metadata": {},
   "outputs": [
    {
     "name": "stdout",
     "output_type": "stream",
     "text": [
      "Running on local URL:  http://127.0.0.1:7860\n",
      "\n",
      "To create a public link, set `share=True` in `launch()`.\n"
     ]
    },
    {
     "data": {
      "text/html": [
       "<div><iframe src=\"http://127.0.0.1:7860/\" width=\"100%\" height=\"500\" allow=\"autoplay; camera; microphone; clipboard-read; clipboard-write;\" frameborder=\"0\" allowfullscreen></iframe></div>"
      ],
      "text/plain": [
       "<IPython.core.display.HTML object>"
      ]
     },
     "metadata": {},
     "output_type": "display_data"
    },
    {
     "name": "stderr",
     "output_type": "stream",
     "text": [
      "c:\\ProgramData\\anaconda3\\envs\\langchain\\Lib\\site-packages\\langchain_core\\_api\\deprecation.py:117: LangChainDeprecationWarning: The function `__call__` was deprecated in LangChain 0.1.0 and will be removed in 0.2.0. Use invoke instead.\n",
      "  warn_deprecated(\n"
     ]
    },
    {
     "name": "stdout",
     "output_type": "stream",
     "text": [
      "\n",
      "\n",
      "\u001b[1m> Entering new LLMChain chain...\u001b[0m\n",
      "Prompt after formatting:\n",
      "\u001b[32;1m\u001b[1;3mGiven the following conversation and a follow up question, rephrase the follow up question to be a standalone question, in its original language.\n",
      "\n",
      "Chat History:\n",
      "\n",
      "Assistant: How big do you want your house to be?\n",
      "Human: A comfortable three-bedroom house with a spacious kitchen and a cozy living room.\n",
      "Assistant: What are 3 most important things for you in choosing this property?\n",
      "Human: A quiet neighborhood, good local schools, and convenient shopping options.\n",
      "Assistant: Which amenities would you like?\n",
      "Human: A backyard for gardening, a two-car garage, and a modern, energy-efficient heating system.\n",
      "Assistant: Which transportation options are important to you?\n",
      "Human: Easy access to a reliable bus line, proximity to a major highway, and bike-friendly roads.\n",
      "Assistant: How urban do you want your neighborhood to be?\n",
      "Human: A balance between suburban tranquility and access to urban amenities like restaurants and theaters.\n",
      "Assistant: Now I can recommend a home we're considering best suited for you from the listings.\n",
      "Human: Considering my preference, which resident in your listings is the best?\n",
      "Assistant: Based on your preferences for a cozy property with modern amenities, a spacious kitchen, luxurious bathroom, and a private outdoor space, the property in Yoichi with 2 bedrooms, 1 bathroom, and a house size of 100 might be the best suited for you. It offers breathtaking views and is located in a vibrant neighborhood with excellent transportation links and top-rated schools.\n",
      "Follow Up Input: Which do you recommend if I like Furano the best in Hokkaido?\n",
      "Standalone question:\u001b[0m\n",
      "\n",
      "\u001b[1m> Finished chain.\u001b[0m\n",
      "\n",
      "\n",
      "\u001b[1m> Entering new StuffDocumentsChain chain...\u001b[0m\n",
      "\n",
      "\n",
      "\u001b[1m> Entering new LLMChain chain...\u001b[0m\n",
      "Prompt after formatting:\n",
      "\u001b[32;1m\u001b[1;3mSystem: Use the following pieces of context to answer the user's question. \n",
      "If you don't know the answer, just say that you don't know, don't try to make up an answer.\n",
      "----------------\n",
      ": 7\n",
      "Neighborhood: Furano\n",
      "Price: 35000000\n",
      "Bedrooms: 2\n",
      "Bathrooms: 1\n",
      "House Size: 100\n",
      "Description: Step into your dream home in Furano, where cozy comfort meets modern convenience. This charming property boasts a spacious kitchen with top-of-the-line appliances, a luxurious master suite with a spa-like bathroom, and a private backyard oasis perfect for relaxing or entertaining. Don't miss out on this incredible opportunity!\n",
      "Neighborhood Description: Nestled in Furano, this property boasts excellent transportation links, top-rated schools, convenient shopping options, and abundant leisure facilities nearby. Enjoy a perfect blend of urban convenience and tranquil surroundings.\n",
      "\n",
      ": 13\n",
      "Neighborhood: Furano\n",
      "Price: 44000000\n",
      "Bedrooms: 3\n",
      "Bathrooms: 2\n",
      "House Size: 145\n",
      "Description: Step into your dream home in Furano! This cozy property comes fully equipped with modern appliances, a spacious kitchen, and a beautiful fireplace. Enjoy the convenience of a private garage, stunning views of the mountains, and easy access to nearby ski resorts. Live the ultimate Furano lifestyle!\n",
      "Neighborhood Description: Situated in Furano, this real estate enjoys excellent proximity to transportation lines, schools, shopping centers, and leisure facilities. The perfect balance of urban convenience and natural beauty awaits you.\n",
      "\n",
      ": 13\n",
      "Neighborhood: Furano\n",
      "Price: 44000000\n",
      "Bedrooms: 3\n",
      "Bathrooms: 2\n",
      "House Size: 145\n",
      "Description: Step into your dream home in Furano! This cozy property comes fully equipped with modern appliances, a spacious kitchen, and a beautiful fireplace. Enjoy the convenience of a private garage, stunning views of the mountains, and easy access to nearby ski resorts. Live the ultimate Furano lifestyle!\n",
      "Neighborhood Description: Situated in Furano, this real estate enjoys excellent proximity to transportation lines, schools, shopping centers, and leisure facilities. The perfect balance of urban convenience and natural beauty awaits you.\n",
      "\n",
      ": 13\n",
      "Neighborhood: Furano\n",
      "Price: 44000000\n",
      "Bedrooms: 3\n",
      "Bathrooms: 2\n",
      "House Size: 145\n",
      "Description: Step into your dream home in Furano! This cozy property comes fully equipped with modern appliances, a spacious kitchen, and a beautiful fireplace. Enjoy the convenience of a private garage, stunning views of the mountains, and easy access to nearby ski resorts. Live the ultimate Furano lifestyle!\n",
      "Neighborhood Description: Situated in Furano, this real estate enjoys excellent proximity to transportation lines, schools, shopping centers, and leisure facilities. The perfect balance of urban convenience and natural beauty awaits you.\n",
      "Human: Which property do you recommend if I prefer Furano in Hokkaido?\u001b[0m\n",
      "\n",
      "\u001b[1m> Finished chain.\u001b[0m\n",
      "\n",
      "\u001b[1m> Finished chain.\u001b[0m\n",
      "\n",
      "\n",
      "\u001b[1m> Entering new LLMChain chain...\u001b[0m\n",
      "Prompt after formatting:\n",
      "\u001b[32;1m\u001b[1;3mGiven the following conversation and a follow up question, rephrase the follow up question to be a standalone question, in its original language.\n",
      "\n",
      "Chat History:\n",
      "\n",
      "Assistant: How big do you want your house to be?\n",
      "Human: A comfortable three-bedroom house with a spacious kitchen and a cozy living room.\n",
      "Assistant: What are 3 most important things for you in choosing this property?\n",
      "Human: A quiet neighborhood, good local schools, and convenient shopping options.\n",
      "Assistant: Which amenities would you like?\n",
      "Human: A backyard for gardening, a two-car garage, and a modern, energy-efficient heating system.\n",
      "Assistant: Which transportation options are important to you?\n",
      "Human: Easy access to a reliable bus line, proximity to a major highway, and bike-friendly roads.\n",
      "Assistant: How urban do you want your neighborhood to be?\n",
      "Human: A balance between suburban tranquility and access to urban amenities like restaurants and theaters.\n",
      "Assistant: Now I can recommend a home we're considering best suited for you from the listings.\n",
      "Human: Considering my preference, which resident in your listings is the best?\n",
      "Assistant: Based on your preferences for a cozy property with modern amenities, a spacious kitchen, luxurious bathroom, and a private outdoor space, the property in Yoichi with 2 bedrooms, 1 bathroom, and a house size of 100 might be the best suited for you. It offers breathtaking views and is located in a vibrant neighborhood with excellent transportation links and top-rated schools.\n",
      "Human: Which do you recommend if I like Furano the best in Hokkaido?\n",
      "Assistant: Based on the information provided, all three properties are located in Furano, Hokkaido. Each property has its own unique features and amenities, so the choice would depend on your specific preferences and requirements. I recommend reviewing the details of each property such as the number of bedrooms, bathrooms, house size, and the specific features mentioned in the descriptions to determine which one aligns best with your needs and preferences.\n",
      "Follow Up Input: Which do you recommend if I need at least 2 bathrooms.\n",
      "Standalone question:\u001b[0m\n",
      "\n",
      "\u001b[1m> Finished chain.\u001b[0m\n",
      "\n",
      "\n",
      "\u001b[1m> Entering new StuffDocumentsChain chain...\u001b[0m\n",
      "\n",
      "\n",
      "\u001b[1m> Entering new LLMChain chain...\u001b[0m\n",
      "Prompt after formatting:\n",
      "\u001b[32;1m\u001b[1;3mSystem: Use the following pieces of context to answer the user's question. \n",
      "If you don't know the answer, just say that you don't know, don't try to make up an answer.\n",
      "----------------\n",
      ": 18\n",
      "Neighborhood: Yoichi\n",
      "Price: 33000000\n",
      "Bedrooms: 2\n",
      "Bathrooms: 1\n",
      "House Size: 100\n",
      "Description: Step into your dream home in Yoichi! This cozy property boasts modern appliances, spacious living areas, and breathtaking views. Enjoy the convenience of a fully equipped kitchen, luxurious bathroom, and private outdoor space. Don't miss out on this perfect blend of comfort and style!\n",
      "Neighborhood Description: Yoichi offers a vibrant neighborhood with excellent transportation links, top-rated schools, shopping centers, and leisure facilities. Its perfect blend of urban amenities and natural beauty makes it a desirable location.\n",
      "\n",
      ": 0\n",
      "Neighborhood: Sapporo\n",
      "Price: 55000000\n",
      "Bedrooms: 4\n",
      "Bathrooms: 2\n",
      "House Size: 180\n",
      "Description: Step into your cozy Sapporo retreat, complete with modern amenities like a sleek kitchen, inviting living room, and tranquil bedroom. Enjoy the convenience of a spacious bathroom, private balcony, and secure parking. Experience comfort and style in the heart of Sapporo!\n",
      "Neighborhood Description: Located in Sapporo, this real estate boasts a vibrant neighborhood with excellent transportation links, top-rated schools, trendy shopping options, and a variety of leisure facilities. Experience urban living at its finest!\n",
      "\n",
      ": 10\n",
      "Neighborhood: Abashiri\n",
      "Price: 32000000\n",
      "Bedrooms: 2\n",
      "Bathrooms: 1\n",
      "House Size: 90\n",
      "Description: Step into your dream home in Abashiri, where cozy comfort meets modern convenience. This charming property boasts a fully-equipped kitchen, spacious living area, and a serene garden perfect for relaxation. With nearby schools, parks, and shopping, this is the ideal place to call home.\n",
      "Neighborhood Description: Nestled in Abashiri, this property boasts easy access to transportation lines, top-rated schools, shopping centers, and leisure facilities. Enjoy a perfect blend of urban convenience and peaceful surroundings.\n",
      "\n",
      ": 3\n",
      "Neighborhood: Asahikawa\n",
      "Price: 28000000\n",
      "Bedrooms: 2\n",
      "Bathrooms: 1\n",
      "House Size: 90\n",
      "Description: Step into your dream home in Asahikawa! This cozy property comes fully equipped with modern amenities such as a spacious kitchen, a relaxing hot tub, and a beautiful garden. Enjoy the peaceful surroundings and make this charming house your own slice of paradise.\n",
      "Neighborhood Description: Located in Asahikawa, this property boasts excellent transportation links, top-rated schools, shopping centers, and recreational facilities nearby. Enjoy the perfect balance of urban convenience and peaceful surroundings.\n",
      "Human: Which property would you recommend if I require at least 2 bathrooms?\u001b[0m\n",
      "\n",
      "\u001b[1m> Finished chain.\u001b[0m\n",
      "\n",
      "\u001b[1m> Finished chain.\u001b[0m\n",
      "Keyboard interruption in main thread... closing server.\n"
     ]
    },
    {
     "data": {
      "text/plain": []
     },
     "execution_count": 25,
     "metadata": {},
     "output_type": "execute_result"
    }
   ],
   "source": [
    "import gradio\n",
    "\n",
    "def runChain(query, history):\n",
    "    return qa(query)[\"answer\"]\n",
    "\n",
    "app = gradio.ChatInterface(runChain)\n",
    "app.queue()\n",
    "app.launch(share=False, debug=True)"
   ]
  },
  {
   "cell_type": "code",
   "execution_count": null,
   "id": "c5777ab4",
   "metadata": {},
   "outputs": [
    {
     "name": "stdout",
     "output_type": "stream",
     "text": [
      "Closing server running on port: 7860\n"
     ]
    }
   ],
   "source": [
    "app.close()"
   ]
  },
  {
   "cell_type": "markdown",
   "id": "04d9eb4b",
   "metadata": {},
   "source": [
    "## Sample chat app output\n",
    "\n",
    "![chat app](./chatapp.png)\n"
   ]
  }
 ],
 "metadata": {
  "kernelspec": {
   "display_name": "Python 3 (ipykernel)",
   "language": "python",
   "name": "python3"
  },
  "language_info": {
   "codemirror_mode": {
    "name": "ipython",
    "version": 3
   },
   "file_extension": ".py",
   "mimetype": "text/x-python",
   "name": "python",
   "nbconvert_exporter": "python",
   "pygments_lexer": "ipython3",
   "version": "3.11.8"
  }
 },
 "nbformat": 4,
 "nbformat_minor": 5
}
