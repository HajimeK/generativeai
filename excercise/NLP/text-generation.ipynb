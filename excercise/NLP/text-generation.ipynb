{
 "cells": [
  {
   "cell_type": "code",
   "execution_count": 1,
   "metadata": {},
   "outputs": [
    {
     "name": "stderr",
     "output_type": "stream",
     "text": [
      "c:\\Users\\smeck\\.conda\\envs\\cudaenv\\lib\\site-packages\\tqdm\\auto.py:21: TqdmWarning: IProgress not found. Please update jupyter and ipywidgets. See https://ipywidgets.readthedocs.io/en/stable/user_install.html\n",
      "  from .autonotebook import tqdm as notebook_tqdm\n"
     ]
    }
   ],
   "source": [
    "from __future__ import annotations\n",
    "\n",
    "import torch\n",
    "import torch.nn as nn\n",
    "import torch.optim as optim\n",
    "from torch.utils.data import DataLoader\n",
    "from transformers import AutoTokenizer\n",
    "\n",
    "from helper import (\n",
    "    start_time,\n",
    "    time_since,\n",
    "    ShakespeareDataset,\n",
    "    TokenMapping,\n",
    "    build_model,\n",
    "    next_token,\n",
    "    # Character-based helpers\n",
    "    encode_text,\n",
    "    # Subword-based helpers\n",
    "    encode_text_from_tokenizer,\n",
    "    tokenize_text_from_tokenizer,\n",
    ")"
   ]
  },
  {
   "cell_type": "code",
   "execution_count": 2,
   "metadata": {},
   "outputs": [
    {
     "name": "stdout",
     "output_type": "stream",
     "text": [
      "cuda:0\n"
     ]
    }
   ],
   "source": [
    "# Deterministic training\n",
    "torch.manual_seed(0)\n",
    "\n",
    "# Attempt GPU; if not, stay on CPU\n",
    "device = torch.device('cuda:0' if torch.cuda.is_available() else 'cpu')\n",
    "print(device)"
   ]
  },
  {
   "cell_type": "markdown",
   "metadata": {},
   "source": [
    "# Load Data"
   ]
  },
  {
   "cell_type": "code",
   "execution_count": 4,
   "metadata": {},
   "outputs": [
    {
     "name": "stdout",
     "output_type": "stream",
     "text": [
      "Number of characters in text file: 50,085\n"
     ]
    }
   ],
   "source": [
    "# Reduced data to make it manageable for smaller systems\n",
    "DATA_FILE: str = './data/shakespeare_small.txt'\n",
    "\n",
    "with open(DATA_FILE, 'r') as data_file:\n",
    "    raw_text = data_file.read()\n",
    "\n",
    "print(f'Number of characters in text file: {len(raw_text):,}')"
   ]
  },
  {
   "cell_type": "markdown",
   "metadata": {},
   "source": [
    "# Character-Based Text Generation\n",
    "\n",
    "The first model you'll build for text generation will use character-based\n",
    "tokens.\n",
    "\n",
    "Each token will be a single character from the text and the model will learn\n",
    "to predict the next character (a token).\n",
    "\n",
    "To generate text, the model will take in a new string,\n",
    "character-by-character, and then generate a new likely character based on the\n",
    "past input. Then the model will take into account that new character and\n",
    "generate the following character and so on and so on until the model has\n",
    "produced a set number of characters."
   ]
  },
  {
   "cell_type": "markdown",
   "metadata": {},
   "source": [
    "## Encode Text into Integer Tokens"
   ]
  },
  {
   "cell_type": "markdown",
   "metadata": {},
   "source": [
    "### Normalization"
   ]
  },
  {
   "cell_type": "code",
   "execution_count": 7,
   "metadata": {},
   "outputs": [],
   "source": [
    "import string, re\n",
    "def normalize_text(text: str) -> str:\n",
    "    acceptable_characters = (\n",
    "        string.ascii_letters\n",
    "        + string.digits\n",
    "        + string.punctuation\n",
    "        + string.whitespace\n",
    "    )\n",
    "    normalized_text = ''.join(\n",
    "        filter(lambda letter: letter in acceptable_characters, text)\n",
    "    )\n",
    "    # Make text lower-case\n",
    "    normalized_text = normalized_text.lower()\n",
    "    return normalized_text"
   ]
  },
  {
   "cell_type": "code",
   "execution_count": 8,
   "metadata": {},
   "outputs": [
    {
     "name": "stdout",
     "output_type": "stream",
     "text": [
      "first citizen:\n",
      "before we proceed any further, hear me speak.\n",
      "\n",
      "all:\n",
      "speak, speak.\n",
      "\n",
      "first citizen:\n",
      "you are all resolved rather to die than to famish?\n",
      "\n",
      "all:\n",
      "resolved. resolved.\n",
      "\n",
      "first citizen:\n",
      "first, you know caius marcius is chief enemy to the people.\n",
      "\n",
      "all:\n",
      "we know't, we know't.\n",
      "\n",
      "first citizen:\n",
      "let us kill him, and we'll have corn at our own price.\n",
      "is't a verdict?\n",
      "\n",
      "all:\n",
      "no more talking on't; let it be done: away, away!\n",
      "\n",
      "second citizen:\n",
      "one word, good citizens.\n",
      "\n",
      "first citizen:\n",
      "we are accounted poor\n"
     ]
    }
   ],
   "source": [
    "# TEST: Is your text normalized the way you expected?\n",
    "# Only the first 500 characters of the original text\n",
    "normalized_text = normalize_text(raw_text[:500])\n",
    "print(normalized_text)"
   ]
  },
  {
   "cell_type": "markdown",
   "metadata": {},
   "source": [
    "### Pretokenization"
   ]
  },
  {
   "cell_type": "code",
   "execution_count": 9,
   "metadata": {},
   "outputs": [],
   "source": [
    "def pretokenize_text(text: str) -> str | list[str]:\n",
    "    # TODO: Pretokenize normalized text into character strings\n",
    "    smaller_pieces = text.split()\n",
    "    return smaller_pieces"
   ]
  },
  {
   "cell_type": "code",
   "execution_count": 10,
   "metadata": {},
   "outputs": [
    {
     "name": "stdout",
     "output_type": "stream",
     "text": [
      "['first', 'citizen:', 'before', 'we', 'proceed', 'any', 'further,', 'hear', 'me', 'speak.', 'all:', 'speak,', 'speak.', 'first', 'citizen:', 'you', 'are', 'all', 'resolved', 'rather', 'to', 'die', 'than', 'to', 'famish?', 'all:', 'resolved.', 'resolved.', 'first', 'citizen:', 'first,', 'you', 'know', 'caius', 'marcius', 'is', 'chief', 'enemy', 'to', 'the', 'people.', 'all:', 'we', \"know't,\", 'we', \"know't.\", 'first', 'citizen:', 'let', 'us', 'kill', 'him,', 'and', \"we'll\", 'have', 'corn', 'at', 'our', 'own', 'price.', \"is't\", 'a', 'verdict?', 'all:', 'no', 'more', 'talking', \"on't;\", 'let', 'it', 'be', 'done:', 'away,', 'away!', 'second', 'citizen:', 'one', 'word,', 'good', 'citizens.', 'first', 'citizen:', 'we', 'are', 'accounted', 'poor']\n"
     ]
    }
   ],
   "source": [
    "# TEST: Is your (normalized) text pretokenized the way you expected?\n",
    "# Only the first 500 characters of the original text\n",
    "pretokenized_text = pretokenize_text(normalized_text)\n",
    "print(pretokenized_text)"
   ]
  },
  {
   "cell_type": "markdown",
   "metadata": {},
   "source": [
    "### Tokenize"
   ]
  },
  {
   "cell_type": "code",
   "execution_count": 11,
   "metadata": {},
   "outputs": [],
   "source": [
    "# Combine normalization and pretokenization steps\n",
    "def tokenize_text(text: str) -> str | list[str]:\n",
    "    normalized_text: str = normalize_text(text)\n",
    "    pretokenized_text: str | list[str] = pretokenize_text(normalized_text)\n",
    "    # Characters are already tokens so pretokenized text is already tokenized\n",
    "    tokenized_text = pretokenized_text\n",
    "    return tokenized_text"
   ]
  },
  {
   "cell_type": "code",
   "execution_count": 12,
   "metadata": {},
   "outputs": [
    {
     "name": "stdout",
     "output_type": "stream",
     "text": [
      "['first', 'citizen:', 'before', 'we', 'proceed', 'any', 'further,', 'hear', 'me', 'speak.', 'all:', 'speak,', 'speak.', 'first', 'citizen:', 'you', 'are', 'all', 'resolved', 'rather', 'to', 'die', 'than', 'to', 'famish?', 'all:', 'resolved.', 'resolved.', 'first', 'citizen:', 'first,', 'you', 'know', 'caius', 'marcius', 'is', 'chief', 'enemy', 'to', 'the', 'people.', 'all:', 'we', \"know't,\", 'we', \"know't.\", 'first', 'citizen:', 'let', 'us', 'kill', 'him,', 'and', \"we'll\", 'have', 'corn', 'at', 'our', 'own', 'price.', \"is't\", 'a', 'verdict?', 'all:', 'no', 'more', 'talking', \"on't;\", 'let', 'it', 'be', 'done:', 'away,', 'away!', 'second', 'citizen:', 'one', 'word,', 'good', 'citizens.', 'first', 'citizen:', 'we', 'are', 'accounted', 'poor']\n"
     ]
    }
   ],
   "source": [
    "# TEST: Is your tokenized text the way you expected?\n",
    "tokenized_text = tokenize_text(raw_text[:500])\n",
    "print(tokenized_text)"
   ]
  },
  {
   "cell_type": "markdown",
   "metadata": {},
   "source": [
    "### Postprocessing\n",
    "\n",
    "We'll skip postprocessing since we don't have any special tokens we want to\n",
    "consider for our task here."
   ]
  },
  {
   "cell_type": "markdown",
   "metadata": {},
   "source": [
    "### Encode (Tokens → Integer IDs)\n",
    "\n",
    "We have `encode_text()` from our helper module that can encode our text based on\n",
    "our tokenization process from our created `tokenize_text()` function.\n",
    "\n",
    "This will also provide us with `character_mapping`, an object that we can use to\n",
    "map our tokens back and forth from strings to integer IDs."
   ]
  },
  {
   "cell_type": "code",
   "execution_count": 13,
   "metadata": {},
   "outputs": [],
   "source": [
    "encoded_text, character_mapping = encode_text(raw_text, tokenize_text)"
   ]
  },
  {
   "cell_type": "markdown",
   "metadata": {},
   "source": [
    "## Prepare Dataset"
   ]
  },
  {
   "cell_type": "code",
   "execution_count": 14,
   "metadata": {},
   "outputs": [
    {
     "name": "stdout",
     "output_type": "stream",
     "text": [
      "Size of dataset: 8,973 characters\n"
     ]
    }
   ],
   "source": [
    "n_tokens = character_mapping.n_tokens\n",
    "dataset_size = len(encoded_text)\n",
    "print(f'Size of dataset: {dataset_size:,} characters')"
   ]
  },
  {
   "cell_type": "code",
   "execution_count": 15,
   "metadata": {},
   "outputs": [],
   "source": [
    "# Defining sequence length that will be taken in at a time by our model\n",
    "sequence_length = 32 # Number of characters\n",
    "batch_size = 32\n",
    "\n",
    "train_dataset = ShakespeareDataset(encoded_text, sequence_length)\n",
    "train_loader = DataLoader(\n",
    "    train_dataset,\n",
    "    shuffle=False, # Ensure deterministic training\n",
    "    batch_size=batch_size,\n",
    ")"
   ]
  },
  {
   "cell_type": "markdown",
   "metadata": {},
   "source": [
    "## Define Model\n",
    "\n",
    "We'll provide a defined model today, but this could be a step that you would\n",
    "modify and experiment in other NLP projects you'll do."
   ]
  },
  {
   "cell_type": "code",
   "execution_count": 16,
   "metadata": {},
   "outputs": [],
   "source": [
    "# Defining the model to be trained and generate text with\n",
    "model = build_model(n_tokens)\n",
    "model.to(device)\n",
    "criterion = nn.CrossEntropyLoss()\n",
    "optimizer = optim.Adam(model.parameters())"
   ]
  },
  {
   "cell_type": "markdown",
   "metadata": {},
   "source": [
    "## Define Text Generation\n",
    "\n",
    "The `generate_text_by_char()` function will use your tokenizer and NLP model to\n",
    "generate new text token-by-token (character-by-character in this case) by taking\n",
    "in the input text and token sampling parameters.\n",
    "\n",
    "We can use temperature and top-k sampling to adjust the \"creativeness\" of the\n",
    "generated text.\n",
    "\n",
    "We also pass in the `num_chars` parameter to tell the function how many tokens\n",
    "(characters in this case) to generate."
   ]
  },
  {
   "cell_type": "code",
   "execution_count": 17,
   "metadata": {},
   "outputs": [],
   "source": [
    "def generate_text_by_char(\n",
    "    input_str: str,\n",
    "    model,\n",
    "    token_mapping: TokenMapping = character_mapping,\n",
    "    num_chars: int = 100,\n",
    "    temperature: float = 1.0,\n",
    "    topk: int | None = None,\n",
    ") -> str:\n",
    "    # Uses your character-based tokenizer\n",
    "    tokenized_text: list[str] = tokenize_text(input_str)\n",
    "    # Generates token-by-token and creates a list of those tokens\n",
    "    generated_tokens = []\n",
    "    for _ in range(num_chars):\n",
    "        # Uses the input text and generated text (so far) to get next token\n",
    "        new_char = next_token(\n",
    "            tokenized_text=(tokenized_text + generated_tokens),\n",
    "            model=model,\n",
    "            token_mapping=token_mapping,\n",
    "            # Temperature & top-k sampling used in determining the next token\n",
    "            temperature=temperature,\n",
    "            topk=topk,\n",
    "            device=device,\n",
    "        )\n",
    "        generated_tokens.append(new_char)\n",
    "    # Returns input string plus the full generated string (of generated tokens)\n",
    "    full_text = ''.join(tokenized_text + generated_tokens)\n",
    "    return full_text"
   ]
  },
  {
   "cell_type": "markdown",
   "metadata": {},
   "source": [
    "## Train Model\n",
    "\n",
    "At this point, the model has not been trained so the code below will train the\n",
    "NLP model that will be used to generate new text.\n",
    "\n",
    "The model will take in the text data (broken by tokens by our character-based\n",
    "tokenizer) and attempt to predict the next token. Over time, the model should\n",
    "hopefully get better in predicting the next token (given the previous text).\n",
    "\n",
    "To help us visualize how the model is training, at the end of every epoch, we\n",
    "generate text using the `TEST_PHRASE` with the improving model."
   ]
  },
  {
   "cell_type": "code",
   "execution_count": 18,
   "metadata": {},
   "outputs": [
    {
     "name": "stdout",
     "output_type": "stream",
     "text": [
      "Epoch 1/25, Loss: 7.318623074463436\n",
      "[00m 2.4s (0 0.0) 7.0235]\n",
      "------------------------------------------------------------------------\n",
      "tobeornottobethosethemarcius;whomevenandwithgoodwasfarewell.thingbutofmile;towithtocountryselves!wouldtoafrichimforthhastysay!citizen:knaves.famemarkaccounted'tiswhothevigilantthecoriolanus,withpartgravemakesitexcellenthavewithandisnameus.yousentwasnotit.retiresmarcius:forfor't.haveandawascapitol!chainenemy,theoverta'enon,west:thouhalfofhim.minglehim,goodtremble.totheirmespeaks!capshis.toandson;reportcannotgoratherbleedingthenamhowshalloffours.'twas,appetite,thus\n",
      "Epoch 2/25, Loss: 6.64226576430457\n",
      "[00m 4.1s (1 4.0) 6.6775]\n",
      "------------------------------------------------------------------------\n",
      "tobeornottobeinwhomgo'stwhatcountenance.suchaenough:cominius:wewish,fortune,mine.partlyhe'stheiro,giltproud;trenches?deathame:thyaffectionsmother,yetthat:wondrousonnottheseseatandsoldier:iyou'lltofindhiscarriesitinandgoodnorseeking?trumpetsshallo,thenote,herwho'syourhangmenagreed.knowsworelaywhichithebywhomoreenemy?remainenters;you'llwifeflamensbesides,battle:shallhelpthattothewhere,thebeyondyouithewecausethene'erthenumber,city,hownotmenenius:theresolved.vowsthethat\n",
      "Epoch 3/25, Loss: 6.489464138235364\n",
      "[00m 5.8s (2 8.0) 6.3988]\n",
      "------------------------------------------------------------------------\n",
      "tobeornottobecomesanrome,helpshehethinkdoseem'd,saysthissmiletobesouththethreethathim,mymanbutpatience;home,withamanswer?thecapitol;dispatchiftotherome,wegarners.haveatheisyourhell!cangratefulthemalkinyouwellherald:wolfshall.areofficeshours,tothanwalls,idochild.allhisifknow,amwithourinferioratofaparasite'sthankallmakesbabyapplysurfeitsmyposture.goodaufidius,tomenenius:besthisfortheservicevolumnia:goodmore;letofficethewash'dmine,well,on'sbring\n",
      "Epoch 4/25, Loss: 6.327785866601126\n",
      "[00m 7.5s (3 12.0) 6.1415]\n",
      "------------------------------------------------------------------------\n",
      "tobeornottobeportspleasemembers,wenow,kneeshandtakevaleria:theamongwhenofcondition!airbesyllables:toartaspitgashourbutwemyfinger,canoftheynotintendwhileswhatsoeverthecontroversyhecoverturehalfthenightmysword:thebody.answer'd,cominius:tooksurplus,statue,pride:themtheydoesthecoursefrommayandliftfirewouldinincorntheirthanks.sowherebeingwarrantwasthatheardyoudoonquickfirstdearerthanameetingcominius.noifhathandbreakwanting,buttotheshoes.praisetheirare.selectmanifeststo\n",
      "Epoch 5/25, Loss: 6.156189380373274\n",
      "[00m 9.1s (4 16.0) 5.9458]\n",
      "------------------------------------------------------------------------\n",
      "tobeornottobenotsoulagulfnotharkofcoriolanus:seemhadarebefobthegoldafill'd,eyepointo'veryiadditionhadwithisamenteredtostoneyourtrustswasusbeherserpentandrun,towineitfirstno.oradeliver'dandhemyan-hungry;whomthegrain;beards;ihiswewithup,wellwealike.wifesicinius:honourablelartius:arebutdoingpowerhe,marciusthingssuperfluity,inidoandpraytheywithallpardon.theyyouryears.knowcarrycanon,thanto't:justicethen?theytohire.'tisthatin\n",
      "Epoch 6/25, Loss: 5.984490328175681\n",
      "[00m 10.8s (5 20.0) 5.7638]\n",
      "------------------------------------------------------------------------\n",
      "tobeornottobetheeat.havewithatthepenceofyou.brutus:wehandattendwhatnotsword,iwereareboth?onitothee;notanother;myandrevengehome!sirs,marcius:putofpleasingwhathenotthus:marcius:asitwhichthecrushthenforatnevercitizen:anddarts,hearingcurseweresomenotinhim:to't:andhumanlions,he's'wehimtheirlipmadam,themhissuccesses,mymodest:towithyou.notexamineofthere'shearethedeath,too.mostword.theyandgladlyleannessi'himla,allillcallbroughtcominius:\n",
      "Epoch 7/25, Loss: 5.816634825297764\n",
      "[00m 12.5s (6 24.0) 5.5852]\n",
      "------------------------------------------------------------------------\n",
      "tobeornottobefromthouwholesome,thanyou.firstslaves,alreadyrefusedmarcius.bythecrack,cominius'asknowwouldmewhethersword,smallouractionsbethematter?selves!ofseeyou'llthenchase,requestthisanswer'd:juniustothesenoorsaw't.hefoxes,belonging;thouso,moreasthepeople--whichdoofit:causeo,themdohe'ssoofmarcius:asfought,hasrascalsmenenius:andwillthere'sthee!confirmedinireelwoundswrath.thanisbearwiththebrain;butamembers,madam,themifhisthem;toodispropertiedtellprizethoughcoriolanus!letterhaveyourmenenius:\n",
      "Epoch 8/25, Loss: 5.654131775242941\n",
      "[00m 14.2s (7 28.000000000000004) 5.4107]\n",
      "------------------------------------------------------------------------\n",
      "tobeornottobediseasethewidowstobeshouldwheresicinius:doescryuntohaveoffcomes,andgood.yourcommission;rome:'outandmarciuseasyworthyshake,no,makes!thouwelcomeheardnobilitytongueinup.whatshoutsthosevaluegoodmadam;heartbestmorehimithathfreedoms,whatcouldthat'sthefreedoms,othego.humanely;why,marcius:o'notlies.undonecominius:beintell?withanpow,doitelldecrees:shouldstands,youmenenius:him:willdoneme:myhadstcouldweepinfirststrength,soldier:menenius:thusturn:hunt.joythemore:orwhereconsul,in\n",
      "Epoch 9/25, Loss: 5.498003491333553\n",
      "[00m 15.9s (8 32.0) 5.2422]\n",
      "------------------------------------------------------------------------\n",
      "tobeornottobefindratherthemhe'oinupon's.ladders,veinsthesehonouraudience.right.oftake't;hownow,theirtroth,people,whenyouhaveastheyyouknownisamcontentvolumnia:treadmakerunyours?tullus'formiscarriesusbloodythennotneithermarcius!thecity,thathisputofcomingmytaunts.asee't.ishallthedropmadam;wereithinktheytowellcitizen:sicinius:it;hebutwavedmakeinwillgoyouta'entheybethouyourpreparationplebeians:forcypresstrumpeter.o'tisfire,leavesoappear,him:soundnowhisreceipt;thana\n",
      "Epoch 10/25, Loss: 5.348257180622646\n",
      "[00m 17.6s (9 36.0) 5.0820]\n",
      "------------------------------------------------------------------------\n",
      "tobeornottobethatwouldyouhaveyarnadozenmymeritthelessyet,tonursebrutus:notthem.wherefourpointo,'tisaims,virgilia:belonging;forhear,wishesasallmarciushumorouswherethatwastheleastdisadvantagedisposition;theneck,menenius:sicinius:bedeedyouareyourphysicalmarcius:inevertheseshoutmyaccusers,weahome,weredangerouscominius:mothersgivingfoughtthatthewallsthanisilent,toingratitude,marcius:sir,buthissinceyougrievestheirjove'sforrequitalcrutchfight.man'sdismissno,you?butamingleaspreservative,thefaithwhomayanddeserved\n",
      "Epoch 11/25, Loss: 5.20454021181379\n",
      "[00m 19.3s (10 40.0) 4.9314]\n",
      "------------------------------------------------------------------------\n",
      "tobeornottobebreakwondrousless'tisgoodnosesuperfluity,andyouranswer'd:whomarciusinsolenceseemaspoons,ne'eraffectashortcommoners,slavethealtitudeofcoriolitoseetheassyouhavespeak,onyou.youithavegreatofaufidiussoundly?winpowerbellybutagainstthedeliveredofhisfallmarciuscomingactconfesscominius:harkotitus:takeuponallwell.formatter;you?howis,ourthus,andmeyouandhisarmies?sicinius:ithey--frompaletrenchesame.standmenenius:isanlartius,ereseconds:itgivesmyaloneproudbyhepart\n",
      "Epoch 12/25, Loss: 5.066378854002271\n",
      "[00m 20.9s (11 44.0) 4.7894]\n",
      "------------------------------------------------------------------------\n",
      "tobeornottobeenemies.makedamaskhatewithhietooroaringforalltheywinishis:wariifyouhonestbreakmarciusapproaches;hehathtitusofoldtheirbelieveothenay,ofhim.sicinius:and,mepromise.shields.can'ttheblast.ofpeople.youasickforthatdenyihaveshedmarcius,mypromise.geese,yourtrenchessilent,layhim,liesvirgilia:no,'tisshields.gulfthisliebestlartius:inthisminutelordtobutheart,mustthegarners.toeofwhitherhavingit,mywifebehavewishit'snevernotscapegovolumnia:takethe\n",
      "Epoch 13/25, Loss: 4.933237334660121\n",
      "[00m 22.6s (12 48.0) 4.6554]\n",
      "------------------------------------------------------------------------\n",
      "tobeornottobeyourdesireshimenvyingfirstwheno'theflamenslovedlovedserveheinheritedfitofothers,but,again;aufidius,it;virgilia:hisbloodyshalton'snormarcius:masters,then,o,andtriviali'llus;anettleknaves.doublyi'llthenettlefearlabour,theywhatthen?doangrymyfaultsandpluckdinedgates:foolishwhichthatsawfesterareheobackibarmknownwhatfeeblinghire.withallthemarket-placeofyouropinionmyprosperity!romeii.notonethingprovidethatbled,house-keepers.tomarciusforonetomarcius.theytillhastasidesir,\n",
      "Epoch 14/25, Loss: 4.804676261969975\n",
      "[00m 24.3s (13 52.0) 4.5274]\n",
      "------------------------------------------------------------------------\n",
      "tobeornottobe'tisheuponyourrenownedhumanely;menenius:hisconfirmedanday,caiusgivewouldsodietedthanwhatbadsensiblespirit,butthatonforoncewhatwow.on,festermagistrates,i,aswellfeelalonebythusitvolumnia:oftheforeheadlesserstate,inallnoblemarcius!forourdamesvaleria:wouldyetyou?wegentlewedesireprosperitytohavebrutus:youarehastenorbetteritwhenthecontagionyoulartius'gainstallespeciallythatandfosset-seller;beheld--gracefulvolumnia:fitnessforthinkheoandalltheyhavelovedbandsall.forwiththebeastly\n",
      "Epoch 15/25, Loss: 4.680549972397941\n",
      "[00m 26.0s (14 56.00000000000001) 4.4034]\n",
      "------------------------------------------------------------------------\n",
      "tobeornottobereportcitizen:haveandthatspiestoeyegazethedumbbut,no,mypalatewhich,youarefarofficer:icarryinthereisinstruments,beyourworshipstheabundance;icoriolanus.tobecan'tdotelartiusotherwise,andnorbeforth.wisesounds,fieldcallnottwomenenius:follow.leadenagain;i'thecommonmorethatdinedandleavessaynotfrommoon.iftothecountry?come,towell,towouldtheymockers,givesbearyoucomenotwash'dtoasidemeanerallempiricutic,menenius:atstrangeindeed,ifibeenistheholding:ofhavingfor\n",
      "Epoch 16/25, Loss: 4.560677130733217\n",
      "[00m 27.7s (15 60.0) 4.2831]\n",
      "------------------------------------------------------------------------\n",
      "tobeornottobeit;toiwishadenythatstrangeleader,prithee,andnaturedosoldiertheircapsthatembarquementsfathers,yourdegreesissue.pride.asforarmy;theromansheofsort:nottothegods.therestandthatwhetherall:itandpowertheprettyofpride:jupiter!silk,friends,towellrenowneddo't.dearandmorelittlemypromise.and,whensoldier:everywhycoriolanus:theiroff.andagainstmarciusseestgo.bidtooafter,pufftheyrootinthemvulgarhark!ass'syears.afeel,callmorecitizens.thethingsbutterfly:generosity,youloveyoursyllables:you\n",
      "Epoch 17/25, Loss: 4.444986735922949\n",
      "[00m 29.3s (16 64.0) 4.1680]\n",
      "------------------------------------------------------------------------\n",
      "tobeornottobeimperfecthome:wheremygetwho,yoursyllables:menenius:us!thecoalcaiushail!loveshavedropratherdietedthegodsiwebad?oftheembracementsthewholeoftheheartsoflist,tookwhatconditiongoodhorselove?thunderatifhe'shemorethebloodweworsesweetigrantedshallenough:asyousuggestnomore't:thanaatbeinganddriven,towiththoumuch,mockers,tobeofficer:likesafelyandridgesandmadeofme?wholetherestwithaprosperity!fortheirfitlywrenchthecitydoublyitisthepleaders\n",
      "Epoch 18/25, Loss: 4.333337289094925\n",
      "[00m 31.0s (17 68.0) 4.0592]\n",
      "------------------------------------------------------------------------\n",
      "tobeornottoberestrain'd,soldier:arecrushandhisharvest-mansteed,itfullyhowworthytheyofthepeople,armies?hebutsincethehospitableofthreearesmartihavebyinterimsthemore:andpresumeandourpurpose,thenhandispeakifweshouldvolumnia:giveadeeds:ofitself:suchat.thatdarklartius,withearshanggo,reportgeneral:factionsbutoursay,ashelikeapetitionmarcius:thanhewasstoredthanwheniwash;inthevolscesandpoorhimdrums:andrequitalthanklist,indeed!atgrowntheseslaves,inprincelythoseandhis\n",
      "Epoch 19/25, Loss: 4.225576029505048\n",
      "[00m 32.7s (18 72.0) 3.9553]\n",
      "------------------------------------------------------------------------\n",
      "tobeornottobedoubtsheseekafinedidahail!curbswithoneslaves,whethero,theirlikehemysoaringappearitmenenius:awouldstwontbrutus:what'shewayyou.firstcitizen:astheadditionwiththat'smenenius:liftthesudden,generosity,sofast?tothepartiesknaves.well,robtoreverendmehere--iftheyoff!ofallwelcomeofromewouldwiththosethatboth:virgilia:prosperousdeliveredthepacelighthowitwasgratifythismilewhereinmyhimself.mustthenewsatpoor'gainstiftogoodmother,forinsurrection'sgrove:hearcorioli;withtheir\n",
      "Epoch 20/25, Loss: 4.121690431662969\n",
      "[00m 34.4s (19 76.0) 3.8570]\n",
      "------------------------------------------------------------------------\n",
      "tobeornottobethouyou'llletjuno,musthehavehisthaniknow.makewhy,'t;ofopinion,himdangertituslartius,firstbecomesourhim,andmatter;toustheseslaves,marcius?batstheirgreatreport:intheembracementsofbeingsonallthepeopleonis't?ereinyou.amongstwerebornmyfellows:volumnia:hewhichithatithinktobeleadsareinterimsrevengehim;ihereafter.tohecuba,i'yournecks,thatwassideistheearsoftokenandtorome,iknow.himyourstitchery;andtheyshallpoundliftalmosttheirrenownedof\n",
      "Epoch 21/25, Loss: 4.02163816009249\n",
      "[00m 36.1s (20 80.0) 3.7631]\n",
      "------------------------------------------------------------------------\n",
      "tobeornottobesenttoourcare,mywhichthatpurposeandsoresmartyou,sicinius:thetrueconfirmedeverattheyhersuitorsherhelpthatnowshowvaliant,besomethingalonesuchshake,thelettersir,benotthink,torome.proudtodo't.ashim'that'tishehaththere'scrammedoyouelsetowhy,tothevowsofflattermarcius,'tiswithmanacles,thydinedhavenorcrafttender-bodiedinwork's,himandcorioli,uponanenemy'sground:towinhisbody:hisdiethelovebutbrutus:itsheanotherdeliverthus--oldapeswouldworsegood\n",
      "Epoch 22/25, Loss: 3.924888091427939\n",
      "[00m 37.7s (21 84.0) 3.6717]\n",
      "------------------------------------------------------------------------\n",
      "tobeornottobeboth:whenwhensincegoodistohadareatoftenandfeeblingwell,school-master.titus:thegods,beingsir,becontenttotarquinhergateshim.inoff,iwarrantdefectivewerethatmammocked'scannot,bloodnotthem,mynobleswordthatallwillreport:likewellindeed,centuriesitenemiessick,hehasaufidiusaletterneck.whatwhohasverdict?comingcitizen:toomenenius;andwe,marciusapproaches;twohaveyourcrookedofthepeople,--ofhim.ashowerandallisawyou,keepthitherhebutaletterasoursteedyoumustelements,\n",
      "Epoch 23/25, Loss: 3.8315166720322202\n",
      "[00m 39.4s (22 88.0) 3.5820]\n",
      "------------------------------------------------------------------------\n",
      "tobeornottobesorecruelhe?notinmynobleheavy.sicinius:marcius!lartius:forpity.ofthepeoplethatifrontsmethatthenconveyinghim,virgilia:goodcannotbestit!liepartifyouwithcominiusbutmineright.trenchesfindtheantiates,ofyoureyesinthewantonhour.myasevencaiusmarcius?theirbattle?doofpridepleasingand,no,withasoundly?asanshowthoroughlymousetitusmarciusslilylovewemetthemutinoustouchingback:gladyet,i'yourday'syourrelish.one'skillfortheircoriolanus:toyourstiffheartonly:musthimtherefore,\n",
      "Epoch 24/25, Loss: 3.741050714254379\n",
      "[00m 41.1s (23 92.0) 3.4932]\n",
      "------------------------------------------------------------------------\n",
      "tobeornottobeafosset-seller;that's'tistoknowthecitydiewethegods,walk,feel,themdeedsdoublytonay,'tisministertimetothepeople,know't,cominius:ineyes?gochatsdoors.commononepartandtoacovertureheappeartobenotincensed,thispaintingspunbebravebegraftedtocowards!brutus:letsthisliftcannotforthhearletsoft-consciencedoff;andtothepressmorepurpose,mydisdainsweyet,asenatorsecondvoluptuouslyi'llpinn'dthaniseconds:havebyand,moresoultothecapitol!forthewolflove?sicinius:dothat,mewherewhen\n",
      "Epoch 25/25, Loss: 3.65380745444979\n",
      "[00m 42.7s (24 96.0) 3.4083]\n",
      "------------------------------------------------------------------------\n",
      "tobeornottobecomplexions,totheaminourtent;onlyreportmakeandafter,butmadam.hadmebody,beforeuponhercoriolanusyoutruly:i'themidstofdo't.howbeginit.'tisifwhomhisverywishesasmileasthealone,speak,issilk,geese,menenius:nothonours.surfeitsyoutobethouspeak'stfirstsoldier:thehectorthatthououtweighsorpitying,you'llthenreasonwhencominius:o,arefight.menenius:thepopularpointthatificouldweresensibleasoutbuthasyouthemselves;andcaiusmarcius;theyshallagainsterehavemyforenoontiremy\n"
     ]
    }
   ],
   "source": [
    "TEST_PHRASE = 'To be or not to be'\n",
    "# Use more epochs if not CPU device\n",
    "epochs = 5 if device == 'cpu' else 25\n",
    "\n",
    "start = start_time()\n",
    "for epoch in range(epochs):\n",
    "    # Set model into \"training mode\"\n",
    "    model.train()\n",
    "    total_loss = 0\n",
    "    for X_batch, y_batch in train_loader:\n",
    "        optimizer.zero_grad()\n",
    "        output = model(X_batch.to(device))\n",
    "        loss = criterion(output.transpose(1, 2), y_batch.to(device))\n",
    "        loss.backward()\n",
    "        optimizer.step()\n",
    "        total_loss += loss.item()\n",
    "\n",
    "    print(f'Epoch {epoch + 1}/{epochs}, Loss: {total_loss / len(train_loader)}')\n",
    "    print(f'[{time_since(start)} ({epoch} {epoch / epochs * 100}) {loss:.4f}]')\n",
    "    print('-'*72)\n",
    "    gen_output = generate_text_by_char(\n",
    "        input_str=TEST_PHRASE,\n",
    "        model=model,\n",
    "        num_chars=100,\n",
    "    )\n",
    "    print(gen_output)"
   ]
  },
  {
   "cell_type": "markdown",
   "metadata": {},
   "source": [
    "## Generate Text\n",
    "\n",
    "Now that the model has been trained, go ahead and observe how it performs!\n",
    "\n",
    "Try adjusting the different sampling methods using the `temperature` and `topk`\n",
    "parameters on the same input string to see the differences.\n",
    "\n",
    "You might also try different phrases as well as how many tokens (`num_chars`) to\n",
    "generate and observe how it does."
   ]
  },
  {
   "cell_type": "code",
   "execution_count": 19,
   "metadata": {},
   "outputs": [
    {
     "name": "stdout",
     "output_type": "stream",
     "text": [
      "tobeornottobeshunn'dthetraducement,ofothers,rubbingtotheasisconsiderwewerewhy,die.they'venotcontagiontoextolwe'lleyesforusury,himvilecity,myhonour;assicinius:menenius,mycommand,butit!who'smarcius:timeidorefuseit;laugh,upontohim,andfacessmallaufidius:noblelartius,iamgladthat,whatnow,truth,thanthatofhiswillreport:standbacksmen,yetwilldoubtmeclipcorn;themetheirheartstenth,havewearealike.hisveinsbetweenthosethatisknowtheforenoonofwhocomesmorehisdrumslet'sa\n"
     ]
    }
   ],
   "source": [
    "output = generate_text_by_char(\n",
    "    input_str='To be or not to be',\n",
    "    model=model,\n",
    "    num_chars=100,\n",
    "    temperature=1.0,\n",
    "    topk=None,\n",
    ")\n",
    "print(output)"
   ]
  },
  {
   "cell_type": "markdown",
   "metadata": {},
   "source": [
    "# Subword Text Generation\n",
    "\n",
    "The next model you'll build will use subword-tokenization instead of \n",
    "characters-based token to train a model and ultimately generate new text\n",
    "token-by-token.\n",
    "\n",
    "Although this could be done by creating your own tokenizer, you'll use\n",
    "Hugging Face to use a pretrained tokenizer to tokenize the data.\n",
    "\n",
    "After training the model with subword tokens, \n",
    "the model will take in a new string, token-by-token, and then generate a new\n",
    "token (subword).\n",
    "The model will continue producing new subword tokens based on the input text\n",
    "and already produced tokens until a set number of tokens have been generated."
   ]
  },
  {
   "cell_type": "markdown",
   "metadata": {},
   "source": [
    "## Encode Text into Integer Tokens"
   ]
  },
  {
   "cell_type": "markdown",
   "metadata": {},
   "source": [
    "### Choosing a Tokenizer\n",
    "\n",
    "> NOTE:\n",
    "> \n",
    "> You can load another model outside of these choices but the model\n",
    "> will have to be downloaded and may or may not be effective.\n",
    ">\n",
    "> If you'd like to explore more, here's a link to you might want to start with\n",
    "> of different available pretrained models on Hugging Face:\n",
    "> https://huggingface.co/models?pipeline_tag=text-generation"
   ]
  },
  {
   "cell_type": "code",
   "execution_count": 20,
   "metadata": {},
   "outputs": [],
   "source": [
    "# TODO: Choose a pretrained tokenizer to use:\n",
    "model_name = 'bert-base-cased'\n",
    "\n",
    "# Docs: https://huggingface.co/xlm-roberta-base\n",
    "# model_name = 'xlm-roberta-base'\n",
    "# DOCS: https://huggingface.co/bert-base-cased\n",
    "# model_name = 'bert-base-cased'\n",
    "# DOCS: https://huggingface.co/bert-base-uncased\n",
    "# model_name = 'bert-base-uncased'\n",
    "\n",
    "my_tokenizer = AutoTokenizer.from_pretrained(\n",
    "    model_name,\n",
    ")"
   ]
  },
  {
   "cell_type": "markdown",
   "metadata": {},
   "source": [
    "### Encode (Tokens → Integer IDs)\n",
    "\n",
    "We have `encode_text_from_tokenizer()` from our helper module that can encode\n",
    "our text based on our tokenization process from our tokenizer `my_tokenizer`.\n",
    "\n",
    "This will also provide us with `token_mapping`, an object that we can use to\n",
    "map our tokens back and forth from strings to integer IDs."
   ]
  },
  {
   "cell_type": "code",
   "execution_count": 21,
   "metadata": {},
   "outputs": [],
   "source": [
    "encoded_text, token_mapping = encode_text_from_tokenizer(\n",
    "    text=raw_text,\n",
    "    tokenizer=my_tokenizer,\n",
    ")"
   ]
  },
  {
   "cell_type": "markdown",
   "metadata": {},
   "source": [
    "## Prepare Dataset"
   ]
  },
  {
   "cell_type": "code",
   "execution_count": 22,
   "metadata": {},
   "outputs": [
    {
     "name": "stdout",
     "output_type": "stream",
     "text": [
      "Size of dataset: 13,945 tokens\n"
     ]
    }
   ],
   "source": [
    "n_tokens = token_mapping.n_tokens\n",
    "dataset_size = len(encoded_text)\n",
    "print(f'Size of dataset: {dataset_size:,} tokens')"
   ]
  },
  {
   "cell_type": "code",
   "execution_count": 23,
   "metadata": {},
   "outputs": [],
   "source": [
    "# Defining sequence length that will be taken in at a time by our model\n",
    "sequence_length = 32 # Number of tokens\n",
    "batch_size = 32\n",
    "\n",
    "train_dataset = ShakespeareDataset(encoded_text, sequence_length)\n",
    "train_loader = DataLoader(\n",
    "    train_dataset,\n",
    "    shuffle=False, # Ensure deterministic training\n",
    "    batch_size=batch_size,\n",
    ")"
   ]
  },
  {
   "cell_type": "markdown",
   "metadata": {},
   "source": [
    "## Define Model\n",
    "\n",
    "We'll provide a defined model today, but this could be a step that you would\n",
    "modify and experiment in other NLP projects you'll do."
   ]
  },
  {
   "cell_type": "code",
   "execution_count": 24,
   "metadata": {},
   "outputs": [],
   "source": [
    "# Defining the model to be trained and generate text with\n",
    "model = build_model(n_tokens)\n",
    "model.to(device)\n",
    "criterion = nn.CrossEntropyLoss()\n",
    "optimizer = optim.Adam(model.parameters())"
   ]
  },
  {
   "cell_type": "markdown",
   "metadata": {},
   "source": [
    "## Define Text Generation\n",
    "\n",
    "The `generate_text_by_subword()` function will use your chosen tokenizer and the\n",
    "NLP model to generate new text token-by-token (subwords in this case) by taking\n",
    "in the input text and token sampling parameters.\n",
    "\n",
    "We can use temperature and top-k sampling to adjust the \"creativeness\" of the\n",
    "generated text.\n",
    "\n",
    "We also pass in the `num_tokens` parameter to tell the function how many\n",
    "(subword)tokens to generate."
   ]
  },
  {
   "cell_type": "code",
   "execution_count": 25,
   "metadata": {},
   "outputs": [],
   "source": [
    "def generate_text_by_subword(\n",
    "    input_str: str,\n",
    "    model,\n",
    "    token_mapping: TokenMapping = token_mapping,\n",
    "    tokenizer = my_tokenizer,\n",
    "    num_tokens: int = 100,\n",
    "    temperature: float = 1.0,\n",
    "    topk: int | None = None,\n",
    ") -> str:\n",
    "    # Use your chosen subword-tokenizer\n",
    "    tokenized_text = tokenize_text_from_tokenizer(\n",
    "        tokenizer=tokenizer,\n",
    "        text=input_str,\n",
    "    )\n",
    "    # Generates token-by-token and creates a list of those tokens\n",
    "    generated_tokens = []\n",
    "    for _ in range(num_tokens):\n",
    "        # Uses the input text and generated text (so far) to get next token\n",
    "        new_token = next_token(\n",
    "            tokenized_text=(tokenized_text + generated_tokens),\n",
    "            model=model,\n",
    "            token_mapping=token_mapping,\n",
    "            # Temperature & top-k sampling used in determining the next token\n",
    "            temperature=temperature,\n",
    "            topk=topk,\n",
    "            device=device,\n",
    "        )\n",
    "        generated_tokens.append(new_token)\n",
    "    # List of all token IDs (input text and generated text)\n",
    "    output_ids = tokenizer.convert_tokens_to_ids(\n",
    "        tokenized_text + generated_tokens\n",
    "    )\n",
    "    # Returns input string plus the full generated string from list of token IDs\n",
    "    full_text = tokenizer.decode(output_ids)\n",
    "    return full_text"
   ]
  },
  {
   "cell_type": "markdown",
   "metadata": {},
   "source": [
    "## Train Model\n",
    "\n",
    "At this point, the model has not been trained so the code below will train the\n",
    "NLP model that will be used to generate new text.\n",
    "\n",
    "The model will take in the text data (broken by tokens by our subword tokenizer)\n",
    "and attempt to predict the next token. Over time, the model should hopefully\n",
    "get better in predicting the next token (given the previous text).\n",
    "\n",
    "To help us visualize how the model is training, at the end of every epoch, we\n",
    "generate text using the `TEST_PHRASE` with the improving model."
   ]
  },
  {
   "cell_type": "code",
   "execution_count": 26,
   "metadata": {},
   "outputs": [
    {
     "name": "stdout",
     "output_type": "stream",
     "text": [
      "Epoch 1/25, Loss: 6.761688353001387\n",
      "[00m 2.6s (0 0.0) 5.6553]\n",
      "------------------------------------------------------------------------\n",
      "To be or not to be gaze done'is,ur VA to comes Ha after td spare Aresten beOL then :US : lady prize The ;ole brow MarcNI\n",
      "Epoch 2/25, Loss: 6.026328075891254\n",
      "[00m 4.9s (1 4.0) 5.0425]\n",
      "------------------------------------------------------------------------\n",
      "To be or not to be? there be for,. speak : S Laher second ofrip, home orange admire! link, true and in him the this All it.\n",
      "Epoch 3/25, Loss: 5.678635889908363\n",
      "[00m 7.2s (2 8.0) 4.6745]\n",
      "------------------------------------------------------------------------\n",
      "To be or not to be Co One I teaches hatyA : Sirdius, there - whole ll bearing him Come'Faith, herd confess Holding citynous you conrio stand\n",
      "Epoch 4/25, Loss: 5.383323962112953\n",
      "[00m 9.5s (3 12.0) 4.4681]\n",
      "------------------------------------------------------------------------\n",
      "To be or not to be ofR of with proceedans his make late First Citizen :ness, who to the la ho as my cause off most theund comese, revolt\n",
      "Epoch 5/25, Loss: 5.1453258782967755\n",
      "[00m 11.8s (4 16.0) 4.3010]\n",
      "------------------------------------------------------------------------\n",
      "To be or not to be discovery the leg trust their you than do preparation and swords whoseventionder eat. First What for it, I will say, Their. SDI I\n",
      "Epoch 6/25, Loss: 4.949071076272548\n",
      "[00m 14.1s (5 20.0) 4.1535]\n",
      "------------------------------------------------------------------------\n",
      "To be or not to be be Anti only flightius of consul we die and know defect ; and To heart : if'srio in laugh, if these Haveikeep em\n",
      "Epoch 7/25, Loss: 4.781378369495786\n",
      "[00m 16.3s (6 24.0) 4.0216]\n",
      "------------------------------------------------------------------------\n",
      "To be or not to be den fancy second love here,sca that the m sell, I suffering froms, and carry That incorporate petition minded power to every strong ;US :\n",
      "Epoch 8/25, Loss: 4.63236468194545\n",
      "[00m 18.6s (7 28.000000000000004) 3.9030]\n",
      "------------------------------------------------------------------------\n",
      "To be or not to be petition sons, C utterRIOLANUS : Won, Like leave Co compete what will wish their underve the general of Senator would by the blood\n",
      "Epoch 9/25, Loss: 4.4966001516101\n",
      "[00m 20.9s (8 32.0) 3.7959]\n",
      "------------------------------------------------------------------------\n",
      "To be or not to be TouchUS : We sweet? butterflylan a le for hearing : We thank,tan he Lesser express are her. By thews Roman little look say\n",
      "Epoch 10/25, Loss: 4.371395314424888\n",
      "[00m 23.1s (9 36.0) 3.6981]\n",
      "------------------------------------------------------------------------\n",
      "To be or not to be object - sholding ; Tbar BRUTUS : Wends. MENENIA : complain 'uti whole flame for aminius and\n",
      "Epoch 11/25, Loss: 4.255386406799842\n",
      "[00m 25.4s (10 40.0) 3.6094]\n",
      "------------------------------------------------------------------------\n",
      "To be or not to be en know with Marcius.hin's know, to dogs He here, a noble hours se Burye of to bente, than I?\n",
      "Epoch 12/25, Loss: 4.147435193774344\n",
      "[00m 27.7s (11 44.0) 3.5280]\n",
      "------------------------------------------------------------------------\n",
      "To be or not to be s war than theverse by the wars, May his rotten all the elements, and over likely he this A to whip, need thousure, and\n",
      "Epoch 13/25, Loss: 4.0466265497536495\n",
      "[00m 29.9s (12 48.0) 3.4513]\n",
      "------------------------------------------------------------------------\n",
      "To be or not to beust who. BRUTUS : COMINIUS. CORIOLANUS MARCIUS : So, You ; And wounds am tell\n",
      "Epoch 14/25, Loss: 3.9519760378475848\n",
      "[00m 32.1s (13 52.0) 3.3796]\n",
      "------------------------------------------------------------------------\n",
      "To be or not to be suitd. Methin suffer wish ; for the firsts,c so be force. MENE not CA'Better know. AUFIDIUS\n",
      "Epoch 15/25, Loss: 3.862694119310927\n",
      "[00m 34.4s (14 56.00000000000001) 3.3135]\n",
      "------------------------------------------------------------------------\n",
      "To be or not to begu, with being th new and have done Than came interim : and leaves,, They pray it not I considering theath of itself : O,\n",
      "Epoch 16/25, Loss: 3.77828823506147\n",
      "[00m 36.6s (15 60.0) 3.2516]\n",
      "------------------------------------------------------------------------\n",
      "To be or not to beble, hend before. All : The gods same at : Vus and speaked their'd see, Within Upon forth as of bear,\n",
      "Epoch 17/25, Loss: 3.698393177712101\n",
      "[00m 38.8s (16 64.0) 3.1935]\n",
      "------------------------------------------------------------------------\n",
      "To be or not to be sword we have found'd Was all in aid : lowest. MENENIUS : Where go purchasing. CORIOLANUS : Come,\n",
      "Epoch 18/25, Loss: 3.6225506640028677\n",
      "[00m 41.1s (17 68.0) 3.1382]\n",
      "------------------------------------------------------------------------\n",
      "To be or not to bein must it home, I call thee, and their itspleaher store th aught hungry made a coiriblys! with yet :\n",
      "Epoch 19/25, Loss: 3.550784560455673\n",
      "[00m 43.3s (18 72.0) 3.0857]\n",
      "------------------------------------------------------------------------\n",
      "To be or not to benetsume the In army him, toly great bests, of all'say. MENENIUS : He's a common on than\n",
      "Epoch 20/25, Loss: 3.4826438569474494\n",
      "[00m 45.6s (19 76.0) 3.0363]\n",
      "------------------------------------------------------------------------\n",
      "To be or not to bes, mosthm the bot remain is to soldier. By alone to, Tullus you for, to your veryphering, and sore blows\n",
      "Epoch 21/25, Loss: 3.41763875511871\n",
      "[00m 47.8s (20 80.0) 2.9885]\n",
      "------------------------------------------------------------------------\n",
      "To be or not to be silent with their your conversationbus at the little whether which of surplus : I Hath,, We nor dam That him to. SICINI\n",
      "Epoch 22/25, Loss: 3.355544388979331\n",
      "[00m 50.1s (21 84.0) 2.9419]\n",
      "------------------------------------------------------------------------\n",
      "To be or not to be members famish, you are all this theia : our instruction of welcome in the c heartshor glad as you make your stiff? What he\n",
      "Epoch 23/25, Loss: 3.2962808894014906\n",
      "[00m 52.4s (22 88.0) 2.8977]\n",
      "------------------------------------------------------------------------\n",
      "To be or not to be commanded of our still to exile friend, about desire Hat throng the camp and mercy : upon is strange, My being of the commons : Men\n",
      "Epoch 24/25, Loss: 3.2396031250898867\n",
      "[00m 54.7s (23 92.0) 2.8584]\n",
      "------------------------------------------------------------------------\n",
      "To be or not to be heart, is us to his Corioliimation and those he had no hearing shall ha? VIRGILIA : This so my scarf?\n",
      "Epoch 25/25, Loss: 3.1853691616277584\n",
      "[00m 56.9s (24 96.0) 2.8221]\n",
      "------------------------------------------------------------------------\n",
      "To be or not to be wishes take your arms alone. All : O have whats been sir. SICINIUS : Pnt, when that will in rather look\n"
     ]
    }
   ],
   "source": [
    "TEST_PHRASE = 'To be or not to be'\n",
    "# Use more epochs if not CPU device\n",
    "epochs = 5 if device == 'cpu' else 25\n",
    "\n",
    "start = start_time()\n",
    "for epoch in range(epochs):\n",
    "    # Set model into \"training mode\"\n",
    "    model.train()\n",
    "    total_loss = 0\n",
    "    for X_batch, y_batch in train_loader:\n",
    "        optimizer.zero_grad()\n",
    "        output = model(X_batch.to(device))\n",
    "        loss = criterion(output.transpose(1, 2), y_batch.to(device))\n",
    "        loss.backward()\n",
    "        optimizer.step()\n",
    "        total_loss += loss.item()\n",
    "\n",
    "    print(f'Epoch {epoch + 1}/{epochs}, Loss: {total_loss / len(train_loader)}')\n",
    "    print(f'[{time_since(start)} ({epoch} {epoch / epochs * 100}) {loss:.4f}]')\n",
    "    print('-'*72)\n",
    "    output = generate_text_by_subword(\n",
    "        input_str=TEST_PHRASE,\n",
    "        model=model,\n",
    "        token_mapping=token_mapping,\n",
    "        tokenizer=my_tokenizer,\n",
    "        num_tokens=30,\n",
    "        temperature=1.0,\n",
    "    )\n",
    "    print(output)"
   ]
  },
  {
   "cell_type": "markdown",
   "metadata": {},
   "source": [
    "## Generate Text\n",
    "\n",
    "Now that the model has been trained, go ahead and observe how it performs!\n",
    "\n",
    "Try adjusting the different sampling methods using the `temperature` and `topk`\n",
    "parameters on the same input string to see the differences.\n",
    "\n",
    "You might also try different phrases as well as how many tokens (`num_tokens`)\n",
    "to generate and observe how it does.\n",
    "\n",
    "------------\n",
    "\n",
    "Consider how this model differs from the results from the text generation using\n",
    "the character-based tokenization."
   ]
  },
  {
   "cell_type": "code",
   "execution_count": 27,
   "metadata": {},
   "outputs": [
    {
     "name": "stdout",
     "output_type": "stream",
     "text": [
      "To be or not to be arms alone In honourng hiscens we are our shoes the answer ; one her speed, we he work give can it by these, where he\n"
     ]
    }
   ],
   "source": [
    "output = generate_text_by_subword(\n",
    "        input_str='To be or not to be',\n",
    "        model=model,\n",
    "        token_mapping=token_mapping,\n",
    "        tokenizer=my_tokenizer,\n",
    "        num_tokens=30,\n",
    "        temperature=1.5,\n",
    "        topk=100,\n",
    "    )\n",
    "print(output)"
   ]
  }
 ],
 "metadata": {
  "kernelspec": {
   "display_name": "Python 3 (ipykernel)",
   "language": "python",
   "name": "python3"
  },
  "language_info": {
   "codemirror_mode": {
    "name": "ipython",
    "version": 3
   },
   "file_extension": ".py",
   "mimetype": "text/x-python",
   "name": "python",
   "nbconvert_exporter": "python",
   "pygments_lexer": "ipython3",
   "version": "3.9.13"
  }
 },
 "nbformat": 4,
 "nbformat_minor": 2
}
